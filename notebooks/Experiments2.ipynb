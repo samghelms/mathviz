{
 "cells": [
  {
   "cell_type": "code",
   "execution_count": 8,
   "metadata": {},
   "outputs": [
    {
     "name": "stdout",
     "output_type": "stream",
     "text": [
      "OK UNTIL NOW\n",
      "STUCK HERE\n",
      "OK\n"
     ]
    },
    {
     "name": "stderr",
     "output_type": "stream",
     "text": [
      "127.0.0.1 - - [04/Nov/2017 11:23:19] \"GET / HTTP/1.1\" 200 -\n",
      "127.0.0.1 - - [04/Nov/2017 11:23:19] code 404, message File not found\n",
      "127.0.0.1 - - [04/Nov/2017 11:23:19] \"GET /favicon.ico HTTP/1.1\" 404 -\n",
      "127.0.0.1 - - [04/Nov/2017 11:23:21] \"GET /setup.cfg HTTP/1.1\" 200 -\n",
      "127.0.0.1 - - [04/Nov/2017 11:23:25] \"GET / HTTP/1.1\" 200 -\n",
      "127.0.0.1 - - [04/Nov/2017 11:23:29] \"GET / HTTP/1.1\" 200 -\n"
     ]
    }
   ],
   "source": [
    "import threading\n",
    "from SimpleHTTPServer import SimpleHTTPRequestHandler\n",
    "from BaseHTTPServer import HTTPServer\n",
    "\n",
    "server = HTTPServer(('', 8082), SimpleHTTPRequestHandler)\n",
    "print 'OK UNTIL NOW'\n",
    "thread = threading.Thread(target = server.serve_forever)\n",
    "print 'STUCK HERE'\n",
    "thread.setdaemon = True\n",
    "try:\n",
    "    thread.start()\n",
    "except KeyboardInterrupt:\n",
    "    server.shutdown()\n",
    "    sys.exit(0)\n",
    "\n",
    "print 'OK'\n"
   ]
  },
  {
   "cell_type": "code",
   "execution_count": 9,
   "metadata": {},
   "outputs": [],
   "source": [
    "server.shutdown()"
   ]
  },
  {
   "cell_type": "code",
   "execution_count": null,
   "metadata": {},
   "outputs": [],
   "source": []
  }
 ],
 "metadata": {
  "kernelspec": {
   "display_name": "Python 2",
   "language": "python",
   "name": "python2"
  },
  "language_info": {
   "codemirror_mode": {
    "name": "ipython",
    "version": 2
   },
   "file_extension": ".py",
   "mimetype": "text/x-python",
   "name": "python",
   "nbconvert_exporter": "python",
   "pygments_lexer": "ipython2",
   "version": "2.7.10"
  }
 },
 "nbformat": 4,
 "nbformat_minor": 2
}
