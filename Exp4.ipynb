{
 "cells": [
  {
   "cell_type": "code",
   "execution_count": 1,
   "metadata": {},
   "outputs": [
    {
     "name": "stdout",
     "output_type": "stream",
     "text": [
      "error with: notebooks/data/1601/1601.06597.json\n"
     ]
    }
   ],
   "source": [
    "import pandas as pd\n",
    "import numpy as np\n",
    "from notebooks.utils import read_file, tokenize_latex\n",
    "df = read_file(\"notebooks/data/1601/*\")\n",
    "df[\"processed\"] = df[\"text\"].apply(lambda x: tokenize_latex(x))\n"
   ]
  },
  {
   "cell_type": "code",
   "execution_count": 2,
   "metadata": {
    "scrolled": true
   },
   "outputs": [
    {
     "name": "stderr",
     "output_type": "stream",
     "text": [
      "2017-11-08 23:09:09,770 : INFO : adding document #0 to Dictionary(0 unique tokens: [])\n",
      "2017-11-08 23:09:10,318 : INFO : adding document #10000 to Dictionary(19919 unique tokens: [u'\\\\xi\\\\leq', u'4E+6F', u'0.000004', u'20\\\\%', u'i|S']...)\n",
      "2017-11-08 23:09:10,880 : INFO : adding document #20000 to Dictionary(33619 unique tokens: [u'\\\\xi\\\\leq', u'eF', u'q-1', u'q-2', u'+i+1']...)\n",
      "2017-11-08 23:09:11,408 : INFO : adding document #30000 to Dictionary(45883 unique tokens: [u'\\\\xi\\\\leq', u'eF', u'-5AB\\\\sqrt', u'JN2', u'q-1']...)\n",
      "2017-11-08 23:09:11,951 : INFO : adding document #40000 to Dictionary(57458 unique tokens: [u'\\\\xi\\\\leq', u'eF', u'-5AB\\\\sqrt', u'JN2', u'q-1']...)\n",
      "2017-11-08 23:09:12,509 : INFO : adding document #50000 to Dictionary(70025 unique tokens: [u'\\\\xi\\\\leq', u'eF', u'homomorphism', u'-5AB\\\\sqrt', u'JN2']...)\n",
      "2017-11-08 23:09:12,881 : INFO : built Dictionary(76641 unique tokens: [u'\\\\xi\\\\leq', u'eF', u'homomorphism', u'-5AB\\\\sqrt', u'JN2']...) from 56379 documents (total 3723199 corpus positions)\n",
      "2017-11-08 23:09:15,612 : INFO : storing corpus in Matrix Market format to /tmp/equations.mm\n",
      "2017-11-08 23:09:15,614 : INFO : saving sparse matrix to /tmp/equations.mm\n",
      "2017-11-08 23:09:15,616 : INFO : PROGRESS: saving document #0\n",
      "2017-11-08 23:09:15,789 : INFO : PROGRESS: saving document #1000\n",
      "2017-11-08 23:09:15,938 : INFO : PROGRESS: saving document #2000\n",
      "2017-11-08 23:09:16,093 : INFO : PROGRESS: saving document #3000\n",
      "2017-11-08 23:09:16,253 : INFO : PROGRESS: saving document #4000\n",
      "2017-11-08 23:09:16,409 : INFO : PROGRESS: saving document #5000\n",
      "2017-11-08 23:09:16,587 : INFO : PROGRESS: saving document #6000\n",
      "2017-11-08 23:09:16,771 : INFO : PROGRESS: saving document #7000\n",
      "2017-11-08 23:09:16,932 : INFO : PROGRESS: saving document #8000\n",
      "2017-11-08 23:09:17,076 : INFO : PROGRESS: saving document #9000\n",
      "2017-11-08 23:09:17,240 : INFO : PROGRESS: saving document #10000\n",
      "2017-11-08 23:09:17,396 : INFO : PROGRESS: saving document #11000\n",
      "2017-11-08 23:09:17,549 : INFO : PROGRESS: saving document #12000\n",
      "2017-11-08 23:09:17,720 : INFO : PROGRESS: saving document #13000\n",
      "2017-11-08 23:09:17,898 : INFO : PROGRESS: saving document #14000\n",
      "2017-11-08 23:09:18,083 : INFO : PROGRESS: saving document #15000\n",
      "2017-11-08 23:09:18,284 : INFO : PROGRESS: saving document #16000\n",
      "2017-11-08 23:09:18,505 : INFO : PROGRESS: saving document #17000\n",
      "2017-11-08 23:09:18,735 : INFO : PROGRESS: saving document #18000\n",
      "2017-11-08 23:09:19,008 : INFO : PROGRESS: saving document #19000\n",
      "2017-11-08 23:09:19,303 : INFO : PROGRESS: saving document #20000\n",
      "2017-11-08 23:09:19,575 : INFO : PROGRESS: saving document #21000\n",
      "2017-11-08 23:09:19,789 : INFO : PROGRESS: saving document #22000\n",
      "2017-11-08 23:09:19,957 : INFO : PROGRESS: saving document #23000\n",
      "2017-11-08 23:09:20,147 : INFO : PROGRESS: saving document #24000\n",
      "2017-11-08 23:09:20,405 : INFO : PROGRESS: saving document #25000\n",
      "2017-11-08 23:09:20,603 : INFO : PROGRESS: saving document #26000\n",
      "2017-11-08 23:09:20,788 : INFO : PROGRESS: saving document #27000\n",
      "2017-11-08 23:09:20,944 : INFO : PROGRESS: saving document #28000\n",
      "2017-11-08 23:09:21,110 : INFO : PROGRESS: saving document #29000\n",
      "2017-11-08 23:09:21,314 : INFO : PROGRESS: saving document #30000\n",
      "2017-11-08 23:09:21,538 : INFO : PROGRESS: saving document #31000\n",
      "2017-11-08 23:09:21,734 : INFO : PROGRESS: saving document #32000\n",
      "2017-11-08 23:09:21,898 : INFO : PROGRESS: saving document #33000\n",
      "2017-11-08 23:09:22,046 : INFO : PROGRESS: saving document #34000\n",
      "2017-11-08 23:09:22,190 : INFO : PROGRESS: saving document #35000\n",
      "2017-11-08 23:09:22,328 : INFO : PROGRESS: saving document #36000\n",
      "2017-11-08 23:09:22,469 : INFO : PROGRESS: saving document #37000\n",
      "2017-11-08 23:09:22,624 : INFO : PROGRESS: saving document #38000\n",
      "2017-11-08 23:09:22,779 : INFO : PROGRESS: saving document #39000\n",
      "2017-11-08 23:09:22,910 : INFO : PROGRESS: saving document #40000\n",
      "2017-11-08 23:09:23,059 : INFO : PROGRESS: saving document #41000\n",
      "2017-11-08 23:09:23,216 : INFO : PROGRESS: saving document #42000\n",
      "2017-11-08 23:09:23,351 : INFO : PROGRESS: saving document #43000\n",
      "2017-11-08 23:09:23,489 : INFO : PROGRESS: saving document #44000\n",
      "2017-11-08 23:09:23,630 : INFO : PROGRESS: saving document #45000\n",
      "2017-11-08 23:09:23,781 : INFO : PROGRESS: saving document #46000\n",
      "2017-11-08 23:09:23,951 : INFO : PROGRESS: saving document #47000\n",
      "2017-11-08 23:09:24,109 : INFO : PROGRESS: saving document #48000\n",
      "2017-11-08 23:09:24,265 : INFO : PROGRESS: saving document #49000\n",
      "2017-11-08 23:09:24,424 : INFO : PROGRESS: saving document #50000\n",
      "2017-11-08 23:09:24,562 : INFO : PROGRESS: saving document #51000\n",
      "2017-11-08 23:09:24,728 : INFO : PROGRESS: saving document #52000\n",
      "2017-11-08 23:09:24,871 : INFO : PROGRESS: saving document #53000\n",
      "2017-11-08 23:09:25,017 : INFO : PROGRESS: saving document #54000\n",
      "2017-11-08 23:09:25,169 : INFO : PROGRESS: saving document #55000\n",
      "2017-11-08 23:09:25,381 : INFO : PROGRESS: saving document #56000\n",
      "2017-11-08 23:09:25,455 : INFO : saved 56379x76641 matrix, density=0.032% (1388440/4320942939)\n",
      "2017-11-08 23:09:25,466 : INFO : saving MmCorpus index to /tmp/equations.mm.index\n"
     ]
    },
    {
     "name": "stdout",
     "output_type": "stream",
     "text": [
      "[[(2, 1), (4, 1), (5, 1), (6, 3), (8, 1), (11, 3), (14, 1), (15, 3), (16, 4), (17, 3), (21, 2), (23, 6), (25, 6), (26, 1), (27, 1), (28, 1)], [(2, 1), (3, 1), (4, 1), (5, 1), (6, 5), (7, 1), (8, 2), (11, 3), (14, 1), (15, 2), (16, 3), (17, 5), (18, 1), (19, 4), (21, 2), (23, 7), (24, 1), (25, 7), (27, 2), (29, 1), (30, 1), (31, 1)], [(1, 1), (2, 1), (4, 1), (5, 1), (8, 1), (10, 1), (14, 1), (16, 2), (17, 1), (21, 2), (23, 8), (25, 8), (32, 1), (33, 1), (34, 1), (35, 1), (36, 1), (37, 1), (38, 1), (39, 1), (40, 1), (41, 1), (42, 1), (43, 1), (44, 1)], [(0, 1), (1, 1), (2, 1), (4, 3), (5, 3), (6, 1), (8, 1), (10, 1), (12, 3), (14, 1), (17, 2), (18, 2), (21, 2), (23, 8), (25, 8), (34, 1), (45, 1), (46, 1), (47, 2), (48, 2)]]\n"
     ]
    }
   ],
   "source": [
    "from gensim import corpora\n",
    "import logging\n",
    "logging.basicConfig(format='%(asctime)s : %(levelname)s : %(message)s', level=logging.INFO)\n",
    "equations = df[\"processed\"].tolist()\n",
    "dictionary = corpora.Dictionary(equations)\n",
    "\n",
    "corpus = [dictionary.doc2bow(eq) for eq in equations]\n",
    "corpora.MmCorpus.serialize('/tmp/equations.mm', corpus)\n",
    "# our vector space model\n",
    "print(corpus[1:5])"
   ]
  },
  {
   "cell_type": "code",
   "execution_count": 3,
   "metadata": {
    "scrolled": true
   },
   "outputs": [
    {
     "name": "stderr",
     "output_type": "stream",
     "text": [
      "2017-11-08 23:09:25,489 : INFO : collecting document frequencies\n",
      "2017-11-08 23:09:25,492 : INFO : PROGRESS: processing document #0\n",
      "2017-11-08 23:09:25,585 : INFO : PROGRESS: processing document #10000\n",
      "2017-11-08 23:09:25,664 : INFO : PROGRESS: processing document #20000\n",
      "2017-11-08 23:09:25,737 : INFO : PROGRESS: processing document #30000\n",
      "2017-11-08 23:09:25,817 : INFO : PROGRESS: processing document #40000\n",
      "2017-11-08 23:09:25,891 : INFO : PROGRESS: processing document #50000\n",
      "2017-11-08 23:09:25,939 : INFO : calculating IDF weights for 56379 documents and 76640 features (1388440 matrix non-zeros)\n",
      "2017-11-08 23:09:26,000 : INFO : starting similarity index under notebooks/index/\n",
      "2017-11-08 23:09:30,399 : INFO : PROGRESS: fresh_shard size=10000\n",
      "2017-11-08 23:09:34,455 : INFO : PROGRESS: fresh_shard size=20000\n",
      "2017-11-08 23:09:39,026 : INFO : PROGRESS: fresh_shard size=30000\n",
      "2017-11-08 23:09:40,362 : INFO : creating sparse index\n",
      "2017-11-08 23:09:40,363 : INFO : creating sparse matrix from corpus\n",
      "2017-11-08 23:09:40,364 : INFO : PROGRESS: at document #0/32768\n",
      "2017-11-08 23:09:41,225 : INFO : PROGRESS: at document #10000/32768\n",
      "2017-11-08 23:09:42,127 : INFO : PROGRESS: at document #20000/32768\n",
      "2017-11-08 23:09:42,937 : INFO : PROGRESS: at document #30000/32768\n",
      "2017-11-08 23:09:43,168 : INFO : created <32768x76641 sparse matrix of type '<type 'numpy.float32'>'\n",
      "\twith 804611 stored elements in Compressed Sparse Row format>\n",
      "2017-11-08 23:09:43,169 : INFO : creating sparse shard #0\n",
      "2017-11-08 23:09:43,170 : INFO : saving index shard to notebooks/index/.0\n",
      "2017-11-08 23:09:43,171 : INFO : saving SparseMatrixSimilarity object under notebooks/index/.0, separately None\n",
      "2017-11-08 23:09:43,205 : INFO : saved notebooks/index/.0\n",
      "2017-11-08 23:09:43,207 : INFO : loading SparseMatrixSimilarity object from notebooks/index/.0\n",
      "2017-11-08 23:09:43,227 : INFO : loaded notebooks/index/.0\n",
      "2017-11-08 23:09:43,314 : INFO : PROGRESS: fresh_shard size=0\n",
      "2017-11-08 23:09:47,383 : INFO : PROGRESS: fresh_shard size=10000\n",
      "2017-11-08 23:09:51,328 : INFO : PROGRESS: fresh_shard size=20000\n"
     ]
    }
   ],
   "source": [
    "from gensim import corpora, models, similarities, matutils\n",
    "tfidf = models.TfidfModel(corpus)\n",
    "corpus_tfidf = tfidf[corpus]\n",
    "from gensim import similarities\n",
    "index = similarities.Similarity(\"notebooks/index/\", corpus_tfidf, len(dictionary.keys()), num_best = 100)"
   ]
  },
  {
   "cell_type": "code",
   "execution_count": 4,
   "metadata": {},
   "outputs": [
    {
     "name": "stderr",
     "output_type": "stream",
     "text": [
      "2017-11-08 23:09:52,788 : INFO : creating sparse index\n",
      "2017-11-08 23:09:52,790 : INFO : creating sparse matrix from corpus\n",
      "2017-11-08 23:09:52,792 : INFO : PROGRESS: at document #0/23611\n",
      "2017-11-08 23:09:53,582 : INFO : PROGRESS: at document #10000/23611\n",
      "2017-11-08 23:09:54,374 : INFO : PROGRESS: at document #20000/23611\n",
      "2017-11-08 23:09:54,694 : INFO : created <23611x76641 sparse matrix of type '<type 'numpy.float32'>'\n",
      "\twith 583829 stored elements in Compressed Sparse Row format>\n",
      "2017-11-08 23:09:54,695 : INFO : creating sparse shard #1\n",
      "2017-11-08 23:09:54,696 : INFO : saving index shard to notebooks/index/.1\n",
      "2017-11-08 23:09:54,697 : INFO : saving SparseMatrixSimilarity object under notebooks/index/.1, separately None\n",
      "2017-11-08 23:09:54,719 : INFO : saved notebooks/index/.1\n",
      "2017-11-08 23:09:54,721 : INFO : loading SparseMatrixSimilarity object from notebooks/index/.1\n",
      "2017-11-08 23:09:54,731 : INFO : loaded notebooks/index/.1\n"
     ]
    }
   ],
   "source": [
    "# looks like it works\n",
    "sims = index[tfidf[corpus][1]] # perform a similarity query against the corpus\n",
    "sims = sorted(sims, key=lambda item: -item[1])\n",
    "\n",
    "# [df[\"text\"].tolist()[i[0]] for i in sims]"
   ]
  },
  {
   "cell_type": "code",
   "execution_count": 5,
   "metadata": {
    "collapsed": true
   },
   "outputs": [],
   "source": [
    "docs = [\"\".join(eq) for eq in df[\"processed\"].tolist()]"
   ]
  },
  {
   "cell_type": "code",
   "execution_count": 6,
   "metadata": {
    "collapsed": true
   },
   "outputs": [],
   "source": [
    "import re\n",
    "def clean_exp(exp):\n",
    "    exp = re.sub(\"\\\\\\\\begin{equation[^}]*}\",\"\" ,exp , flags=re.IGNORECASE)\n",
    "    exp = re.sub(\"\\\\\\\\end{equation[^}]*}\",\"\" ,exp , flags=re.IGNORECASE)\n",
    "    exp = re.sub(\"\\\\\\\\begin{split[^}]*}\",\"\\\\\\\\begin{aligned}\" ,exp , flags=re.IGNORECASE)\n",
    "    exp = re.sub(\"\\\\\\\\end{split[^}]*}\",\"\\\\\\\\end{aligned}\" ,exp , flags=re.IGNORECASE)\n",
    "    exp = re.sub(\"\\\\\\\\begin{gather[^}]*}\",\"\\\\\\\\begin{aligned}\" ,exp , flags=re.IGNORECASE)\n",
    "    exp = re.sub(\"\\\\\\\\end{gather[^}]*}\",\"\\\\\\\\end{aligned}\" ,exp , flags=re.IGNORECASE)\n",
    "    exp = re.sub(\"\\\\\\\\begin{align[^}]*}\",\"\\\\\\\\begin{aligned}\" ,exp , flags=re.IGNORECASE)\n",
    "    exp = re.sub(\"\\\\\\\\end{align[^}]*}\",\"\\\\\\\\end{aligned}\" ,exp, flags=re.IGNORECASE)\n",
    "    exp = re.sub(\"\\\\\\\\label{[^}]*}\",\"\" ,exp , flags=re.IGNORECASE)\n",
    "    exp = re.sub(\"\\\\\\\\n\", \"\",exp, flags=re.IGNORECASE)\n",
    "    exp = re.sub(\"\\\\$\", \"\",exp , flags=re.IGNORECASE)\n",
    "    return exp\n",
    "\n",
    "clean_docs = map(clean_exp, docs)"
   ]
  },
  {
   "cell_type": "code",
   "execution_count": 7,
   "metadata": {},
   "outputs": [
    {
     "name": "stdout",
     "output_type": "stream",
     "text": [
      "8081\n"
     ]
    },
    {
     "name": "stderr",
     "output_type": "stream",
     "text": [
      "Bottle v0.13-dev server starting up (using MyWSGIRefServer())...\n",
      "Listening on http://localhost:8081/\n",
      "Hit Ctrl-C to quit.\n",
      "\n"
     ]
    },
    {
     "name": "stdout",
     "output_type": "stream",
     "text": [
      "listening\n",
      "/Users/sam/Documents/fall17/mathviz/mathviz_hopper/src\n"
     ]
    },
    {
     "data": {
      "text/html": [
       "<!DOCTYPE html><html lang=\"en\"><head><meta charset=\"utf-8\"><meta name=\"viewport\" content=\"width=device-width,initial-scale=1,shrink-to-fit=no\"><meta name=\"theme-color\" content=\"#000000\"><link rel=\"manifest\" href=\"./viz/manifest.json\"><link rel=\"stylesheet\" href=\"./viz/katex.css\"><title>React App</title><link href=\"./viz/static/css/main.2d3f6c1d.css\" rel=\"stylesheet\"></head><body><noscript>You need to enable JavaScript to run this app.</noscript><div id=\"root\"></div><script type=\"text/javascript\" src=\"./viz/static/js/main.21dc01e2.js\"></script></body></html>"
      ],
      "text/plain": [
       "<IPython.core.display.HTML object>"
      ]
     },
     "metadata": {},
     "output_type": "display_data"
    }
   ],
   "source": [
    "from mathviz_hopper.src.table import Table \n",
    "f = lambda x: dictionary.doc2bow(tokenize_latex(x))\n",
    "t = Table(index, f, clean_docs)\n",
    "t.print_ipython()"
   ]
  },
  {
   "cell_type": "code",
   "execution_count": 8,
   "metadata": {},
   "outputs": [
    {
     "name": "stderr",
     "output_type": "stream",
     "text": [
      "127.0.0.1 - - [08/Nov/2017 23:10:01] \"POST /query HTTP/1.1\" 200 16258\n"
     ]
    }
   ],
   "source": [
    "import requests\n",
    "r = requests.post('http://localhost:8081/query', json={\"query\": \"\\\\begin{equation}\\n\\\\Phi_{z}(L) = \\\\sum_{i=1}^{N} \\\\frac{1}{C_{i} \\\\times V_{\\\\rm max, i}} ,\\n\\\\label{EQ1}\\n\\\\end{equation}\\n\"})"
   ]
  },
  {
   "cell_type": "code",
   "execution_count": 9,
   "metadata": {},
   "outputs": [
    {
     "data": {
      "text/plain": [
       "{u'neighbors': [{u'neighbor': u'\\\\Phi_{z}(L)=\\\\sum_{i=1}^{N}\\\\frac{1}{C_{i}\\\\timesV_{\\\\rmmax,i}},',\n",
       "   u'similarity_score': 0.3113422393798828},\n",
       "  {u'neighbor': u'S=\\\\sum^N_{i=1}S_i\\\\,\\\\,\\\\,,\\\\,\\\\,\\\\,L=\\\\sum^N_{i=1}L_i',\n",
       "   u'similarity_score': 0.21985876560211182},\n",
       "  {u'neighbor': u'q_{i}=\\\\int_{C^2_{i}}F^2,\\\\qquadi=0,1,',\n",
       "   u'similarity_score': 0.21982091665267944},\n",
       "  {u'neighbor': u'\\\\[\\\\Phi_{i}=\\\\{(\\\\tau_{i,1},\\\\xi_{i,1}),\\\\ldots,(\\\\tau_{i,N_T^i},\\\\xi_{i,N_T^i})\\\\}.\\\\]',\n",
       "   u'similarity_score': 0.21745142340660095},\n",
       "  {u'neighbor': u\"\\\\sum_{i=1}^{n}a_i=\\\\sum_{i=1}^{n}a'_i,\",\n",
       "   u'similarity_score': 0.2167559564113617},\n",
       "  {u'neighbor': u'\\\\xi^{(4)i}=(A^{i}{_{a}},\\\\beta^{i},e^{i}{_{a}},\\\\alpha^{i},\\\\lambda^{i}{_{a}},\\\\Gamma^{i},\\\\varphi,\\\\rho_{i},\\\\omega_{i},\\\\tau_{i},\\\\sigma),',\n",
       "   u'similarity_score': 0.2106698751449585},\n",
       "  {u'neighbor': u'R=\\\\frac{\\\\sum_i\\\\mathbf{r}_i}{N}.',\n",
       "   u'similarity_score': 0.2102690488100052},\n",
       "  {u'neighbor': u'u_{i,M}:=\\\\frac{1}{M_i}\\\\sum_{m=1}^{M_i}\\\\delta_{({H^{({i,m})}_{{i+1}}},\\\\ldots,{{H^{({i,m})}_{{N}}}},{X^{({i,m})}_{{i}}},\\\\ldots,{X^{({i,m})}_{N}})}.',\n",
       "   u'similarity_score': 0.20868097245693207},\n",
       "  {u'neighbor': u'i=\\\\sum_{k=1}^n{i_k}.',\n",
       "   u'similarity_score': 0.20816850662231445},\n",
       "  {u'neighbor': u'(z^i_1,z^i_2)\\\\toC^i_2,\\\\qquadi=1,\\\\ldots,16',\n",
       "   u'similarity_score': 0.20706121623516083},\n",
       "  {u'neighbor': u'\\\\rho=\\\\sum_if_i,', u'similarity_score': 0.2069530338048935},\n",
       "  {u'neighbor': u'\\\\[\\\\left(\\\\sum_{i=1}^n\\\\overline{p_i}dz_i+\\\\sum_{i=1}^np_id\\\\overline{z_i}\\\\right)\\\\left(\\\\sum_{i=1}^nf_i(p)\\\\frac{\\\\partial}{\\\\partialz_i}\\\\right)=\\\\sum_{i=1}^n\\\\overline{p_i}\\\\cdotf_i(p)=0,\\\\]',\n",
       "   u'similarity_score': 0.20625747740268707},\n",
       "  {u'neighbor': u'V_i=Z_iU_i,', u'similarity_score': 0.2056371420621872},\n",
       "  {u'neighbor': u'\\\\begin{aligned}&\\\\{\\\\mathcal{M}_i^{(k+1)}\\\\}_{i=1}^N=arg\\\\min_{\\\\{\\\\mathcal{M}_i\\\\}_{i=1}^N}\\\\sum_{i=1}^{N}\\\\lambda_2\\\\mathcal{L}(\\\\mathcal{M}_{i(i)})\\\\\\\\&+\\\\sum^{N}_{i=1}\\\\frac{\\\\rho}{2}\\\\|\\\\mathcal{M}_{i(i)}-\\\\mathcal{X}^k_{(i)}+\\\\frac{\\\\mathcal{Y}_{i(i)}^k}{\\\\rho}\\\\|^2_F\\\\end{aligned}',\n",
       "   u'similarity_score': 0.2045571208000183},\n",
       "  {u'neighbor': u'\\\\tau=\\\\frac{\\\\sum_{i}(R_{i}-E_{i})}{\\\\sqrt{\\\\sum_{i}V_{i}}},',\n",
       "   u'similarity_score': 0.20434650778770447},\n",
       "  {u'neighbor': u'P=\\\\sum_i\\\\sigma_i\\\\DeltaV_i^2=\\\\sum_i\\\\sigma_i\\\\frac{G_{eff}(f)V^2}{\\\\phi(f)N}\\\\,.',\n",
       "   u'similarity_score': 0.20403346419334412},\n",
       "  {u'neighbor': u'\\\\chi^2_{1,2}=\\\\sum_{i=1}^4\\\\left(\\\\frac{q_i^{{\\\\calS}_{1,2}}-q_i^j}{\\\\sigma_i}\\\\right)^2.',\n",
       "   u'similarity_score': 0.20341520011425018},\n",
       "  {u'neighbor': u'\\\\sum_{i=1}^nc(x_i,y_i)\\\\leq\\\\sum_{i=1}^nc(x_i,y_{i+1}).',\n",
       "   u'similarity_score': 0.20157282054424286},\n",
       "  {u'neighbor': u'W_i=\\\\frac{1}{\\\\sigma_i^2}.',\n",
       "   u'similarity_score': 0.20156413316726685},\n",
       "  {u'neighbor': u'|\\\\psi\\\\rangle=\\\\sum_{i_1}^{N_1}\\\\sum_{i_2}^{N_2}...\\\\sum_{i_n}^{N_n}{a_{{i_{_{1}}}{i_{_{2}}}...{i_{_{n}}}}}|e_{i_{_1}}\\\\otimese_{i_{_1}}\\\\otimes...\\\\otimese_{i_{_n}}\\\\rangle.',\n",
       "   u'similarity_score': 0.19894210994243622},\n",
       "  {u'neighbor': u'\\\\sigma(N,M)=\\\\frac{\\\\sum_{i=1}^N\\\\omega_i(M)\\\\sigma_i(M)}{\\\\sum_{i=1}^N\\\\omega_i(M)},',\n",
       "   u'similarity_score': 0.1970224678516388},\n",
       "  {u'neighbor': u'\\\\mathbf{g}_{i}\\\\triangleq\\\\left[a_{1,i}^\\\\frac{1}{2}{g}_{1,i},a_{2,i}^\\\\frac{1}{2}{g}_{2,i},\\\\cdots,a_{N_R,i}^\\\\frac{1}{2}{g}_{N_R,i}\\\\right]^{\\\\rmT}',\n",
       "   u'similarity_score': 0.19686076045036316},\n",
       "  {u'neighbor': u'C(u,v)=\\\\sum_{i=1}^{k}\\\\lambda_iC_i(u,v),',\n",
       "   u'similarity_score': 0.19640173017978668},\n",
       "  {u'neighbor': u'\\\\mu_j^{(new)}=\\\\frac{\\\\sum_{i=1}^mw_j^{(i)}x^{(i)}}{\\\\sum_{i=1}^mw_j^{(i)}},',\n",
       "   u'similarity_score': 0.19634751975536346},\n",
       "  {u'neighbor': u'\\\\prod_{i=1}^L\\\\tau_i=\\\\prod_{i=1}^L\\\\sigma_i^2=1',\n",
       "   u'similarity_score': 0.19516636431217194},\n",
       "  {u'neighbor': u'\\\\sigma^{2}_{k}=\\\\frac{1}{k}\\\\sum_{i=1}^{k}\\\\frac{1}{\\\\mu_{i}^{2}}-\\\\left(\\\\frac{1}{k}\\\\sum_{i=1}^{k}\\\\frac{1}{\\\\mu_{i}}\\\\right)^{2}.',\n",
       "   u'similarity_score': 0.19493338465690613},\n",
       "  {u'neighbor': u'{{L}}=\\\\sum_{i{{=1}}}^nL_i,',\n",
       "   u'similarity_score': 0.1939527541399002},\n",
       "  {u'neighbor': u'I=\\\\sum_{i}x_{i}^2=1,\\\\quadE=\\\\sum_{i}\\\\epsilon_ix_{i}^2=\\\\text{constant}',\n",
       "   u'similarity_score': 0.19350872933864594},\n",
       "  {u'neighbor': u'\\\\mathcal{A}^{(i)}=\\\\left\\\\{{\\\\bfP}^{(i)}=(P^{(1)}_{i},\\\\dots,P^{(n_i)}_{i})|P^{(l)}_i\\\\in\\\\{p_i^{(1)},\\\\dots,p_i^{(m)}\\\\},\\\\right.\\\\left.\\\\sum_{l=1}^{n_i}\\\\pi_{i}(l)P^{(l)}_i\\\\leq\\\\overline{P}_i\\\\right\\\\},',\n",
       "   u'similarity_score': 0.19325953722000122},\n",
       "  {u'neighbor': u'\\\\bar{a}=\\\\frac{\\\\sum_{i}W_{i}\\\\cdota_i}{\\\\sum_{i}W_i},',\n",
       "   u'similarity_score': 0.19285538792610168},\n",
       "  {u'neighbor': u'\\\\[\\\\sum_{i=1}^n\\\\frac{(y_1(t_i)-V(t_i))^2}{\\\\sigma_1^2}+\\\\frac{(y_2(t_i)-R(t_i))^2}{\\\\sigma_2^2}.\\\\]',\n",
       "   u'similarity_score': 0.19276274740695953},\n",
       "  {u'neighbor': u'\\\\begin{aligned}&\\\\{\\\\mathcal{M}_i^{(k+1)}\\\\}_{i=1}^N=arg\\\\min_{\\\\{\\\\mathcal{M}_i\\\\}_{i=1}^N}\\\\sum_{i=1}^{N}\\\\lambda_2\\\\alpha_iQ_{P_\\\\lambda}(\\\\sigma(\\\\mathcal{M}_{i(i)})|\\\\sigma(\\\\mathcal{X}^{k}))\\\\\\\\&+\\\\sum^{N}_{i=1}\\\\frac{\\\\rho}{2}\\\\|\\\\mathcal{M}_{i(i)}-\\\\mathcal{X}^k_{(i)}+\\\\frac{\\\\mathcal{Y}_{i(i)}^k}{\\\\rho}\\\\|^2_F,\\\\end{aligned}',\n",
       "   u'similarity_score': 0.19184786081314087},\n",
       "  {u'neighbor': u'\\\\prod_i\\\\frac{1}{2}(1\\\\pma_{ij_i})(\\\\sum_i\\\\sigma_iZ_{ij_i})',\n",
       "   u'similarity_score': 0.19177865982055664},\n",
       "  {u'neighbor': u\"\\\\begin{aligned}m&=I_{\\\\alpha,\\\\beta}(0,m')\\\\\\\\&=I_{\\\\alpha,\\\\beta}(0,\\\\sum_{i=1}^{k}c_iz_i)\\\\\\\\&=\\\\sum_{i=1}^{k}c_iI_{\\\\alpha,\\\\beta}(0,z_i)\\\\\\\\&=\\\\sum_{i=1}^k\\\\left(c_i\\\\sum_{j=1}^{\\\\ell}d_ix_i\\\\right)\\\\end{aligned}\",\n",
       "   u'similarity_score': 0.19117029011249542},\n",
       "  {u'neighbor': u'q_t(N)=\\\\frac{1}{N}\\\\sum\\\\limits_{i=1}^{N}S_i^1(t)S_i^2(t)',\n",
       "   u'similarity_score': 0.19106808304786682},\n",
       "  {u'neighbor': u'\\\\sum_{i=1}^Ml^{(i)}={\\\\bf0}.',\n",
       "   u'similarity_score': 0.1908237487077713},\n",
       "  {u'neighbor': u'\\\\sum_{i=1}^{2}I_{A_{i}C_{i}}\\\\leq\\\\sum_{i=1}^{2}H(q_{i}^{t}).',\n",
       "   u'similarity_score': 0.19028547406196594},\n",
       "  {u'neighbor': u'v_{i}(t)=V_{i}(t).',\n",
       "   u'similarity_score': 0.1899675726890564},\n",
       "  {u'neighbor': u'\\\\sigma=\\\\left(\\\\sum_{i=1}^{N}\\\\frac{1}{\\\\sigma_i^2}\\\\right)^{-1/2},',\n",
       "   u'similarity_score': 0.18954023718833923},\n",
       "  {u'neighbor': u'\\\\[\\\\left|\\\\left(\\\\sum_{i=1}^n\\\\overline{p_i}dz_i+\\\\sum_{i=1}^np_id\\\\overline{z_i}\\\\right)\\\\left(\\\\sum_{i=1}^nf_i(p)\\\\frac{\\\\partial}{\\\\partialz_i}\\\\right)\\\\right|=\\\\left|\\\\sum_{i=1}^n\\\\overline{p_i}\\\\cdotf_i(p)\\\\right|\\\\]',\n",
       "   u'similarity_score': 0.189022496342659},\n",
       "  {u'neighbor': u'\\\\begin{aligned}{\\\\mathbbS}_1=\\\\frac{\\\\sum_{i=1}^ma_i{\\\\mathbbX}_i}{\\\\sqrt{\\\\sum_{i=1}^ma_i^2}}\\\\textrm{and}{\\\\mathbbS}_2=\\\\frac{\\\\sum_{i=m+1}^na_i{\\\\mathbbX}_i}{{\\\\sqrt{\\\\sum_{i=m+1}^na_i^2}}}\\\\end{aligned}',\n",
       "   u'similarity_score': 0.18679124116897583},\n",
       "  {u'neighbor': u'\\\\mathcal{U}=\\\\sum_i{F({\\\\rho}_i)}+\\\\frac{1}{2}\\\\sum_{i,jeqi}{{V}_{ij}(r_{ij})}',\n",
       "   u'similarity_score': 0.1866787225008011},\n",
       "  {u'neighbor': u'\\\\psi_0=\\\\frac{1}{N}\\\\sum_{i=1}^N\\\\exp(i\\\\bm{\\\\tau}_{(1,0)}\\\\cdot\\\\bm{r}_i),',\n",
       "   u'similarity_score': 0.18649409711360931},\n",
       "  {u'neighbor': u'\\\\[\\\\pi(\\\\Phi_{i}\\\\mid\\\\vartheta_{i},\\\\beta_{i})=\\t\\\\exp\\\\left\\\\lbrace\\\\sum_{j=1}^{N_T^i}\\\\logI_i(\\\\vartheta_i,\\\\tau_{i,j})-\\\\int_{0}^{T}I_i(\\\\vartheta_i,t)dt+T\\\\right\\\\rbrace\\\\beta_i^{N_T^i}\\\\exp\\\\left\\\\{-(\\\\beta_{i}^{-1}-1)\\\\sum_{j=1}^{N_T^i}\\\\xi_{i,j}\\\\right\\\\}.\\\\]',\n",
       "   u'similarity_score': 0.18595604598522186},\n",
       "  {u'neighbor': u'\\\\chi^2({\\\\boldsymbol{\\\\rmp}})\\\\equiv\\\\sum_i^N\\\\frac{(y_i-f(v_i,{\\\\boldsymbol{\\\\rmp}}))^2}{\\\\sigma_i^2}\\\\,,',\n",
       "   u'similarity_score': 0.1859358698129654},\n",
       "  {u'neighbor': u'A_{i}=\\\\gamma_ip,',\n",
       "   u'similarity_score': 0.18587857484817505},\n",
       "  {u'neighbor': u'x_i\\\\tox_i+\\\\frac{1}{2},\\\\quadi=1,\\\\ldots,4',\n",
       "   u'similarity_score': 0.1852097064256668},\n",
       "  {u'neighbor': u'c_i=\\\\sum_{z\\\\inp_i(z)\\\\gep_i(z_{s,i})}p_i(z)',\n",
       "   u'similarity_score': 0.1851809173822403},\n",
       "  {u'neighbor': u'f_i=\\\\frac{1}{T-1}\\\\sum_{s=1}^{T-1}\\\\delta(G_{i,s},G_{i,s+1})',\n",
       "   u'similarity_score': 0.1849038004875183},\n",
       "  {u'neighbor': u'\\\\chi_0^2=\\\\frac{1}{n-k}\\\\sum_{i=1}^{n}\\\\frac{(x_i-\\\\barx)^2}{\\\\sigma_i^2}',\n",
       "   u'similarity_score': 0.1841093897819519},\n",
       "  {u'neighbor': u'V_1=\\\\sum_i\\\\frac{n_i}{64\\\\pi^2}m^4_i(v,\\\\phi)\\\\left(\\\\ln\\\\frac{m^2_i(v,\\\\phi)}{Q^2}-C_i\\\\right).',\n",
       "   u'similarity_score': 0.18375718593597412},\n",
       "  {u'neighbor': u'C_{i}(z)=C_{i,0}e^{w_{i}\\\\int_{z_0}^{z}{\\\\frac{1}{K(z)}dz}}',\n",
       "   u'similarity_score': 0.18349052965641022},\n",
       "  {u'neighbor': u'\\\\[\\\\mathcal{L}_{\\\\epsilon}=\\\\frac{1}{2}\\\\epsilon^{2}\\\\sum_{i,j=1}^{n}a_{ij}(x)\\\\partial_{ij}+\\\\sum_{i=1}^{n}f_{i}(x)\\\\partial_{i}\\\\]',\n",
       "   u'similarity_score': 0.18318477272987366},\n",
       "  {u'neighbor': u'\\t\\\\deltaV_{\\\\textrm{rel}}(t)\\\\equiv\\\\frac{\\\\sum_i\\\\alpha_i(t)V_i-\\\\sum_i\\\\alpha_i(0))V_i}{\\\\sum_i\\\\alpha_i(0)V_i},',\n",
       "   u'similarity_score': 0.18267908692359924},\n",
       "  {u'neighbor': u'z(T,S,a)=z(T,S,0)+\\\\sum_{i=1}^Na_iX(T,t_i)\\\\Delta(t_i,S,a)+\\\\sum_{i=1}^Na_i\\\\varrho_i(S,a).',\n",
       "   u'similarity_score': 0.18219108879566193},\n",
       "  {u'neighbor': u'y(n)=\\\\sum_{i=1}^{N}w_i\\\\cdots_i(n),',\n",
       "   u'similarity_score': 0.18203917145729065},\n",
       "  {u'neighbor': u'\\\\tau_{jg}^{i}=-\\\\left\\\\langle\\\\dfrac{(\\\\overline{N}_{i})_{u_1}u^{\\\\prime}_1+(\\\\overline{N}_{i})_{u_2}u^{\\\\prime}_2+(\\\\overline{N}_{i})_{u_3}u^{\\\\prime}_3+(\\\\overline{N}_{i})_{u_4}u^{\\\\prime}_4}{\\\\left\\\\Vert\\\\Phi^{i}_{1}\\\\times\\\\Phi^{i}_{2}\\\\times\\\\Phi^{i}_{3}\\\\times\\\\Phi^{i}_{4}\\\\right\\\\Vert},U_{j+1}^{i}\\\\right\\\\rangle,j=1,2,3.',\n",
       "   u'similarity_score': 0.1809665411710739},\n",
       "  {u'neighbor': u'V_{dyn}(t)=\\\\sum_{i=1}^{N}V_{i}(t),\\\\quad\\\\frac{dV_{i}(t)}{dt}=\\\\frac{1}{\\\\tau_{i}}\\\\left(R_{i}I_{in}(t)-V_{i}(t)\\\\right)',\n",
       "   u'similarity_score': 0.1804848313331604},\n",
       "  {u'neighbor': u'\\\\[\\\\ell({\\\\mathcal{X}}\\\\mid\\\\mu,\\\\lambda_{0},\\\\sigma,\\\\rho_1,\\\\Phi)\\\\propto\\\\frac{1}{\\\\prod_{i=1}^N\\\\Sigma_i}\\\\exp\\\\left\\\\{-\\\\frac{1}{2}\\\\sum_{i=1}^{N}\\\\frac{1}{\\\\Sigma_i^{2}}\\\\left(z_{i}-z_{i-1}e^{-\\\\lambda_{0}^{-1}\\\\Delta_i}+\\\\mu\\\\left(e^{-\\\\lambda_{0}^{-1}\\\\Delta_i}-1\\\\right)\\\\right)^{2}\\\\right\\\\},\\\\]',\n",
       "   u'similarity_score': 0.17945614457130432},\n",
       "  {u'neighbor': u'\\\\begin{aligned}\\\\begin{aligned}\\\\dot{x}_{i}&=-\\\\omega_{i}y_{i}-z_{i}+\\\\sum_{j=1}^{N_{i}}\\\\alpha_{ij}(x_j-x_i),\\\\\\\\\\\\dot{y}_{i}&=\\\\omega_{i}x_{i}+ay_{i},\\\\\\\\\\\\dot{z}_{i}&=p+z_{i}(x_{i}-c),\\\\end{aligned}\\\\end{aligned}',\n",
       "   u'similarity_score': 0.1793910712003708},\n",
       "  {u'neighbor': u'\\\\pi({\\\\bfz}^{(1)}|{\\\\bfz}^{(2)},\\\\beta)=\\\\prod_{i=1}^{n_1}\\\\frac{\\\\exp\\\\{\\\\beta\\\\sum_{i\\\\simj}I(z^{(1)}_i=z^{(2)}_j)\\\\}}{\\\\sum_{z_i^{(1)}=1,\\\\ldots,q}\\\\exp\\\\{\\\\beta\\\\sum_{i\\\\simj}I(z^{(1)}_i=z^{(2)}_j)\\\\}}',\n",
       "   u'similarity_score': 0.1790986806154251},\n",
       "  {u'neighbor': u'\\\\int_{V_i}\\\\phi\\\\,\\\\mathrm{d}V\\\\approxV_{i}\\\\Phi_{i}.',\n",
       "   u'similarity_score': 0.1790594458580017},\n",
       "  {u'neighbor': u'\\\\sum_ic_if_i=1.', u'similarity_score': 0.1786617785692215},\n",
       "  {u'neighbor': u'\\\\delta(\\\\Omega_{1},\\\\Omega_{2})=\\\\sum_{i=1}^{n}\\\\psi_{i}',\n",
       "   u'similarity_score': 0.17810484766960144},\n",
       "  {u'neighbor': u'\\\\sum_{i=1}^{N}\\\\lambda_2\\\\alpha_i\\\\|\\\\mathcal{M}_{i(i)}\\\\|_*+\\\\sum^{N}_{i=1}\\\\frac{\\\\rho}{2}\\\\|\\\\mathcal{M}_{i(i)}-\\\\mathcal{X}^k_{(i)}+\\\\frac{\\\\mathcal{Y}_{i(i)}^k}{\\\\rho}\\\\|^2_F',\n",
       "   u'similarity_score': 0.17760923504829407},\n",
       "  {u'neighbor': u'f_{c}(P,K)=\\\\frac{1}{N_{stars}}\\\\sum_{i=1}^{N}f_{R}(P_i,K_i),',\n",
       "   u'similarity_score': 0.17736545205116272},\n",
       "  {u'neighbor': u'\\\\left.abla^2\\\\phi\\\\right|_{{\\\\boldsymbolr}={\\\\boldsymbolr_i}}\\\\approx\\\\left({\\\\mathbbL}\\\\Phi\\\\right)_{i}=\\\\frac{1}{V_i}\\\\sum_{j\\\\in\\\\pi_i}(\\\\mathbb{G}_{f}\\\\Phi)_{ij}\\\\cdot{\\\\boldsymbolS}_{ij}=\\\\frac{1}{V_i}\\\\sum_{j\\\\in\\\\pi_i}w_{ij}\\\\left(\\\\Phi_{j}-\\\\Phi_{i}\\\\right),',\n",
       "   u'similarity_score': 0.17728258669376373},\n",
       "  {u'neighbor': u'C_1(\\\\tau_i,p_i)=\\\\frac{1-\\\\tau_i}{2}\\\\log\\\\left(1+\\\\frac{p_ia_i\\\\tau_i}{1-\\\\tau_i}\\\\right),',\n",
       "   u'similarity_score': 0.17714393138885498},\n",
       "  {u'neighbor': u'\\\\[\\\\mathbb{E}(\\\\mu^2)=\\\\frac{1}{n^2}\\\\sum_i^n\\\\frac{a_i^2}{p_i}\\\\]',\n",
       "   u'similarity_score': 0.177128866314888},\n",
       "  {u'neighbor': u'\\\\frac{\\\\sqrt{x^{i}_{0}}}{\\\\sum_{i=1}^{m}\\\\sqrt{x^{i}_{0}}}\\\\,.',\n",
       "   u'similarity_score': 0.17651429772377014},\n",
       "  {u'neighbor': u'\\\\[\\\\min_{P}\\\\sum_i^N\\\\frac{a_i^2}{p_i}\\\\]',\n",
       "   u'similarity_score': 0.17647585272789001},\n",
       "  {u'neighbor': u'\\\\begin{aligned}\\\\barR=\\\\lim\\\\limits_{M\\\\to\\\\infty}\\\\frac{1}{M}\\\\sum_{i=1}^M\\\\min\\\\{C_1(\\\\tau_i,p_i),C_2(\\\\tau_i,p_i)\\\\}.\\\\end{aligned}',\n",
       "   u'similarity_score': 0.17632722854614258},\n",
       "  {u'neighbor': u'{\\\\boldsymbol{\\\\mathbf{{u}}}}\\\\text{suchthat}u_i=\\\\frac{\\\\\\\\sum_{j=1}^{s_i}x_i(p_j^{i})f(p_j^{i})}{\\\\surd\\\\sum_{i=1}^n(\\\\sum_{j=1}^{s_i}x_i(p_j^{i})f(p_j^{i}))^2}.',\n",
       "   u'similarity_score': 0.17628327012062073},\n",
       "  {u'neighbor': u'\\\\begin{aligned}D(p)=&\\\\\\\\underset{{\\\\bf{{q}}}\\\\in\\\\mathcal{M}}{\\\\text{maximize}}~\\\\sum_{i=1}^NU_i(q_i){-}p\\\\left(\\\\sum_{i=1}^Nq_i{-}Q\\\\right)onumber\\\\\\\\=&\\\\\\\\sum_{i=1}^NU_i(q_i(p)){-}p\\\\left(\\\\sum_{i=1}^Nq_i(p){-}Q\\\\right)\\\\end{aligned}',\n",
       "   u'similarity_score': 0.17623721063137054},\n",
       "  {u'neighbor': u'\\\\hat{T}_{\\\\mathrm{CMB}}=d-\\\\sum_{i=1}^{N_t}{\\\\alpha_it_i},',\n",
       "   u'similarity_score': 0.17591845989227295},\n",
       "  {u'neighbor': u'1_E(x)=d+\\\\sum_{i=1}^d(\\\\sum_{t=1}^{p-1}c_{i,t}1_{H_{p_i,t}}(x)).',\n",
       "   u'similarity_score': 0.17583489418029785},\n",
       "  {u'neighbor': u'p=\\\\{p^{(i)}\\\\}^n_{i=1}={\\\\{(x,y,z,r,g,b)^{(i)}\\\\}}^n_{i=1}',\n",
       "   u'similarity_score': 0.17521299421787262},\n",
       "  {u'neighbor': u'F_{i_1i_2\\\\dotsi_D}=\\\\sum_tF^t_{i_1i_2\\\\dotsi_D}=\\\\sum_{t=1}^{T}\\\\sum_{\\\\ell_t=1}^{R_t}\\\\prod_{k=1}^Df^{(\\\\ell_t,k)}_{i_k}',\n",
       "   u'similarity_score': 0.17486444115638733},\n",
       "  {u'neighbor': u'\\\\begin{aligned}{\\\\mathcal{L}}(\\\\mathbf{h},\\\\alpha)&=\\\\sum_{i=1}^{N}{U_i(h_i)}-\\\\alpha\\\\left[\\\\sum_{i=1}^{N}{h_i}-B\\\\right]\\\\\\\\&=\\\\sum_{i=1}^{N}{\\\\Big[U_i(h_i)-\\\\alphah_i\\\\Big]}+\\\\alphaB,\\\\end{aligned}',\n",
       "   u'similarity_score': 0.1744133085012436},\n",
       "  {u'neighbor': u'\\\\Phi_j^{(new)}=\\\\frac{1}{m}\\\\sum_{i=1}^mw_j^{(i)},',\n",
       "   u'similarity_score': 0.17437709867954254},\n",
       "  {u'neighbor': u'z_i=z_i+1,\\\\qquadz_i=z_i+\\\\imath,\\\\qquadi=1,2.',\n",
       "   u'similarity_score': 0.1737690269947052},\n",
       "  {u'neighbor': u'p(\\\\omega=i)={\\\\theta}_{i}',\n",
       "   u'similarity_score': 0.17345461249351501},\n",
       "  {u'neighbor': u'{S_{ij}}=\\\\frac{{{\\\\beta_i}}}{{n{\\\\beta_i}+1}}{\\\\rm{}}(iej),',\n",
       "   u'similarity_score': 0.17333053052425385},\n",
       "  {u'neighbor': u'\\\\sum_{i=1}^{n}\\\\lambda_{i}X_{i},',\n",
       "   u'similarity_score': 0.1733277142047882},\n",
       "  {u'neighbor': u'G_{\\\\mathcal{V}_u}=\\\\prod_{i\\\\inS}(G_{V_i}(z))^{N_i}=\\\\prod_{i\\\\inS}(\\\\sum_{x=0}^{2}p(V_i=x)\\\\cdotz^x)^{N_i}',\n",
       "   u'similarity_score': 0.17238308489322662},\n",
       "  {u'neighbor': u'P_{ij}=\\\\frac{N(x_i^t,x_j^T)}{N(x_i)},',\n",
       "   u'similarity_score': 0.17223049700260162},\n",
       "  {u'neighbor': u'E[\\\\prod_{i=1}^nf_i(X_{t_i})g_i(Y_{t_i})h_i(W_{t_i})]=E[\\\\prod_{i=1}^nK_{0,t_i}f_i(x)K_{0,t_i}g_i(y)h_i(W_{t_i})]',\n",
       "   u'similarity_score': 0.17198507487773895},\n",
       "  {u'neighbor': u'B_i=G_i(T)\\\\cdotA_i(E),',\n",
       "   u'similarity_score': 0.17195484042167664},\n",
       "  {u'neighbor': u'\\\\[W(\\\\mathbf{h})=\\\\sum_{i=1}^{N}{U_i(h_i)}-C(\\\\sum_{i=1}^{N}{h_i}-B).\\\\]',\n",
       "   u'similarity_score': 0.17151562869548798},\n",
       "  {u'neighbor': u'\\\\underset{p_i\\\\geq0,\\\\foralli}{\\\\text{max}}\\\\\\\\frac{1}{M}\\\\sum_{i=1}^M\\\\min\\\\left\\\\{C_1(\\\\tau_0,p_i),C_2(\\\\tau_0,p_i)\\\\right\\\\}otag',\n",
       "   u'similarity_score': 0.17145073413848877},\n",
       "  {u'neighbor': u'\\\\[\\\\Big\\\\{\\\\sum_{\\\\{x_i\\\\}\\\\inA_1}x_i,\\\\sum_{\\\\{{x_{i_1},x_{i_2}\\\\}}\\\\inA_2}x_{i_1}x_{i_2},\\\\ldots,\\\\sum_{\\\\{{x_{i_1},\\\\ldots,x_{i_d}\\\\}}\\\\inA_d}x_{i_1}\\\\cdotsx_{i_d}\\\\Big\\\\}\\\\]',\n",
       "   u'similarity_score': 0.17111599445343018},\n",
       "  {u'neighbor': u'V_{\\\\rmmax,radio}=\\\\sum\\\\limits_{i=1}^{n}F_i\\\\timesV_{\\\\rmmax,radio,i}(z_{\\\\rmmax,i}),',\n",
       "   u'similarity_score': 0.17078083753585815},\n",
       "  {u'neighbor': u'\\\\begin{aligned}\\\\rho_i\\\\omega_i^2\\\\cos(\\\\theta_i)&=\\\\kappa_i(1-\\\\rho_i^2\\\\omega_i^2)\\\\rho_i\\\\omega_i\\\\sin(\\\\theta_i)\\\\\\\\&\\\\qquad+\\\\frac{\\\\kappa_ia}{N}\\\\sum_{j\\\\in{\\\\mathcal{{{N}}}}_i}\\\\left(\\\\rho_i\\\\cos(\\\\theta_i)-\\\\rho_i^\\\\tau\\\\cos(\\\\theta_i)^\\\\tau\\\\right)\\\\\\\\\\\\rho_i\\\\omega_i^2\\\\sin(\\\\theta_i)&=\\\\kappa_i(1-\\\\rho_i^2\\\\omega_i^2)\\\\rho_i\\\\omega_i\\\\cos(\\\\theta_i)\\\\\\\\&\\\\qquad+\\\\frac{\\\\kappa_ia}{N}\\\\sum_{j\\\\in{\\\\mathcal{{{N}}}}_i}\\\\left(\\\\rho_i\\\\sin(\\\\theta_i)-\\\\rho_i^\\\\tau\\\\sin(\\\\theta_i)^\\\\tau\\\\right).\\\\end{aligned}',\n",
       "   u'similarity_score': 0.17065905034542084},\n",
       "  {u'neighbor': u'H=\\\\sum_iH_0^{(i)}+V_C,\\\\quadH_0^{(i)}=T^{(i)}+U^{(i)}.',\n",
       "   u'similarity_score': 0.1705634593963623},\n",
       "  {u'neighbor': u'\\\\theta_{i+1}=\\\\theta_{i}-g_i',\n",
       "   u'similarity_score': 0.17033016681671143},\n",
       "  {u'neighbor': u'\\\\theta_{i+1}=\\\\theta_{i}-g_i',\n",
       "   u'similarity_score': 0.17033016681671143},\n",
       "  {u'neighbor': u'H=\\\\sum_{i=1}^{N-1}{J_i\\\\sigma_{i}^z\\\\sigma_{i+1}^z}+\\\\sum_{i=1}^{N}{h_i\\\\sigma_{i}^x}',\n",
       "   u'similarity_score': 0.17027351260185242},\n",
       "  {u'neighbor': u'\\\\mathbb{L}[\\\\rho]=-i[H,\\\\rho]+\\\\sum_{i=1}^{n^2-1}\\\\gamma_i\\\\left(V_i\\\\rhoV_i^*-\\\\frac{1}{2}\\\\{V_i^*V_i,\\\\rho\\\\}\\\\right),',\n",
       "   u'similarity_score': 0.17000295221805573},\n",
       "  {u'neighbor': u'z(T,S,a)=\\\\sum_{i=1}^N\\\\int_{t_i+b_i}^{t_i+b_i+a_i}X(T,\\\\xi)[f(t_i,\\\\overline{x}_{t_i},v_i)-f(t_i,\\\\overline{x}_{t_i},\\\\overline{u}(t_i))]d\\\\xi.',\n",
       "   u'similarity_score': 0.16988441348075867},\n",
       "  {u'neighbor': u'\\\\mathscr{L}=\\\\Pi^{N}_{i=1}p(d_i|C,\\\\alpha,\\\\beta)',\n",
       "   u'similarity_score': 0.1695764809846878}]}"
      ]
     },
     "execution_count": 9,
     "metadata": {},
     "output_type": "execute_result"
    }
   ],
   "source": [
    "r.json()"
   ]
  },
  {
   "cell_type": "code",
   "execution_count": 10,
   "metadata": {},
   "outputs": [
    {
     "name": "stderr",
     "output_type": "stream",
     "text": [
      "127.0.0.1 - - [08/Nov/2017 23:10:02] \"GET /settings HTTP/1.1\" 200 11827455\n"
     ]
    }
   ],
   "source": [
    "import requests\n",
    "r = requests.get('http://localhost:8081/settings')"
   ]
  },
  {
   "cell_type": "code",
   "execution_count": 11,
   "metadata": {},
   "outputs": [
    {
     "name": "stderr",
     "output_type": "stream",
     "text": [
      "127.0.0.1 - - [08/Nov/2017 23:10:07] \"GET /settings HTTP/1.1\" 200 11827455\n",
      "IOPub data rate exceeded.\n",
      "The notebook server will temporarily stop sending output\n",
      "to the client in order to avoid crashing it.\n",
      "To change this limit, set the config variable\n",
      "`--NotebookApp.iopub_data_rate_limit`.\n"
     ]
    }
   ],
   "source": [
    "r.json()"
   ]
  },
  {
   "cell_type": "code",
   "execution_count": 12,
   "metadata": {},
   "outputs": [
    {
     "name": "stdout",
     "output_type": "stream",
     "text": [
      "creating test instance\n"
     ]
    },
    {
     "data": {
      "text/html": [
       "<!DOCTYPE html><html lang=\"en\"><head><meta charset=\"utf-8\"><meta name=\"viewport\" content=\"width=device-width,initial-scale=1,shrink-to-fit=no\"><meta name=\"theme-color\" content=\"#000000\"><link rel=\"manifest\" href=\"./viz/manifest.json\"><link rel=\"stylesheet\" href=\"./viz/katex.css\"><title>React App</title><link href=\"./viz/static/css/main.2d3f6c1d.css\" rel=\"stylesheet\"></head><body><noscript>You need to enable JavaScript to run this app.</noscript><div id=\"root\"></div><script type=\"text/javascript\" src=\"./viz/static/js/main.21dc01e2.js\"></script></body></html>"
      ],
      "text/plain": [
       "<IPython.core.display.HTML object>"
      ]
     },
     "metadata": {},
     "output_type": "display_data"
    }
   ],
   "source": [
    "from mathviz_hopper.src.test import Test \n",
    "\n",
    "t = Test()\n",
    "t.print_html()"
   ]
  },
  {
   "cell_type": "code",
   "execution_count": 13,
   "metadata": {
    "collapsed": true
   },
   "outputs": [],
   "source": [
    "\n",
    "def insert(st, trie):\n",
    "    i = 0\n",
    "    for s in st:\n",
    "        if s not in trie.keys(): \n",
    "            trie[s] = {}\n",
    "        if i == 20:\n",
    "            break\n",
    "        trie = trie[s]\n",
    "        i+=1\n",
    "        \n",
    "    if i == 20: \n",
    "        trie[st[i:]] = {}\n",
    "        trie = trie[st[i:]]\n",
    "    trie[\"full_word\"] = 1\n",
    "        \n",
    "    \n",
    "def construct_trie(list_of_str):\n",
    "    trie = {}\n",
    "    for st in list_of_str:\n",
    "        insert(st, trie)\n",
    "    return trie\n",
    "    "
   ]
  },
  {
   "cell_type": "code",
   "execution_count": 14,
   "metadata": {},
   "outputs": [
    {
     "name": "stderr",
     "output_type": "stream",
     "text": [
      "127.0.0.1 - - [08/Nov/2017 23:10:52] \"GET /settings HTTP/1.1\" 200 11827455\n"
     ]
    }
   ],
   "source": [
    "docs_trie = construct_trie(clean_docs)\n"
   ]
  },
  {
   "cell_type": "code",
   "execution_count": 15,
   "metadata": {
    "collapsed": true
   },
   "outputs": [],
   "source": [
    "\n",
    "opts = {\n",
    "    \"columns\": [\n",
    "            {\n",
    "                \"Header\": \"Word\",\n",
    "                \"accessor\": \"word\"\n",
    "            },\n",
    "            {\n",
    "                \"Header\": \"Similarity\",\n",
    "                \"accessor\": \"sim\"\n",
    "            }\n",
    "   ],\n",
    "    \"port\": \"8081\",\n",
    "    \"docs\": docs_trie\n",
    "}"
   ]
  },
  {
   "cell_type": "code",
   "execution_count": 16,
   "metadata": {},
   "outputs": [],
   "source": [
    "import json\n",
    "with open(\"mathviz_hopper/webpage/mathviz-js-components/public/settings.json\", \"w+\") as f:\n",
    "    json.dump(opts, f)"
   ]
  },
  {
   "cell_type": "code",
   "execution_count": 17,
   "metadata": {},
   "outputs": [],
   "source": [
    "def word_exists(trie, word):\n",
    "    \n",
    "    for i, s in enumerate(word):        \n",
    "        if s in trie.keys(): \n",
    "            trie = trie[s]\n",
    "        else: return False\n",
    "            \n",
    "        if i == 19: \n",
    "            break\n",
    "            \n",
    "    if i == 19:\n",
    "        s = word[i+1:]\n",
    "        if s not in trie.keys(): return False\n",
    "        trie = trie[s]\n",
    "\n",
    "    return True if 'full_word' in trie.keys() else False\n",
    "        \n",
    "        "
   ]
  },
  {
   "cell_type": "code",
   "execution_count": 18,
   "metadata": {},
   "outputs": [
    {
     "ename": "NameError",
     "evalue": "name 'trie' is not defined",
     "output_type": "error",
     "traceback": [
      "\u001b[0;31m---------------------------------------------------------------------------\u001b[0m",
      "\u001b[0;31mNameError\u001b[0m                                 Traceback (most recent call last)",
      "\u001b[0;32m<ipython-input-18-ebc814977ccd>\u001b[0m in \u001b[0;36m<module>\u001b[0;34m()\u001b[0m\n\u001b[0;32m----> 1\u001b[0;31m \u001b[0mword_exists\u001b[0m\u001b[0;34m(\u001b[0m\u001b[0mtrie\u001b[0m\u001b[0;34m,\u001b[0m \u001b[0;34m\"fdakfkajshdfjkahsdfkjhadfdfdfdffdfdsdjkfhaskj\"\u001b[0m\u001b[0;34m)\u001b[0m\u001b[0;34m\u001b[0m\u001b[0m\n\u001b[0m",
      "\u001b[0;31mNameError\u001b[0m: name 'trie' is not defined"
     ]
    },
    {
     "name": "stderr",
     "output_type": "stream",
     "text": [
      "127.0.0.1 - - [08/Nov/2017 23:11:00] \"POST /query HTTP/1.1\" 200 23424\n",
      "127.0.0.1 - - [08/Nov/2017 23:11:34] \"POST /query HTTP/1.1\" 200 28097\n"
     ]
    }
   ],
   "source": [
    "word_exists(trie, \"fdakfkajshdfjkahsdfkjhadfdfdfdffdfdsdjkfhaskj\")"
   ]
  },
  {
   "cell_type": "code",
   "execution_count": null,
   "metadata": {
    "collapsed": true
   },
   "outputs": [],
   "source": [
    "docs = [\"\".join(eq) for eq in df[\"processed\"].tolist()]\n",
    "docs_trie = construct_trie(docs)"
   ]
  },
  {
   "cell_type": "code",
   "execution_count": null,
   "metadata": {
    "collapsed": true
   },
   "outputs": [],
   "source": []
  }
 ],
 "metadata": {
  "kernelspec": {
   "display_name": "env",
   "language": "python",
   "name": "env"
  },
  "language_info": {
   "codemirror_mode": {
    "name": "ipython",
    "version": 2
   },
   "file_extension": ".py",
   "mimetype": "text/x-python",
   "name": "python",
   "nbconvert_exporter": "python",
   "pygments_lexer": "ipython2",
   "version": "2.7.10"
  }
 },
 "nbformat": 4,
 "nbformat_minor": 2
}
