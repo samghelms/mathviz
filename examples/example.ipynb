{
 "cells": [
  {
   "cell_type": "code",
   "execution_count": 1,
   "metadata": {},
   "outputs": [
    {
     "name": "stdout",
     "output_type": "stream",
     "text": [
      "error with: data/1601/1601.06597.json\n"
     ]
    }
   ],
   "source": [
    "import pandas as pd\n",
    "import numpy as np\n",
    "from utils import read_file, tokenize_latex\n",
    "df = read_file(\"data/1601/*\")\n"
   ]
  },
  {
   "cell_type": "code",
   "execution_count": 2,
   "metadata": {},
   "outputs": [],
   "source": [
    "import re\n",
    "def clean_exp(exp):\n",
    "    exp = re.sub(\"\\\\\\\\begin{equation[^}]*}\",\"\" ,exp , flags=re.IGNORECASE)\n",
    "    exp = re.sub(\"\\\\\\\\end{equation[^}]*}\",\"\" ,exp , flags=re.IGNORECASE)\n",
    "    exp = re.sub(\"\\\\\\\\begin{split[^}]*}\",\"\\\\\\\\begin{aligned}\" ,exp , flags=re.IGNORECASE)\n",
    "    exp = re.sub(\"\\\\\\\\end{split[^}]*}\",\"\\\\\\\\end{aligned}\" ,exp , flags=re.IGNORECASE)\n",
    "    exp = re.sub(\"\\\\\\\\begin{gather[^}]*}\",\"\\\\\\\\begin{aligned}\" ,exp , flags=re.IGNORECASE)\n",
    "    exp = re.sub(\"\\\\\\\\end{gather[^}]*}\",\"\\\\\\\\end{aligned}\" ,exp , flags=re.IGNORECASE)\n",
    "    exp = re.sub(\"\\\\\\\\begin{align[^}]*}\",\"\\\\\\\\begin{aligned}\" ,exp , flags=re.IGNORECASE)\n",
    "    exp = re.sub(\"\\\\\\\\end{align[^}]*}\",\"\\\\\\\\end{aligned}\" ,exp, flags=re.IGNORECASE)\n",
    "    exp = re.sub(\"\\\\\\\\label{[^}]*}\",\"\" ,exp , flags=re.IGNORECASE)\n",
    "    exp = re.sub(\"\\\\\\\\n\", \"\",exp, flags=re.IGNORECASE)\n",
    "    exp = re.sub(\"\\\\$\", \"\",exp , flags=re.IGNORECASE)\n",
    "    return exp"
   ]
  },
  {
   "cell_type": "code",
   "execution_count": 3,
   "metadata": {},
   "outputs": [],
   "source": [
    "df[\"processed\"] = df[\"text\"].apply(lambda x: clean_exp(x)).apply(lambda x: tokenize_latex(x))"
   ]
  },
  {
   "cell_type": "code",
   "execution_count": 4,
   "metadata": {
    "scrolled": true
   },
   "outputs": [
    {
     "name": "stderr",
     "output_type": "stream",
     "text": [
      "2017-11-30 09:44:50,477 : INFO : adding document #0 to Dictionary(0 unique tokens: [])\n",
      "2017-11-30 09:44:51,029 : INFO : adding document #10000 to Dictionary(15769 unique tokens: [u'\\\\xi\\\\leq', u'4E+6F', u'0.000004', u'-P\\\\cdot\\\\frac', u'i|S']...)\n",
      "2017-11-30 09:44:51,849 : INFO : adding document #20000 to Dictionary(25840 unique tokens: [u'\\\\xi\\\\leq', u'eF', u'q-1', u'q-2', u'+i+1']...)\n",
      "2017-11-30 09:44:52,454 : INFO : adding document #30000 to Dictionary(35023 unique tokens: [u'\\\\xi\\\\leq', u'eF', u'-5AB\\\\sqrt', u'q-1', u'q-2']...)\n",
      "2017-11-30 09:44:52,950 : INFO : adding document #40000 to Dictionary(43511 unique tokens: [u'\\\\xi\\\\leq', u'eF', u'-5AB\\\\sqrt', u'Model~III.~~~~~~~c', u'q-1']...)\n",
      "2017-11-30 09:44:53,437 : INFO : adding document #50000 to Dictionary(53030 unique tokens: [u'\\\\xi\\\\leq', u'eF', u'-5AB\\\\sqrt', u'Model~III.~~~~~~~c', u'q-1']...)\n",
      "2017-11-30 09:44:53,731 : INFO : built Dictionary(57545 unique tokens: [u'\\\\xi\\\\leq', u'eF', u'-5AB\\\\sqrt', u'Model~III.~~~~~~~c', u'q-1']...) from 56379 documents (total 3317666 corpus positions)\n",
      "2017-11-30 09:44:56,811 : INFO : storing corpus in Matrix Market format to /tmp/equations.mm\n",
      "2017-11-30 09:44:56,812 : INFO : saving sparse matrix to /tmp/equations.mm\n",
      "2017-11-30 09:44:56,813 : INFO : PROGRESS: saving document #0\n",
      "2017-11-30 09:44:57,006 : INFO : PROGRESS: saving document #1000\n",
      "2017-11-30 09:44:57,167 : INFO : PROGRESS: saving document #2000\n",
      "2017-11-30 09:44:57,308 : INFO : PROGRESS: saving document #3000\n",
      "2017-11-30 09:44:57,468 : INFO : PROGRESS: saving document #4000\n",
      "2017-11-30 09:44:57,628 : INFO : PROGRESS: saving document #5000\n",
      "2017-11-30 09:44:57,805 : INFO : PROGRESS: saving document #6000\n",
      "2017-11-30 09:44:57,956 : INFO : PROGRESS: saving document #7000\n",
      "2017-11-30 09:44:58,114 : INFO : PROGRESS: saving document #8000\n",
      "2017-11-30 09:44:58,313 : INFO : PROGRESS: saving document #9000\n",
      "2017-11-30 09:44:58,525 : INFO : PROGRESS: saving document #10000\n",
      "2017-11-30 09:44:58,765 : INFO : PROGRESS: saving document #11000\n",
      "2017-11-30 09:44:58,985 : INFO : PROGRESS: saving document #12000\n",
      "2017-11-30 09:44:59,363 : INFO : PROGRESS: saving document #13000\n",
      "2017-11-30 09:44:59,577 : INFO : PROGRESS: saving document #14000\n",
      "2017-11-30 09:44:59,794 : INFO : PROGRESS: saving document #15000\n",
      "2017-11-30 09:45:00,017 : INFO : PROGRESS: saving document #16000\n",
      "2017-11-30 09:45:00,203 : INFO : PROGRESS: saving document #17000\n",
      "2017-11-30 09:45:00,383 : INFO : PROGRESS: saving document #18000\n",
      "2017-11-30 09:45:00,570 : INFO : PROGRESS: saving document #19000\n",
      "2017-11-30 09:45:00,723 : INFO : PROGRESS: saving document #20000\n",
      "2017-11-30 09:45:00,836 : INFO : PROGRESS: saving document #21000\n",
      "2017-11-30 09:45:00,953 : INFO : PROGRESS: saving document #22000\n",
      "2017-11-30 09:45:01,065 : INFO : PROGRESS: saving document #23000\n",
      "2017-11-30 09:45:01,184 : INFO : PROGRESS: saving document #24000\n",
      "2017-11-30 09:45:01,307 : INFO : PROGRESS: saving document #25000\n",
      "2017-11-30 09:45:01,424 : INFO : PROGRESS: saving document #26000\n",
      "2017-11-30 09:45:01,538 : INFO : PROGRESS: saving document #27000\n",
      "2017-11-30 09:45:01,653 : INFO : PROGRESS: saving document #28000\n",
      "2017-11-30 09:45:01,774 : INFO : PROGRESS: saving document #29000\n",
      "2017-11-30 09:45:01,887 : INFO : PROGRESS: saving document #30000\n",
      "2017-11-30 09:45:02,002 : INFO : PROGRESS: saving document #31000\n",
      "2017-11-30 09:45:02,118 : INFO : PROGRESS: saving document #32000\n",
      "2017-11-30 09:45:02,239 : INFO : PROGRESS: saving document #33000\n",
      "2017-11-30 09:45:02,354 : INFO : PROGRESS: saving document #34000\n",
      "2017-11-30 09:45:02,578 : INFO : PROGRESS: saving document #35000\n",
      "2017-11-30 09:45:02,704 : INFO : PROGRESS: saving document #36000\n",
      "2017-11-30 09:45:02,825 : INFO : PROGRESS: saving document #37000\n",
      "2017-11-30 09:45:02,955 : INFO : PROGRESS: saving document #38000\n",
      "2017-11-30 09:45:03,101 : INFO : PROGRESS: saving document #39000\n",
      "2017-11-30 09:45:03,221 : INFO : PROGRESS: saving document #40000\n",
      "2017-11-30 09:45:03,365 : INFO : PROGRESS: saving document #41000\n",
      "2017-11-30 09:45:03,508 : INFO : PROGRESS: saving document #42000\n",
      "2017-11-30 09:45:03,646 : INFO : PROGRESS: saving document #43000\n",
      "2017-11-30 09:45:03,834 : INFO : PROGRESS: saving document #44000\n",
      "2017-11-30 09:45:03,987 : INFO : PROGRESS: saving document #45000\n",
      "2017-11-30 09:45:04,205 : INFO : PROGRESS: saving document #46000\n",
      "2017-11-30 09:45:04,351 : INFO : PROGRESS: saving document #47000\n",
      "2017-11-30 09:45:04,470 : INFO : PROGRESS: saving document #48000\n",
      "2017-11-30 09:45:04,580 : INFO : PROGRESS: saving document #49000\n",
      "2017-11-30 09:45:04,701 : INFO : PROGRESS: saving document #50000\n",
      "2017-11-30 09:45:04,828 : INFO : PROGRESS: saving document #51000\n",
      "2017-11-30 09:45:04,975 : INFO : PROGRESS: saving document #52000\n",
      "2017-11-30 09:45:05,098 : INFO : PROGRESS: saving document #53000\n",
      "2017-11-30 09:45:05,249 : INFO : PROGRESS: saving document #54000\n",
      "2017-11-30 09:45:05,456 : INFO : PROGRESS: saving document #55000\n",
      "2017-11-30 09:45:05,591 : INFO : PROGRESS: saving document #56000\n",
      "2017-11-30 09:45:05,658 : INFO : saved 56379x57545 matrix, density=0.038% (1222940/3244329555)\n",
      "2017-11-30 09:45:05,668 : INFO : saving MmCorpus index to /tmp/equations.mm.index\n"
     ]
    },
    {
     "name": "stdout",
     "output_type": "stream",
     "text": [
      "[[(5, 1), (6, 1), (8, 3), (12, 4), (13, 3), (14, 4), (15, 4), (17, 1), (18, 3), (19, 3), (21, 1), (22, 1), (23, 1)], [(0, 1), (3, 1), (5, 1), (6, 1), (8, 5), (9, 1), (10, 4), (12, 3), (13, 2), (14, 5), (15, 5), (17, 2), (18, 3), (19, 5), (20, 1), (22, 2), (24, 1), (25, 1), (26, 1)], [(2, 1), (4, 1), (5, 1), (6, 1), (12, 2), (14, 6), (15, 6), (17, 1), (19, 1), (27, 1), (28, 1), (29, 1), (30, 1), (31, 1), (32, 1), (33, 1), (34, 1), (35, 1), (36, 1), (37, 1), (38, 1), (39, 1)], [(1, 1), (2, 1), (4, 1), (5, 3), (6, 3), (7, 3), (8, 1), (14, 6), (15, 6), (17, 1), (19, 2), (20, 2), (29, 1), (40, 1), (41, 2), (42, 1), (43, 2)]]\n"
     ]
    }
   ],
   "source": [
    "from gensim import corpora\n",
    "import logging\n",
    "logging.basicConfig(format='%(asctime)s : %(levelname)s : %(message)s', level=logging.INFO)\n",
    "equations = df[\"processed\"].tolist()\n",
    "dictionary = corpora.Dictionary(equations)\n",
    "\n",
    "corpus = [dictionary.doc2bow(eq) for eq in equations]\n",
    "corpora.MmCorpus.serialize('/tmp/equations.mm', corpus)\n",
    "# our vector space model\n",
    "print(corpus[1:5])"
   ]
  },
  {
   "cell_type": "code",
   "execution_count": 5,
   "metadata": {
    "scrolled": true
   },
   "outputs": [
    {
     "name": "stderr",
     "output_type": "stream",
     "text": [
      "2017-11-30 09:45:05,757 : INFO : collecting document frequencies\n",
      "2017-11-30 09:45:05,763 : INFO : PROGRESS: processing document #0\n",
      "2017-11-30 09:45:05,870 : INFO : PROGRESS: processing document #10000\n",
      "2017-11-30 09:45:05,997 : INFO : PROGRESS: processing document #20000\n",
      "2017-11-30 09:45:06,089 : INFO : PROGRESS: processing document #30000\n",
      "2017-11-30 09:45:06,179 : INFO : PROGRESS: processing document #40000\n",
      "2017-11-30 09:45:06,366 : INFO : PROGRESS: processing document #50000\n",
      "2017-11-30 09:45:06,437 : INFO : calculating IDF weights for 56379 documents and 57544 features (1222940 matrix non-zeros)\n",
      "2017-11-30 09:45:06,501 : INFO : starting similarity index under index/\n",
      "2017-11-30 09:45:12,063 : INFO : PROGRESS: fresh_shard size=10000\n",
      "2017-11-30 09:45:16,092 : INFO : PROGRESS: fresh_shard size=20000\n",
      "2017-11-30 09:45:19,773 : INFO : PROGRESS: fresh_shard size=30000\n",
      "2017-11-30 09:45:20,786 : INFO : creating sparse index\n",
      "2017-11-30 09:45:20,787 : INFO : creating sparse matrix from corpus\n",
      "2017-11-30 09:45:20,788 : INFO : PROGRESS: at document #0/32768\n",
      "2017-11-30 09:45:21,428 : INFO : PROGRESS: at document #10000/32768\n",
      "2017-11-30 09:45:22,098 : INFO : PROGRESS: at document #20000/32768\n",
      "2017-11-30 09:45:22,708 : INFO : PROGRESS: at document #30000/32768\n",
      "2017-11-30 09:45:22,899 : INFO : created <32768x57545 sparse matrix of type '<type 'numpy.float32'>'\n",
      "\twith 707547 stored elements in Compressed Sparse Row format>\n",
      "2017-11-30 09:45:22,901 : INFO : creating sparse shard #0\n",
      "2017-11-30 09:45:22,902 : INFO : saving index shard to index/.0\n",
      "2017-11-30 09:45:22,902 : INFO : saving SparseMatrixSimilarity object under index/.0, separately None\n",
      "2017-11-30 09:45:22,949 : INFO : saved index/.0\n",
      "2017-11-30 09:45:22,950 : INFO : loading SparseMatrixSimilarity object from index/.0\n",
      "2017-11-30 09:45:22,961 : INFO : loaded index/.0\n",
      "2017-11-30 09:45:23,042 : INFO : PROGRESS: fresh_shard size=0\n",
      "2017-11-30 09:45:26,749 : INFO : PROGRESS: fresh_shard size=10000\n",
      "2017-11-30 09:45:31,072 : INFO : PROGRESS: fresh_shard size=20000\n"
     ]
    }
   ],
   "source": [
    "from gensim import corpora, models, similarities, matutils\n",
    "tfidf = models.TfidfModel(corpus)\n",
    "corpus_tfidf = tfidf[corpus]\n",
    "from gensim import similarities\n",
    "index = similarities.Similarity(\"index/\", corpus_tfidf, len(dictionary.keys()), num_best = 100)"
   ]
  },
  {
   "cell_type": "code",
   "execution_count": 6,
   "metadata": {},
   "outputs": [],
   "source": [
    "docs = [\"\".join(eq) for eq in df[\"processed\"].tolist()]"
   ]
  },
  {
   "cell_type": "code",
   "execution_count": 7,
   "metadata": {},
   "outputs": [],
   "source": [
    "class Query:\n",
    "    '''\n",
    "    The important thing here is that the labels on the data coincide with the labels on the columns.\n",
    "    '''\n",
    "    def __init__(self, index, docs, dictionary, tokenize_latex, cols):\n",
    "        self.index = index\n",
    "        self.docs = docs\n",
    "        self.dictionary = dictionary\n",
    "        self.tokenize_latex = tokenize_latex\n",
    "        self.columns = cols\n",
    "    def _convert_query(self, query):\n",
    "        query = self.dictionary.doc2bow(self.tokenize_latex(query))\n",
    "        sims = self.index[query]\n",
    "        neighbors = sorted(sims, key=lambda item: -item[1])\n",
    "        neighbors = {\"neighbors\":[{self.columns[0]: {\"data\": self.docs[n[0]], \"fmt\": \"math\"}, self.columns[1]: {\"data\": float(n[1])}} for n in neighbors]} if neighbors else {\"neighbors\": []}\n",
    "        return neighbors\n",
    "    def query(self, q):\n",
    "        return self._convert_query(q)\n",
    "        \n",
    "\n"
   ]
  },
  {
   "cell_type": "code",
   "execution_count": 8,
   "metadata": {},
   "outputs": [
    {
     "data": {
      "text/plain": [
       "<gensim.similarities.docsim.Similarity at 0x109585650>"
      ]
     },
     "execution_count": 8,
     "metadata": {},
     "output_type": "execute_result"
    }
   ],
   "source": [
    "index"
   ]
  },
  {
   "cell_type": "code",
   "execution_count": 9,
   "metadata": {},
   "outputs": [
    {
     "data": {
      "text/plain": [
       "<gensim.corpora.dictionary.Dictionary at 0x109616550>"
      ]
     },
     "execution_count": 9,
     "metadata": {},
     "output_type": "execute_result"
    }
   ],
   "source": [
    "dictionary"
   ]
  },
  {
   "cell_type": "code",
   "execution_count": 10,
   "metadata": {},
   "outputs": [
    {
     "name": "stderr",
     "output_type": "stream",
     "text": [
      "2017-11-30 09:45:32,947 : INFO : creating sparse index\n",
      "2017-11-30 09:45:32,953 : INFO : creating sparse matrix from corpus\n",
      "2017-11-30 09:45:32,958 : INFO : PROGRESS: at document #0/23611\n",
      "2017-11-30 09:45:33,760 : INFO : PROGRESS: at document #10000/23611\n",
      "2017-11-30 09:45:34,391 : INFO : PROGRESS: at document #20000/23611\n",
      "2017-11-30 09:45:34,631 : INFO : created <23611x57545 sparse matrix of type '<type 'numpy.float32'>'\n",
      "\twith 515393 stored elements in Compressed Sparse Row format>\n",
      "2017-11-30 09:45:34,632 : INFO : creating sparse shard #1\n",
      "2017-11-30 09:45:34,633 : INFO : saving index shard to index/.1\n",
      "2017-11-30 09:45:34,635 : INFO : saving SparseMatrixSimilarity object under index/.1, separately None\n",
      "2017-11-30 09:45:34,658 : INFO : saved index/.1\n",
      "2017-11-30 09:45:34,662 : INFO : loading SparseMatrixSimilarity object from index/.1\n",
      "2017-11-30 09:45:34,675 : INFO : loaded index/.1\n"
     ]
    },
    {
     "data": {
      "text/plain": [
       "{'neighbors': [{'neighbor': {'data': u'c=c_{1}+c_{2}', 'fmt': 'math'},\n",
       "   'similarity_score': {'data': 0.6769928336143494}},\n",
       "  {'neighbor': {'data': u'v_{c}=\\\\frac{R_{c}}{\\\\tau_{c}}', 'fmt': 'math'},\n",
       "   'similarity_score': {'data': 0.6608393788337708}},\n",
       "  {'neighbor': {'data': u'A_{c_{1}c_{2}}=\\\\frac{N(c_{1}c_{2}>0)-N(c_{1}c_{2}<0)}{N(c_{1}c_{2}>0)+N(c_{1}c_{2}<0)},',\n",
       "    'fmt': 'math'},\n",
       "   'similarity_score': {'data': 0.5799717903137207}},\n",
       "  {'neighbor': {'data': u'\\\\frac{u_{c}}{T_{c}}\\\\geq1', 'fmt': 'math'},\n",
       "   'similarity_score': {'data': 0.5707259774208069}},\n",
       "  {'neighbor': {'data': u'\\\\Phi(c)=\\\\frac{2}{c}-\\\\phi(c)\\\\,.', 'fmt': 'math'},\n",
       "   'similarity_score': {'data': 0.5399872064590454}},\n",
       "  {'neighbor': {'data': u'T_d\\\\approx\\\\frac{FL_{c}}{\\\\pic}=\\\\frac{1}{2\\\\pi\\\\Deltau_c},',\n",
       "    'fmt': 'math'},\n",
       "   'similarity_score': {'data': 0.5264416933059692}},\n",
       "  {'neighbor': {'data': u'v_c=\\\\left(\\\\frac{F_c}{\\\\rho}\\\\right)^{\\\\frac{1}{3}};',\n",
       "    'fmt': 'math'},\n",
       "   'similarity_score': {'data': 0.5225077867507935}},\n",
       "  {'neighbor': {'data': u'd_c=\\\\sum\\\\frac{1}{t}', 'fmt': 'math'},\n",
       "   'similarity_score': {'data': 0.5210309624671936}},\n",
       "  {'neighbor': {'data': u'\\\\Phi(c)\\\\simeq\\\\frac{2}{c}-\\\\frac{8}{c^3}',\n",
       "    'fmt': 'math'},\n",
       "   'similarity_score': {'data': 0.5126368403434753}},\n",
       "  {'neighbor': {'data': u's_n(c_0,c_1,\\\\ldots,c_{n-1})=(c_{n-1},c_0,\\\\ldots,c_{n-2}),',\n",
       "    'fmt': 'math'},\n",
       "   'similarity_score': {'data': 0.5117226243019104}},\n",
       "  {'neighbor': {'data': u'E_{c\\\\;\\\\pm}=\\\\pm\\\\frac{mc^4}{\\\\left(c^2r_c+GM\\\\right)}\\\\sqrt{\\\\frac{\\\\Sigmar_c^{3}}{{c^2}r_c-{GM}}}',\n",
       "    'fmt': 'math'},\n",
       "   'similarity_score': {'data': 0.5111610293388367}},\n",
       "  {'neighbor': {'data': u'c(a)\\\\propto{c_0}{(1+\\\\frac{a}{{{a_c}}})^n},',\n",
       "    'fmt': 'math'},\n",
       "   'similarity_score': {'data': 0.49826985597610474}},\n",
       "  {'neighbor': {'data': u'\\\\frac{1}{\\\\beta_c}=\\\\frac{1}{2}\\\\LeftrightarrowT_c=\\\\frac{1}{2}\\\\;.',\n",
       "    'fmt': 'math'},\n",
       "   'similarity_score': {'data': 0.48993903398513794}},\n",
       "  {'neighbor': {'data': u'd(p_q,c_j)-m_j<2\\\\left(\\\\min_{c_i\\\\inC,c_iec_j}d(c_i,c_j)\\\\right)',\n",
       "    'fmt': 'math'},\n",
       "   'similarity_score': {'data': 0.4806996285915375}},\n",
       "  {'neighbor': {'data': u'\\\\frac{2c_s^{2}}{G}', 'fmt': 'math'},\n",
       "   'similarity_score': {'data': 0.4790744185447693}},\n",
       "  {'neighbor': {'data': u'\\\\mathbf{c}(t)=(c_{1}(t),c_{2}(t),...,c_{N}(t)),',\n",
       "    'fmt': 'math'},\n",
       "   'similarity_score': {'data': 0.47596055269241333}},\n",
       "  {'neighbor': {'data': u'\\\\lambda_{c}^{2}=z_{c}^{\\\\gamma+1}x_{c}^4',\n",
       "    'fmt': 'math'},\n",
       "   'similarity_score': {'data': 0.4734348952770233}},\n",
       "  {'neighbor': {'data': u'\\\\begin{aligned}\\\\dot{c_t}=&NEP(c_a,c_t)-H(c_t)\\\\\\\\\\\\dot{c_m}=&D(c_a,c_m),\\\\end{aligned}',\n",
       "    'fmt': 'math'},\n",
       "   'similarity_score': {'data': 0.4690856635570526}},\n",
       "  {'neighbor': {'data': u'E(x)=\\\\sum_{c\\\\in\\\\cal{C}}{\\\\psi_{c}(x_{c})},',\n",
       "    'fmt': 'math'},\n",
       "   'similarity_score': {'data': 0.4662623107433319}},\n",
       "  {'neighbor': {'data': u'L_{c\\\\;\\\\pm}=\\\\frac{q\\\\sqrt{G}M}{c}\\\\mp\\\\frac{(c^2r_c+GM)m}{c^2}\\\\sqrt{\\\\frac{\\\\SigmaGM}{c^2r_c-GM}}',\n",
       "    'fmt': 'math'},\n",
       "   'similarity_score': {'data': 0.4640587568283081}},\n",
       "  {'neighbor': {'data': u'\\\\sum_{c=1}^{N_c}a^c\\\\omega_{jnk}^c=1.',\n",
       "    'fmt': 'math'},\n",
       "   'similarity_score': {'data': 0.4549811780452728}},\n",
       "  {'neighbor': {'data': u'c(x,y)=c_{eq},', 'fmt': 'math'},\n",
       "   'similarity_score': {'data': 0.4545525014400482}},\n",
       "  {'neighbor': {'data': u\"det(M_c)=-\\\\frac{2}{D-2}r_c(f'_c)^2\\\\frac{h_c^4}{n_c^2}{\\\\mathcal{F}_\\\\mu^{(D)}}'(r_c),\",\n",
       "    'fmt': 'math'},\n",
       "   'similarity_score': {'data': 0.45420363545417786}},\n",
       "  {'neighbor': {'data': u'(c_0,c_1,\\\\ldots,c_{n-1})\\\\mapstoc_0+c_1x+\\\\cdots+c_{n-1}x^{n-1}.',\n",
       "    'fmt': 'math'},\n",
       "   'similarity_score': {'data': 0.4488498866558075}},\n",
       "  {'neighbor': {'data': u'\\\\mathbf{c}(t+1)=(c_{1}(t),c_{2}(t),...,c_{j}(t)+\\\\alphac_{i}(t),...,c_{N}(t)).',\n",
       "    'fmt': 'math'},\n",
       "   'similarity_score': {'data': 0.44314199686050415}},\n",
       "  {'neighbor': {'data': u'\\\\begin{aligned}\\\\lambda_c=\\\\frac{2\\\\pi}{k_c}&=2\\\\pi\\\\sqrt{\\\\frac{2}{\\\\beta}},&\\\\Re(\\\\sigma_c)=-k_c^4+\\\\betak_c^2&=\\\\frac{\\\\beta^2}{4},\\\\end{aligned}',\n",
       "    'fmt': 'math'},\n",
       "   'similarity_score': {'data': 0.4422675371170044}},\n",
       "  {'neighbor': {'data': u'H_{I}=g({{c_1}^{\\\\dagger}}c_2+{{c_2}^{\\\\dagger}}c_1)\\\\,,',\n",
       "    'fmt': 'math'},\n",
       "   'similarity_score': {'data': 0.44201725721359253}},\n",
       "  {'neighbor': {'data': u'\\\\lambda_c(r)=f_ce^{-\\\\frac{(r-r_c)^2}{2s_c^2}}.',\n",
       "    'fmt': 'math'},\n",
       "   'similarity_score': {'data': 0.4414500892162323}},\n",
       "  {'neighbor': {'data': u'{\\\\mathcalP}(c,t)\\\\simeq\\\\frac{\\\\sqrt{t}e^{-t\\\\,\\\\left(\\\\frac{c^2}{4}-1\\\\right)}}{4\\\\sqrt{\\\\pi}}\\\\,\\\\,c\\\\,\\\\Phi(c)\\\\sum\\\\limits_{m=0}^M\\\\,e^{\\\\frac{cx_m}{2}}\\\\,.',\n",
       "    'fmt': 'math'},\n",
       "   'similarity_score': {'data': 0.440133661031723}},\n",
       "  {'neighbor': {'data': u\"\\\\begin{aligned}E(\\\\varphi_{c})&=\\\\left\\\\langle(1-\\\\partial^{2}_{x})\\\\varphi_{c},(4-\\\\partial^{2}_{x})^{-1}\\\\varphi_{c}\\\\right\\\\rangle_{H^{-1},H^{1}}=\\\\int_{\\\\mathbb{R}}\\\\rho_{c}\\\\varphi_{c}+\\\\int_{\\\\mathbb{R}}\\\\rho'_{c}\\\\varphi'_{c}onumber\\\\\\\\&=\\\\int_{\\\\mathbb{R}}\\\\rho_{c}\\\\varphi_{c}+\\\\int_{-\\\\infty}^{0}\\\\rho'_{c}\\\\varphi_{c}-\\\\int_{0}^{+\\\\infty}\\\\rho'_{c}\\\\varphi_{c}=2c\\\\rho_{c}(0)=\\\\frac{c^{2}}{3}\\\\;,\\\\end{aligned}\",\n",
       "    'fmt': 'math'},\n",
       "   'similarity_score': {'data': 0.43455371260643005}},\n",
       "  {'neighbor': {'data': u'\\\\Phi(c)=\\\\frac{2}{c}-\\\\frac{8}{c^3}+\\\\frac{6.818\\\\dots}{c^5}+\\\\dots.',\n",
       "    'fmt': 'math'},\n",
       "   'similarity_score': {'data': 0.43370747566223145}},\n",
       "  {'neighbor': {'data': u'F(u)=\\\\frac{\\\\left[\\\\frac{2E^2GM}{c^4L^2}\\\\left(1+\\\\frac{GM}{c^2}u\\\\right)^3-\\\\frac{\\\\Sigmam^2GM}{c^2L^2}\\\\left(1+\\\\frac{GM}{c^2}u\\\\right)\\\\right]}{\\\\left(1-\\\\frac{q\\\\sqrt{G}M}{cL}\\\\right)^2}.',\n",
       "    'fmt': 'math'},\n",
       "   'similarity_score': {'data': 0.43128007650375366}},\n",
       "  {'neighbor': {'data': u'S_i=-\\\\sum_{c}p_{i}(c)\\\\lnp_{i}(c),', 'fmt': 'math'},\n",
       "   'similarity_score': {'data': 0.4302726089954376}},\n",
       "  {'neighbor': {'data': u'\\\\phi(c)=\\\\frac{8}{c^3}\\\\left[R_0+\\\\frac{4}{c^2}R_1+\\\\dots+\\\\left(\\\\frac{4}{c^2}\\\\right)^nR_n+\\\\dots\\\\right]',\n",
       "    'fmt': 'math'},\n",
       "   'similarity_score': {'data': 0.42815205454826355}},\n",
       "  {'neighbor': {'data': u'\\\\frac{c}{2}\\\\geq(N_{P_{2}})\\\\geq\\\\frac{c}{8}',\n",
       "    'fmt': 'math'},\n",
       "   'similarity_score': {'data': 0.4269017279148102}},\n",
       "  {'neighbor': {'data': u'\\\\[a\\\\odotb=c_nc_{n-1}\\\\cdotsc_1,\\\\]',\n",
       "    'fmt': 'math'},\n",
       "   'similarity_score': {'data': 0.4254201650619507}},\n",
       "  {'neighbor': {'data': u'\\\\begin{aligned}\\\\rho_1&:=c_1(3)\\\\,c_1(5)\\\\,c_1(7)\\\\cdotsc_1(p_N),\\\\\\\\\\\\rho_2&:=c_2(3)\\\\,c_2(5)\\\\,c_2(7)\\\\cdotsc_2(p_N),\\\\\\\\&\\\\phantom{x.}\\\\vdots\\\\\\\\\\\\rho_k&:=c_k(3)\\\\,c_k(5)\\\\,c_k(7)\\\\cdotsc_k(p_N).\\\\end{aligned}',\n",
       "    'fmt': 'math'},\n",
       "   'similarity_score': {'data': 0.42445725202560425}},\n",
       "  {'neighbor': {'data': u'\\\\omega_{\\\\pm}=\\\\frac{q\\\\sqrt{2c_0n+2c_1n\\\\pm2n\\\\sqrt{c_0^2-2c_0c_1+c_1^2+4c_0c_1{\\\\calM}^2}+q^2}}{2}.',\n",
       "    'fmt': 'math'},\n",
       "   'similarity_score': {'data': 0.424426406621933}},\n",
       "  {'neighbor': {'data': u'\\\\Pi_{\\\\rho}^{\\\\mathrm{Phys}}(p^{2})=\\\\frac{f_{\\\\eta_{c}}f_{Z_{c}}m_{Z_{c}}m_{\\\\eta_{c}}^{2}g_{Z_{c}\\\\eta_{c}\\\\rho}}{4m_{c}\\\\left(p^{2}-\\\\widetilde{m}^{2}\\\\right)^{2}}(m_{\\\\eta_{c}}^{2}-m_{Z_{c}}^{2})+\\\\ldots',\n",
       "    'fmt': 'math'},\n",
       "   'similarity_score': {'data': 0.4220212697982788}},\n",
       "  {'neighbor': {'data': u'\\\\[\\\\big\\\\langle\\\\contraction{c_b^\\\\dagger(t_+)}{c_a(t_+)}{}{c^\\\\dagger_{{\\\\mathbf{{p}}}}(0)}\\\\contraction{c_b^\\\\dagger(t_+)c_a(t_+)c^\\\\dagger_{{\\\\mathbf{{p}}}}(0)}{c_{{\\\\mathbf{{p}}}}(0)}{}{c_c^\\\\dagger(t^\\\\prime_-)}\\\\contraction[2ex]{}{c_b^\\\\dagger(t_+)}{c_a(t_+)c^\\\\dagger_{{\\\\mathbf{{p}}}}(0)c_{{\\\\mathbf{{p}}}}(0)c_c^\\\\dagger(t^\\\\prime_-)}{c_d(t^\\\\prime_-)}c_b^\\\\dagger(t_+)c_a(t_+)c^\\\\dagger_{{\\\\mathbf{{p}}}}(0)c_{{\\\\mathbf{{p}}}}(0)c_c^\\\\dagger(t^\\\\prime_-)c_d(t^\\\\prime_-)\\\\big\\\\rangle.\\\\]',\n",
       "    'fmt': 'math'},\n",
       "   'similarity_score': {'data': 0.419121652841568}},\n",
       "  {'neighbor': {'data': u'\\\\centering\\\\begin{aligned}{\\\\Phi(t_*)}=\\\\tilde{c}(\\\\mathbf{t}_*)=&\\\\underset{\\\\mathbf{c}}{\\\\operatorname{argmin}}[K_C(\\\\mathbf{c},\\\\mathbf{c})-2k_c(\\\\mathbf{c})^\\\\textsf{T}\\\\mathbf{u}-\\\\eta\\\\log(\\\\\\\\&K_C(\\\\mathbf{c},\\\\mathbf{c}-k_c(\\\\mathbf{c})^\\\\textsf{T}(\\\\mathbf{K}_C+\\\\lambda_c\\\\mathbf{I})^{-1}k_c(c))]\\\\end{aligned}',\n",
       "    'fmt': 'math'},\n",
       "   'similarity_score': {'data': 0.4146839678287506}},\n",
       "  {'neighbor': {'data': u'{\\\\tilde{p}}_{ij}(k)={\\\\tilde{p}}_i(k)\\\\frac{\\\\sum_{c=1}^CS_{ij}^c}{\\\\sum_{c=1}^CS_i^c}.',\n",
       "    'fmt': 'math'},\n",
       "   'similarity_score': {'data': 0.4104118347167969}},\n",
       "  {'neighbor': {'data': u'u^cd^cD^c,~~~d^cd^cU^c,~~~QQD,~~~N^cS_2.',\n",
       "    'fmt': 'math'},\n",
       "   'similarity_score': {'data': 0.4080999195575714}},\n",
       "  {'neighbor': {'data': u'\\\\begin{aligned}L&=-\\\\sum_{n=1}^{N}{\\\\sum_{c=1}^{C}{t_{n,c}\\\\logp_{n,c}}},\\\\\\\\\\\\textrm{where}p_{n,c}&=\\\\frac{e^{net_{n,c}}}{e^{\\\\sum_{c=1}^{C}{net_{n,c}}}}.\\\\end{aligned}',\n",
       "    'fmt': 'math'},\n",
       "   'similarity_score': {'data': 0.4078979194164276}},\n",
       "  {'neighbor': {'data': u'\\\\langle0|J^{\\\\eta_{c}}|\\\\eta_{c}(p)\\\\rangle=\\\\frac{f_{\\\\eta_{c}}m_{\\\\eta_{c}}^{2}}{2m_{c}},',\n",
       "    'fmt': 'math'},\n",
       "   'similarity_score': {'data': 0.40780746936798096}},\n",
       "  {'neighbor': {'data': u'\\\\tau_{c}=\\\\frac{R_{c}^{2}}{4D},', 'fmt': 'math'},\n",
       "   'similarity_score': {'data': 0.4070664048194885}},\n",
       "  {'neighbor': {'data': u'c\\\\,\\\\Phi(c)=2-\\\\frac{8}{c^2}+\\\\frac{6.818\\\\dots}{c^4}+\\\\dots.',\n",
       "    'fmt': 'math'},\n",
       "   'similarity_score': {'data': 0.4065842926502228}},\n",
       "  {'neighbor': {'data': u'{\\\\operatorname{ub}}({\\\\mathscr{N}}_q)+m_j<2\\\\left(\\\\min_{c_i\\\\inC,c_iec_j}d(c_i,c_j)\\\\right)',\n",
       "    'fmt': 'math'},\n",
       "   'similarity_score': {'data': 0.4049173593521118}},\n",
       "  {'neighbor': {'data': u'\\\\Deltac=0', 'fmt': 'math'},\n",
       "   'similarity_score': {'data': 0.40448662638664246}},\n",
       "  {'neighbor': {'data': u'{\\\\mathcalP}(c,t)\\\\simeq\\\\frac{c\\\\,\\\\Phi(c)}{4\\\\sqrt{\\\\pi}}\\\\,\\\\sqrt{t}\\\\,\\\\exp\\\\left[-t\\\\left(\\\\frac{c^2}{4}-1\\\\right)\\\\right],',\n",
       "    'fmt': 'math'},\n",
       "   'similarity_score': {'data': 0.4032999277114868}},\n",
       "  {'neighbor': {'data': u'\\\\omega_c=\\\\frac{3qB_{\\\\rmeff}\\\\gamma^2}{2mc},',\n",
       "    'fmt': 'math'},\n",
       "   'similarity_score': {'data': 0.40225663781166077}},\n",
       "  {'neighbor': {'data': u'\\\\begin{aligned}\\\\pi(\\\\frac{\\\\Delta_{0}}{2\\\\omega_c})^2&=\\\\frac{\\\\Gamma}{\\\\omega_c}.\\\\end{aligned}',\n",
       "    'fmt': 'math'},\n",
       "   'similarity_score': {'data': 0.40042972564697266}},\n",
       "  {'neighbor': {'data': u'\\\\tau_c=\\\\frac{a}{\\\\epsilon}.', 'fmt': 'math'},\n",
       "   'similarity_score': {'data': 0.40007469058036804}},\n",
       "  {'neighbor': {'data': u'c=\\\\frac{dR_0}{16c_1^3(d^2-1)^2}.', 'fmt': 'math'},\n",
       "   'similarity_score': {'data': 0.3989940285682678}},\n",
       "  {'neighbor': {'data': u'c_{t+1}=c_t-\\\\alphac_t.', 'fmt': 'math'},\n",
       "   'similarity_score': {'data': 0.3986893594264984}},\n",
       "  {'neighbor': {'data': u'\\\\sumF(r_c)=F^p(r_c)+T^{\\\\gamma}(r_c)=0',\n",
       "    'fmt': 'math'},\n",
       "   'similarity_score': {'data': 0.39666810631752014}},\n",
       "  {'neighbor': {'data': u'\\\\mathcal{H}((1+c_0)s)\\\\leq\\\\max\\\\left[G^{-1}\\\\Big(\\\\frac{c}{c_0s}\\\\Big),\\\\frac{c}{c+1}G^{-1}\\\\Big(\\\\frac{c(c_0+1)}{c_0s}\\\\Big),...,\\\\right.',\n",
       "    'fmt': 'math'},\n",
       "   'similarity_score': {'data': 0.3965577483177185}},\n",
       "  {'neighbor': {'data': u'u^cN^cU,~~~u^ce^cD,~~~d^cN^cD,~~~QLD^c,~~~N^cN^cS_1.',\n",
       "    'fmt': 'math'},\n",
       "   'similarity_score': {'data': 0.39569398760795593}},\n",
       "  {'neighbor': {'data': u'\\\\tau_c=\\\\frac{a}{\\\\gamma-1}.', 'fmt': 'math'},\n",
       "   'similarity_score': {'data': 0.3948253393173218}},\n",
       "  {'neighbor': {'data': u'\\\\frac{1}{k_c^2}-\\\\frac{k^2}{k_c^2}=1.',\n",
       "    'fmt': 'math'},\n",
       "   'similarity_score': {'data': 0.39448070526123047}},\n",
       "  {'neighbor': {'data': u'\\\\tilde{c}=0,', 'fmt': 'math'},\n",
       "   'similarity_score': {'data': 0.3900851011276245}},\n",
       "  {'neighbor': {'data': u'T_{h,c}=\\\\frac{1}{6\\\\pi}\\\\left|\\\\frac{3M}{r_{h,c}^2}+(D-r_{h,c})\\\\Lambda\\\\right|',\n",
       "    'fmt': 'math'},\n",
       "   'similarity_score': {'data': 0.38979268074035645}},\n",
       "  {'neighbor': {'data': u'\\\\alpha=\\\\frac{n_{1}\\\\,c_{2}}{(c_{1}-c_{2})^{2}}\\\\,,\\\\quad\\\\beta=-\\\\frac{n_{2}\\\\,c_{2}}{(c_{1}-c_{2})^{2}}\\\\,,\\\\quad\\\\gamma=-\\\\frac{2}{c_{2}}\\\\,,',\n",
       "    'fmt': 'math'},\n",
       "   'similarity_score': {'data': 0.3892460763454437}},\n",
       "  {'neighbor': {'data': u'\\\\tilde{\\\\pi}_1=[c_2,c_3,...,c_{k-1},c_k,c_1].',\n",
       "    'fmt': 'math'},\n",
       "   'similarity_score': {'data': 0.38882455229759216}},\n",
       "  {'neighbor': {'data': u'\\\\[C_{\\\\mu}(x_{1},\\\\text{\\\\dots},x_{n})=\\\\sum_{i=1}^{n}(v\\\\left(c_{i}\\\\right)-\\\\frac{1}{2}\\\\sumI(c_{i},c_{j}))x_{i}+\\\\sum_{I(c_{i},c_{j})>0}I(c_{i},c_{j})\\\\min(x_{i},x_{j})+\\\\sum_{I(c_{i},c_{j})<0}\\\\midI(c_{i},c_{j})\\\\mid\\\\max(x_{i},x_{j}).\\\\]',\n",
       "    'fmt': 'math'},\n",
       "   'similarity_score': {'data': 0.38823509216308594}},\n",
       "  {'neighbor': {'data': u'e^{\\\\phi(r)}=\\\\frac{c^2r}{c^2r+GM}', 'fmt': 'math'},\n",
       "   'similarity_score': {'data': 0.3874828815460205}},\n",
       "  {'neighbor': {'data': u'\\\\left(\\\\frac{\\\\sigma_a}{N_a}\\\\right)^2=F\\\\cdot\\\\left(\\\\frac{\\\\sigma_c}{N_c}\\\\right)^2,',\n",
       "    'fmt': 'math'},\n",
       "   'similarity_score': {'data': 0.38741421699523926}},\n",
       "  {'neighbor': {'data': u'c({\\\\tilde{\\\\kappa}})=\\\\frac{\\\\kappa_c-2(z-1)\\\\mathcal{P}_cs_c{\\\\tilde{\\\\kappa}}}{\\\\kappa_c+{\\\\tilde{\\\\kappa}}s_c}',\n",
       "    'fmt': 'math'},\n",
       "   'similarity_score': {'data': 0.38714146614074707}},\n",
       "  {'neighbor': {'data': u'r<\\\\frac{1}{1+\\\\frac{c}{v+\\\\epsilon}}',\n",
       "    'fmt': 'math'},\n",
       "   'similarity_score': {'data': 0.38637101650238037}},\n",
       "  {'neighbor': {'data': u\"f=\\\\frac{c}{2}\\\\sqrt{\\\\frac{1}{L'^2}+\\\\frac{1}{a^2}},\",\n",
       "    'fmt': 'math'},\n",
       "   'similarity_score': {'data': 0.3854174315929413}},\n",
       "  {'neighbor': {'data': u'\\\\mathbf{c}=M\\\\mathbf{x}=[c_1,c_2,c_3,c_4]^\\\\top',\n",
       "    'fmt': 'math'},\n",
       "   'similarity_score': {'data': 0.38473787903785706}},\n",
       "  {'neighbor': {'data': u'{\\\\eta_c}=1-\\\\frac{1}{{{\\\\beta_0}}}.',\n",
       "    'fmt': 'math'},\n",
       "   'similarity_score': {'data': 0.3846850097179413}},\n",
       "  {'neighbor': {'data': u'f_c^k(\\\\pi)=f_c\\\\left(f_c^{k-1}(\\\\pi)\\\\right),',\n",
       "    'fmt': 'math'},\n",
       "   'similarity_score': {'data': 0.384493887424469}},\n",
       "  {'neighbor': {'data': u'b_1=\\\\frac{c^2}{u^2}(1-\\\\epsilon),\\\\quadb_2=\\\\frac{c^2}{u^2}\\\\frac{\\\\epsilon}{w_z^2}.',\n",
       "    'fmt': 'math'},\n",
       "   'similarity_score': {'data': 0.3832273483276367}},\n",
       "  {'neighbor': {'data': u'\\\\begin{aligned}{V_2}=\\\\frac{1}{2}{\\\\dote_c^T}{M}\\\\dote_c+\\\\frac{1}{2}{e_c^T}{k\\\\Lambda}e_c>0.\\\\end{aligned}',\n",
       "    'fmt': 'math'},\n",
       "   'similarity_score': {'data': 0.38233885169029236}},\n",
       "  {'neighbor': {'data': u's_{c}(t)=\\\\sqrt{\\\\left(u_{c}(t)\\\\right)^2+\\\\left(v_{c}(t)\\\\right)^2}.',\n",
       "    'fmt': 'math'},\n",
       "   'similarity_score': {'data': 0.38222408294677734}},\n",
       "  {'neighbor': {'data': u'm(\\\\mu)\\\\sim(\\\\mu-\\\\mu_c)^{1/4},\\\\quad\\\\quad\\\\sigma(\\\\mu_c)=\\\\frac{\\\\mu_c}{2}>0,\\\\quad\\\\quadc=\\\\frac{1}{2\\\\sqrt{\\\\mu_c}}.',\n",
       "    'fmt': 'math'},\n",
       "   'similarity_score': {'data': 0.3812329173088074}},\n",
       "  {'neighbor': {'data': u'\\\\phi(\\\\mathbf{c})=\\\\beta\\\\mathbf{c}A,',\n",
       "    'fmt': 'math'},\n",
       "   'similarity_score': {'data': 0.38105785846710205}},\n",
       "  {'neighbor': {'data': u'\\\\sumF(P^c)=F^p(P^c)+T^{\\\\gamma}(P^c)=0',\n",
       "    'fmt': 'math'},\n",
       "   'similarity_score': {'data': 0.37999534606933594}},\n",
       "  {'neighbor': {'data': u'(c_0,c_1,\\\\ldots,c_{n-1})\\\\mapstoc_0x+c_1x^{[r]}+\\\\cdots+c_{n-1}x^{[(n-1)r]}.',\n",
       "    'fmt': 'math'},\n",
       "   'similarity_score': {'data': 0.3799397945404053}},\n",
       "  {'neighbor': {'data': u'n(x)=\\\\frac{c_{0}}{c_{M}(x)},\\\\qquadx\\\\in\\\\Omega,\\\\,c_{M}>0.',\n",
       "    'fmt': 'math'},\n",
       "   'similarity_score': {'data': 0.37864041328430176}},\n",
       "  {'neighbor': {'data': u'\\\\frac{c}{c+1}G^{-1}\\\\Big(\\\\frac{c(c_0+1)}{c_0s}\\\\Big)\\\\leqG^{-1}\\\\Big(\\\\frac{c}{c_0s}\\\\Big).',\n",
       "    'fmt': 'math'},\n",
       "   'similarity_score': {'data': 0.37718257308006287}},\n",
       "  {'neighbor': {'data': u'\\\\left.\\\\left(\\\\frac{c}{c+1}\\\\right)^nG^{-1}\\\\Big(\\\\frac{c(c_0+1)^n}{c_0s}\\\\Big),\\\\left(\\\\frac{c}{c+1}\\\\right)^{n+1}\\\\mathcal{H}\\\\left(\\\\frac{s}{(c_0+1)^{n+1}}\\\\right)\\\\right].',\n",
       "    'fmt': 'math'},\n",
       "   'similarity_score': {'data': 0.37716469168663025}},\n",
       "  {'neighbor': {'data': u'\\\\phi(c)=\\\\frac{8}{c^3}-\\\\frac{6.818\\\\dots}{c^5}+\\\\dots,',\n",
       "    'fmt': 'math'},\n",
       "   'similarity_score': {'data': 0.3761184513568878}},\n",
       "  {'neighbor': {'data': u'\\\\max_{c>0}\\\\;\\\\max_{c<d<c+2}\\\\;\\\\min\\\\left\\\\{d\\\\left(d-c+c\\\\ln\\\\left[\\\\frac{c}{d}\\\\right]\\\\right),d\\\\left(d-c-2+(c+2)\\\\ln\\\\left[\\\\frac{c+2}{d}\\\\right]\\\\right)\\\\right\\\\}',\n",
       "    'fmt': 'math'},\n",
       "   'similarity_score': {'data': 0.37521085143089294}},\n",
       "  {'neighbor': {'data': u'i\\\\frac{d\\\\mathbf{c}}{dt}=\\\\mathcal{H}_{eff}\\\\mathbf{c}(t)',\n",
       "    'fmt': 'math'},\n",
       "   'similarity_score': {'data': 0.37256741523742676}},\n",
       "  {'neighbor': {'data': u'f(a,c,d)\\\\leg(c,d):=f(a_0,c,d).', 'fmt': 'math'},\n",
       "   'similarity_score': {'data': 0.37166279554367065}},\n",
       "  {'neighbor': {'data': u\"\\\\sigma'(c_i)=\\\\rho(c_i)+\\\\delta_i\\\\leq\\\\rho(c_i)+(\\\\rho(c_{i_l})-\\\\rho(c_i))\\\\leq\",\n",
       "    'fmt': 'math'},\n",
       "   'similarity_score': {'data': 0.3710675835609436}},\n",
       "  {'neighbor': {'data': u'P^c_e=\\\\frac{\\\\gamma^{nw}}{r_c}', 'fmt': 'math'},\n",
       "   'similarity_score': {'data': 0.3710382878780365}},\n",
       "  {'neighbor': {'data': u'\\\\beta_\\\\sigma=c_0+\\\\left(2+c_1\\\\right)\\\\sigma+c_2\\\\,\\\\sigma^2+c_3\\\\,\\\\sigma^3\\\\,,',\n",
       "    'fmt': 'math'},\n",
       "   'similarity_score': {'data': 0.365436851978302}},\n",
       "  {'neighbor': {'data': u'\\\\begin{aligned}\\t\\t\\t3&=c_2+c_3+c_4\\\\\\\\\\t\\t\\t1&=3\\\\varepsilon_2c_2+\\\\sigmac_3+\\\\tauc_4\\\\\\\\\\t\\t\\t1&=\\\\sigmac_2+3\\\\varepsilon_3c_3+\\\\xic_4\\\\\\\\\\t\\t\\t1&=\\\\tauc_2+\\\\xic_3+3\\\\varepsilon_4c_4,\\t\\t\\\\end{aligned}',\n",
       "    'fmt': 'math'},\n",
       "   'similarity_score': {'data': 0.36504435539245605}},\n",
       "  {'neighbor': {'data': u'v(\\\\hatc)=\\\\begin{cases}v_0&(\\\\hatc<\\\\barc),\\\\\\\\v_0{\\\\alpha}&(\\\\hatc\\\\geqslant\\\\barc)\\\\end{cases}',\n",
       "    'fmt': 'math'},\n",
       "   'similarity_score': {'data': 0.36441048979759216}},\n",
       "  {'neighbor': {'data': u'r\\\\approxr_c-e^{-\\\\kappa_cv}e^{\\\\kappa_cu}',\n",
       "    'fmt': 'math'},\n",
       "   'similarity_score': {'data': 0.3637997508049011}},\n",
       "  {'neighbor': {'data': u'\\\\[{Y_{{\\\\rm{p}}}}=\\\\left({\\\\begin{array}{*{20}{c}}{2c}&{-c}&{-c}\\\\\\\\{-c}&{2c}&{-c}\\\\\\\\{-c}&{-c}&{2c}\\\\end{array}}\\\\right)\\\\]',\n",
       "    'fmt': 'math'},\n",
       "   'similarity_score': {'data': 0.36283156275749207}},\n",
       "  {'neighbor': {'data': u'\\\\textrm{Ma}=\\\\frac{v_c}{c_s}=\\\\sqrt{\\\\frac{\\\\rho}{\\\\gammaP}}\\\\;v_c,',\n",
       "    'fmt': 'math'},\n",
       "   'similarity_score': {'data': 0.36243751645088196}},\n",
       "  {'neighbor': {'data': u'g\\\\tau_d\\\\frac{\\\\partialf}{\\\\partial\\\\tau}\\\\xi_c^3+2u_{\\\\rmc}^2\\\\xi_{\\\\rmc}^2-\\\\beta\\\\xi_{\\\\rmc}+\\\\beta=0,',\n",
       "    'fmt': 'math'},\n",
       "   'similarity_score': {'data': 0.3615654706954956}},\n",
       "  {'neighbor': {'data': u'\\\\frac{{\\\\rmd}c_i}{{\\\\rmd}t}=\\\\dot{c}_i+\\\\frac{1}{\\\\rhor^2}{\\\\frac{\\\\partial{}{}}{\\\\partial{}r}}\\\\left(\\\\rhor^2D_{tot}{\\\\frac{\\\\partial{}{c_i}}{\\\\partial{}r}}\\\\right),',\n",
       "    'fmt': 'math'},\n",
       "   'similarity_score': {'data': 0.36138802766799927}},\n",
       "  {'neighbor': {'data': u'\\\\left(\\\\begin{array}{c}c_A(k)\\\\\\\\c_B(k)\\\\\\\\c_{A}^{\\\\dagger}(-k)\\\\\\\\c_{B}^{\\\\dagger}(-k)\\\\\\\\\\\\end{array}\\\\right)',\n",
       "    'fmt': 'math'},\n",
       "   'similarity_score': {'data': 0.3613400459289551}},\n",
       "  {'neighbor': {'data': u'H_c=uH_d\\\\quad\\\\Leftrightarrow\\\\quadu=\\\\frac{K_c}{K_d}=\\\\frac{u_c}{u_d}',\n",
       "    'fmt': 'math'},\n",
       "   'similarity_score': {'data': 0.3606051802635193}},\n",
       "  {'neighbor': {'data': u'\\\\frac{\\\\langle\\\\phi(T_c)\\\\rangle}{T_c}=\\\\frac{2e}{\\\\lambda}.',\n",
       "    'fmt': 'math'},\n",
       "   'similarity_score': {'data': 0.36052560806274414}}]}"
      ]
     },
     "execution_count": 10,
     "metadata": {},
     "output_type": "execute_result"
    }
   ],
   "source": [
    "q = Query(index, docs, dictionary, tokenize_latex, [\"neighbor\", \"similarity_score\"])\n",
    "q.query(\"\\\\frac\")"
   ]
  },
  {
   "cell_type": "code",
   "execution_count": 11,
   "metadata": {
    "scrolled": false
   },
   "outputs": [
    {
     "name": "stderr",
     "output_type": "stream",
     "text": [
      "Bottle v0.13-dev server starting up (using MyWSGIRefServer())...\n",
      "Listening on http://localhost:8081/\n",
      "Hit Ctrl-C to quit.\n",
      "\n"
     ]
    },
    {
     "data": {
      "text/html": [
       "<!DOCTYPE html><html lang=\"en\"><head><meta charset=\"utf-8\"><meta name=\"viewport\" content=\"width=device-width,initial-scale=1,shrink-to-fit=no\"><meta name=\"theme-color\" content=\"#000000\"><link rel=\"manifest\" href=\"./viz/manifest.json\"><link rel=\"stylesheet\" href=\"./viz/katex.css\"><title>React App</title><link href=\"./viz/static/css/main.2d3f6c1d.css\" rel=\"stylesheet\"></head><body><noscript>You need to enable JavaScript to run this app.</noscript><div id=\"root\"></div><script type=\"text/javascript\" src=\"./viz/static/js/main.00dedf0a.js\"></script></body></html>"
      ],
      "text/plain": [
       "<IPython.core.display.HTML object>"
      ]
     },
     "metadata": {},
     "output_type": "display_data"
    },
    {
     "name": "stderr",
     "output_type": "stream",
     "text": [
      "127.0.0.1 - - [30/Nov/2017 09:45:37] \"GET /settings HTTP/1.1\" 200 11824016\n"
     ]
    },
    {
     "name": "stdout",
     "output_type": "stream",
     "text": [
      "{'neighbors': [{'similarity_score': {'data': 0.9574124813079834}, 'neighbor': {'fmt': 'math', 'data': u'c=c_{1}+c_{2}'}}, {'similarity_score': {'data': 0.8170486092567444}, 'neighbor': {'fmt': 'math', 'data': u'v_{c}=\\\\frac{R_{c}}{\\\\tau_{c}}'}}, {'similarity_score': {'data': 0.7862759828567505}, 'neighbor': {'fmt': 'math', 'data': u'A_{c_{1}c_{2}}=\\\\frac{N(c_{1}c_{2}>0)-N(c_{1}c_{2}<0)}{N(c_{1}c_{2}>0)+N(c_{1}c_{2}<0)},'}}, {'similarity_score': {'data': 0.723685085773468}, 'neighbor': {'fmt': 'math', 'data': u's_n(c_0,c_1,\\\\ldots,c_{n-1})=(c_{n-1},c_0,\\\\ldots,c_{n-2}),'}}, {'similarity_score': {'data': 0.679811954498291}, 'neighbor': {'fmt': 'math', 'data': u'd(p_q,c_j)-m_j<2\\\\left(\\\\min_{c_i\\\\inC,c_iec_j}d(c_i,c_j)\\\\right)'}}, {'similarity_score': {'data': 0.6731098890304565}, 'neighbor': {'fmt': 'math', 'data': u'\\\\mathbf{c}(t)=(c_{1}(t),c_{2}(t),...,c_{N}(t)),'}}, {'similarity_score': {'data': 0.6695380806922913}, 'neighbor': {'fmt': 'math', 'data': u'\\\\lambda_{c}^{2}=z_{c}^{\\\\gamma+1}x_{c}^4'}}, {'similarity_score': {'data': 0.6676294207572937}, 'neighbor': {'fmt': 'math', 'data': u'\\\\Phi(c)=\\\\frac{2}{c}-\\\\phi(c)\\\\,.'}}, {'similarity_score': {'data': 0.6638928651809692}, 'neighbor': {'fmt': 'math', 'data': u'\\\\frac{u_{c}}{T_{c}}\\\\geq1'}}, {'similarity_score': {'data': 0.6633872985839844}, 'neighbor': {'fmt': 'math', 'data': u'\\\\begin{aligned}\\\\dot{c_t}=&NEP(c_a,c_t)-H(c_t)\\\\\\\\\\\\dot{c_m}=&D(c_a,c_m),\\\\end{aligned}'}}, {'similarity_score': {'data': 0.6593945026397705}, 'neighbor': {'fmt': 'math', 'data': u'E(x)=\\\\sum_{c\\\\in\\\\cal{C}}{\\\\psi_{c}(x_{c})},'}}, {'similarity_score': {'data': 0.6434405446052551}, 'neighbor': {'fmt': 'math', 'data': u'\\\\sum_{c=1}^{N_c}a^c\\\\omega_{jnk}^c=1.'}}, {'similarity_score': {'data': 0.6428343057632446}, 'neighbor': {'fmt': 'math', 'data': u'c(x,y)=c_{eq},'}}, {'similarity_score': {'data': 0.6423409581184387}, 'neighbor': {'fmt': 'math', 'data': u\"det(M_c)=-\\\\frac{2}{D-2}r_c(f'_c)^2\\\\frac{h_c^4}{n_c^2}{\\\\mathcal{F}_\\\\mu^{(D)}}'(r_c),\"}}, {'similarity_score': {'data': 0.6347696185112}, 'neighbor': {'fmt': 'math', 'data': u'(c_0,c_1,\\\\ldots,c_{n-1})\\\\mapstoc_0+c_1x+\\\\cdots+c_{n-1}x^{n-1}.'}}, {'similarity_score': {'data': 0.6338139176368713}, 'neighbor': {'fmt': 'math', 'data': u'\\\\Phi(c)\\\\simeq\\\\frac{2}{c}-\\\\frac{8}{c^3}'}}, {'similarity_score': {'data': 0.6319893002510071}, 'neighbor': {'fmt': 'math', 'data': u'E_{c\\\\;\\\\pm}=\\\\pm\\\\frac{mc^4}{\\\\left(c^2r_c+GM\\\\right)}\\\\sqrt{\\\\frac{\\\\Sigmar_c^{3}}{{c^2}r_c-{GM}}}'}}, {'similarity_score': {'data': 0.6266974210739136}, 'neighbor': {'fmt': 'math', 'data': u'\\\\mathbf{c}(t+1)=(c_{1}(t),c_{2}(t),...,c_{j}(t)+\\\\alphac_{i}(t),...,c_{N}(t)).'}}, {'similarity_score': {'data': 0.6251068115234375}, 'neighbor': {'fmt': 'math', 'data': u'H_{I}=g({{c_1}^{\\\\dagger}}c_2+{{c_2}^{\\\\dagger}}c_1)\\\\,,'}}, {'similarity_score': {'data': 0.6243047118186951}, 'neighbor': {'fmt': 'math', 'data': u'\\\\lambda_c(r)=f_ce^{-\\\\frac{(r-r_c)^2}{2s_c^2}}.'}}, {'similarity_score': {'data': 0.6160508990287781}, 'neighbor': {'fmt': 'math', 'data': u'c(a)\\\\propto{c_0}{(1+\\\\frac{a}{{{a_c}}})^n},'}}, {'similarity_score': {'data': 0.6084973812103271}, 'neighbor': {'fmt': 'math', 'data': u'S_i=-\\\\sum_{c}p_{i}(c)\\\\lnp_{i}(c),'}}, {'similarity_score': {'data': 0.6016349792480469}, 'neighbor': {'fmt': 'math', 'data': u'\\\\[a\\\\odotb=c_nc_{n-1}\\\\cdotsc_1,\\\\]'}}, {'similarity_score': {'data': 0.6002731919288635}, 'neighbor': {'fmt': 'math', 'data': u'\\\\begin{aligned}\\\\rho_1&:=c_1(3)\\\\,c_1(5)\\\\,c_1(7)\\\\cdotsc_1(p_N),\\\\\\\\\\\\rho_2&:=c_2(3)\\\\,c_2(5)\\\\,c_2(7)\\\\cdotsc_2(p_N),\\\\\\\\&\\\\phantom{x.}\\\\vdots\\\\\\\\\\\\rho_k&:=c_k(3)\\\\,c_k(5)\\\\,c_k(7)\\\\cdotsc_k(p_N).\\\\end{aligned}'}}, {'similarity_score': {'data': 0.5973674058914185}, 'neighbor': {'fmt': 'math', 'data': u\"\\\\begin{aligned}E(\\\\varphi_{c})&=\\\\left\\\\langle(1-\\\\partial^{2}_{x})\\\\varphi_{c},(4-\\\\partial^{2}_{x})^{-1}\\\\varphi_{c}\\\\right\\\\rangle_{H^{-1},H^{1}}=\\\\int_{\\\\mathbb{R}}\\\\rho_{c}\\\\varphi_{c}+\\\\int_{\\\\mathbb{R}}\\\\rho'_{c}\\\\varphi'_{c}onumber\\\\\\\\&=\\\\int_{\\\\mathbb{R}}\\\\rho_{c}\\\\varphi_{c}+\\\\int_{-\\\\infty}^{0}\\\\rho'_{c}\\\\varphi_{c}-\\\\int_{0}^{+\\\\infty}\\\\rho'_{c}\\\\varphi_{c}=2c\\\\rho_{c}(0)=\\\\frac{c^{2}}{3}\\\\;,\\\\end{aligned}\"}}, {'similarity_score': {'data': 0.592727541923523}, 'neighbor': {'fmt': 'math', 'data': u'\\\\[\\\\big\\\\langle\\\\contraction{c_b^\\\\dagger(t_+)}{c_a(t_+)}{}{c^\\\\dagger_{{\\\\mathbf{{p}}}}(0)}\\\\contraction{c_b^\\\\dagger(t_+)c_a(t_+)c^\\\\dagger_{{\\\\mathbf{{p}}}}(0)}{c_{{\\\\mathbf{{p}}}}(0)}{}{c_c^\\\\dagger(t^\\\\prime_-)}\\\\contraction[2ex]{}{c_b^\\\\dagger(t_+)}{c_a(t_+)c^\\\\dagger_{{\\\\mathbf{{p}}}}(0)c_{{\\\\mathbf{{p}}}}(0)c_c^\\\\dagger(t^\\\\prime_-)}{c_d(t^\\\\prime_-)}c_b^\\\\dagger(t_+)c_a(t_+)c^\\\\dagger_{{\\\\mathbf{{p}}}}(0)c_{{\\\\mathbf{{p}}}}(0)c_c^\\\\dagger(t^\\\\prime_-)c_d(t^\\\\prime_-)\\\\big\\\\rangle.\\\\]'}}, {'similarity_score': {'data': 0.5864517092704773}, 'neighbor': {'fmt': 'math', 'data': u'\\\\centering\\\\begin{aligned}{\\\\Phi(t_*)}=\\\\tilde{c}(\\\\mathbf{t}_*)=&\\\\underset{\\\\mathbf{c}}{\\\\operatorname{argmin}}[K_C(\\\\mathbf{c},\\\\mathbf{c})-2k_c(\\\\mathbf{c})^\\\\textsf{T}\\\\mathbf{u}-\\\\eta\\\\log(\\\\\\\\&K_C(\\\\mathbf{c},\\\\mathbf{c}-k_c(\\\\mathbf{c})^\\\\textsf{T}(\\\\mathbf{K}_C+\\\\lambda_c\\\\mathbf{I})^{-1}k_c(c))]\\\\end{aligned}'}}, {'similarity_score': {'data': 0.5781776905059814}, 'neighbor': {'fmt': 'math', 'data': u'T_d\\\\approx\\\\frac{FL_{c}}{\\\\pic}=\\\\frac{1}{2\\\\pi\\\\Deltau_c},'}}, {'similarity_score': {'data': 0.5771404504776001}, 'neighbor': {'fmt': 'math', 'data': u'u^cd^cD^c,~~~d^cd^cU^c,~~~QQD,~~~N^cS_2.'}}, {'similarity_score': {'data': 0.5726396441459656}, 'neighbor': {'fmt': 'math', 'data': u'{\\\\operatorname{ub}}({\\\\mathscr{N}}_q)+m_j<2\\\\left(\\\\min_{c_i\\\\inC,c_iec_j}d(c_i,c_j)\\\\right)'}}, {'similarity_score': {'data': 0.5720304846763611}, 'neighbor': {'fmt': 'math', 'data': u'\\\\Deltac=0'}}, {'similarity_score': {'data': 0.5695226192474365}, 'neighbor': {'fmt': 'math', 'data': u'\\\\Pi_{\\\\rho}^{\\\\mathrm{Phys}}(p^{2})=\\\\frac{f_{\\\\eta_{c}}f_{Z_{c}}m_{Z_{c}}m_{\\\\eta_{c}}^{2}g_{Z_{c}\\\\eta_{c}\\\\rho}}{4m_{c}\\\\left(p^{2}-\\\\widetilde{m}^{2}\\\\right)^{2}}(m_{\\\\eta_{c}}^{2}-m_{Z_{c}}^{2})+\\\\ldots'}}, {'similarity_score': {'data': 0.5653778910636902}, 'neighbor': {'fmt': 'math', 'data': u'\\\\omega_{\\\\pm}=\\\\frac{q\\\\sqrt{2c_0n+2c_1n\\\\pm2n\\\\sqrt{c_0^2-2c_0c_1+c_1^2+4c_0c_1{\\\\calM}^2}+q^2}}{2}.'}}, {'similarity_score': {'data': 0.5638319253921509}, 'neighbor': {'fmt': 'math', 'data': u'c_{t+1}=c_t-\\\\alphac_t.'}}, {'similarity_score': {'data': 0.5609734058380127}, 'neighbor': {'fmt': 'math', 'data': u'\\\\sumF(r_c)=F^p(r_c)+T^{\\\\gamma}(r_c)=0'}}, {'similarity_score': {'data': 0.5595958232879639}, 'neighbor': {'fmt': 'math', 'data': u'u^cN^cU,~~~u^ce^cD,~~~d^cN^cD,~~~QLD^c,~~~N^cN^cS_1.'}}, {'similarity_score': {'data': 0.5516636371612549}, 'neighbor': {'fmt': 'math', 'data': u'\\\\tilde{c}=0,'}}, {'similarity_score': {'data': 0.5498809814453125}, 'neighbor': {'fmt': 'math', 'data': u'\\\\tilde{\\\\pi}_1=[c_2,c_3,...,c_{k-1},c_k,c_1].'}}, {'similarity_score': {'data': 0.5490473508834839}, 'neighbor': {'fmt': 'math', 'data': u'\\\\[C_{\\\\mu}(x_{1},\\\\text{\\\\dots},x_{n})=\\\\sum_{i=1}^{n}(v\\\\left(c_{i}\\\\right)-\\\\frac{1}{2}\\\\sumI(c_{i},c_{j}))x_{i}+\\\\sum_{I(c_{i},c_{j})>0}I(c_{i},c_{j})\\\\min(x_{i},x_{j})+\\\\sum_{I(c_{i},c_{j})<0}\\\\midI(c_{i},c_{j})\\\\mid\\\\max(x_{i},x_{j}).\\\\]'}}, {'similarity_score': {'data': 0.5441015362739563}, 'neighbor': {'fmt': 'math', 'data': u'\\\\mathbf{c}=M\\\\mathbf{x}=[c_1,c_2,c_3,c_4]^\\\\top'}}, {'similarity_score': {'data': 0.5437564849853516}, 'neighbor': {'fmt': 'math', 'data': u'f_c^k(\\\\pi)=f_c\\\\left(f_c^{k-1}(\\\\pi)\\\\right),'}}, {'similarity_score': {'data': 0.5433603525161743}, 'neighbor': {'fmt': 'math', 'data': u'\\\\begin{aligned}L&=-\\\\sum_{n=1}^{N}{\\\\sum_{c=1}^{C}{t_{n,c}\\\\logp_{n,c}}},\\\\\\\\\\\\textrm{where}p_{n,c}&=\\\\frac{e^{net_{n,c}}}{e^{\\\\sum_{c=1}^{C}{net_{n,c}}}}.\\\\end{aligned}'}}, {'similarity_score': {'data': 0.5405464768409729}, 'neighbor': {'fmt': 'math', 'data': u's_{c}(t)=\\\\sqrt{\\\\left(u_{c}(t)\\\\right)^2+\\\\left(v_{c}(t)\\\\right)^2}.'}}, {'similarity_score': {'data': 0.5398129820823669}, 'neighbor': {'fmt': 'math', 'data': u'L_{c\\\\;\\\\pm}=\\\\frac{q\\\\sqrt{G}M}{c}\\\\mp\\\\frac{(c^2r_c+GM)m}{c^2}\\\\sqrt{\\\\frac{\\\\SigmaGM}{c^2r_c-GM}}'}}, {'similarity_score': {'data': 0.5388972163200378}, 'neighbor': {'fmt': 'math', 'data': u'\\\\phi(\\\\mathbf{c})=\\\\beta\\\\mathbf{c}A,'}}, {'similarity_score': {'data': 0.5373945832252502}, 'neighbor': {'fmt': 'math', 'data': u'\\\\sumF(P^c)=F^p(P^c)+T^{\\\\gamma}(P^c)=0'}}, {'similarity_score': {'data': 0.5373160243034363}, 'neighbor': {'fmt': 'math', 'data': u'(c_0,c_1,\\\\ldots,c_{n-1})\\\\mapstoc_0x+c_1x^{[r]}+\\\\cdots+c_{n-1}x^{[(n-1)r]}.'}}, {'similarity_score': {'data': 0.5309091806411743}, 'neighbor': {'fmt': 'math', 'data': u'\\\\langle0|J^{\\\\eta_{c}}|\\\\eta_{c}(p)\\\\rangle=\\\\frac{f_{\\\\eta_{c}}m_{\\\\eta_{c}}^{2}}{2m_{c}},'}}, {'similarity_score': {'data': 0.5306282639503479}, 'neighbor': {'fmt': 'math', 'data': u'\\\\max_{c>0}\\\\;\\\\max_{c<d<c+2}\\\\;\\\\min\\\\left\\\\{d\\\\left(d-c+c\\\\ln\\\\left[\\\\frac{c}{d}\\\\right]\\\\right),d\\\\left(d-c-2+(c+2)\\\\ln\\\\left[\\\\frac{c+2}{d}\\\\right]\\\\right)\\\\right\\\\}'}}, {'similarity_score': {'data': 0.5256105661392212}, 'neighbor': {'fmt': 'math', 'data': u'f(a,c,d)\\\\leg(c,d):=f(a_0,c,d).'}}, {'similarity_score': {'data': 0.5247688293457031}, 'neighbor': {'fmt': 'math', 'data': u\"\\\\sigma'(c_i)=\\\\rho(c_i)+\\\\delta_i\\\\leq\\\\rho(c_i)+(\\\\rho(c_{i_l})-\\\\rho(c_i))\\\\leq\"}}, {'similarity_score': {'data': 0.5238946080207825}, 'neighbor': {'fmt': 'math', 'data': u'{\\\\tilde{p}}_{ij}(k)={\\\\tilde{p}}_i(k)\\\\frac{\\\\sum_{c=1}^CS_{ij}^c}{\\\\sum_{c=1}^CS_i^c}.'}}, {'similarity_score': {'data': 0.5190086960792542}, 'neighbor': {'fmt': 'math', 'data': u'c\\\\,\\\\Phi(c)=2-\\\\frac{8}{c^2}+\\\\frac{6.818\\\\dots}{c^4}+\\\\dots.'}}, {'similarity_score': {'data': 0.5168057680130005}, 'neighbor': {'fmt': 'math', 'data': u'\\\\beta_\\\\sigma=c_0+\\\\left(2+c_1\\\\right)\\\\sigma+c_2\\\\,\\\\sigma^2+c_3\\\\,\\\\sigma^3\\\\,,'}}, {'similarity_score': {'data': 0.5162506699562073}, 'neighbor': {'fmt': 'math', 'data': u'\\\\begin{aligned}\\t\\t\\t3&=c_2+c_3+c_4\\\\\\\\\\t\\t\\t1&=3\\\\varepsilon_2c_2+\\\\sigmac_3+\\\\tauc_4\\\\\\\\\\t\\t\\t1&=\\\\sigmac_2+3\\\\varepsilon_3c_3+\\\\xic_4\\\\\\\\\\t\\t\\t1&=\\\\tauc_2+\\\\xic_3+3\\\\varepsilon_4c_4,\\t\\t\\\\end{aligned}'}}, {'similarity_score': {'data': 0.5161973237991333}, 'neighbor': {'fmt': 'math', 'data': u'v_c=\\\\left(\\\\frac{F_c}{\\\\rho}\\\\right)^{\\\\frac{1}{3}};'}}, {'similarity_score': {'data': 0.5153542757034302}, 'neighbor': {'fmt': 'math', 'data': u'v(\\\\hatc)=\\\\begin{cases}v_0&(\\\\hatc<\\\\barc),\\\\\\\\v_0{\\\\alpha}&(\\\\hatc\\\\geqslant\\\\barc)\\\\end{cases}'}}, {'similarity_score': {'data': 0.5147383809089661}, 'neighbor': {'fmt': 'math', 'data': u'd_c=\\\\sum\\\\frac{1}{t}'}}, {'similarity_score': {'data': 0.51449054479599}, 'neighbor': {'fmt': 'math', 'data': u'r\\\\approxr_c-e^{-\\\\kappa_cv}e^{\\\\kappa_cu}'}}, {'similarity_score': {'data': 0.5131213068962097}, 'neighbor': {'fmt': 'math', 'data': u'\\\\[{Y_{{\\\\rm{p}}}}=\\\\left({\\\\begin{array}{*{20}{c}}{2c}&{-c}&{-c}\\\\\\\\{-c}&{2c}&{-c}\\\\\\\\{-c}&{-c}&{2c}\\\\end{array}}\\\\right)\\\\]'}}, {'similarity_score': {'data': 0.5110120177268982}, 'neighbor': {'fmt': 'math', 'data': u'\\\\left(\\\\begin{array}{c}c_A(k)\\\\\\\\c_B(k)\\\\\\\\c_{A}^{\\\\dagger}(-k)\\\\\\\\c_{B}^{\\\\dagger}(-k)\\\\\\\\\\\\end{array}\\\\right)'}}, {'similarity_score': {'data': 0.5107678174972534}, 'neighbor': {'fmt': 'math', 'data': u'c({\\\\tilde{\\\\kappa}})=\\\\frac{\\\\kappa_c-2(z-1)\\\\mathcal{P}_cs_c{\\\\tilde{\\\\kappa}}}{\\\\kappa_c+{\\\\tilde{\\\\kappa}}s_c}'}}, {'similarity_score': {'data': 0.5067448019981384}, 'neighbor': {'fmt': 'math', 'data': u'\\\\alpha=\\\\frac{n_{1}\\\\,c_{2}}{(c_{1}-c_{2})^{2}}\\\\,,\\\\quad\\\\beta=-\\\\frac{n_{2}\\\\,c_{2}}{(c_{1}-c_{2})^{2}}\\\\,,\\\\quad\\\\gamma=-\\\\frac{2}{c_{2}}\\\\,,'}}, {'similarity_score': {'data': 0.5063071846961975}, 'neighbor': {'fmt': 'math', 'data': u'\\\\tilde{\\\\pi}_2=[c_2,c_3,...,c_{k-1},c_1,c_k].onumber'}}, {'similarity_score': {'data': 0.5045070648193359}, 'neighbor': {'fmt': 'math', 'data': u'\\\\Phi(c)=\\\\frac{2}{c}-\\\\frac{8}{c^3}+\\\\frac{6.818\\\\dots}{c^5}+\\\\dots.'}}, {'similarity_score': {'data': 0.4982997477054596}, 'neighbor': {'fmt': 'math', 'data': u'c_1=0.'}}, {'similarity_score': {'data': 0.49683067202568054}, 'neighbor': {'fmt': 'math', 'data': u'\\\\begin{aligned}\\\\lambda_c=\\\\frac{2\\\\pi}{k_c}&=2\\\\pi\\\\sqrt{\\\\frac{2}{\\\\beta}},&\\\\Re(\\\\sigma_c)=-k_c^4+\\\\betak_c^2&=\\\\frac{\\\\beta^2}{4},\\\\end{aligned}'}}, {'similarity_score': {'data': 0.49645698070526123}, 'neighbor': {'fmt': 'math', 'data': u'S_{\\\\xi}=\\\\sum_{c,c^\\\\prime}^{N_{p}}\\\\,\\\\kappa_{c\\\\,c^\\\\prime}\\\\,{\\\\mathbf{q}_{c}(\\\\xi)\\\\cdot\\\\boldsymbol{abla}n_{c^\\\\prime}(\\\\xi)},'}}, {'similarity_score': {'data': 0.4950927495956421}, 'neighbor': {'fmt': 'math', 'data': u'{\\\\mathcal{H}}_{\\\\rmAIII}=\\\\int\\\\!{\\\\rmd}x~c^{\\\\dagger}(i\\\\sigma^z\\\\partial_x+m(x)\\\\sigma^y)c,\\\\quadc=(c_L,c_R)^T,'}}, {'similarity_score': {'data': 0.4948365092277527}, 'neighbor': {'fmt': 'math', 'data': u'J^{\\\\eta_{c}}(x)=\\\\overline{c}_{i}(x)i\\\\gamma_{5}c_{i}(x).'}}, {'similarity_score': {'data': 0.49443352222442627}, 'neighbor': {'fmt': 'math', 'data': u'{\\\\mathcalP}(c,t)\\\\simeq\\\\frac{\\\\sqrt{t}e^{-t\\\\,\\\\left(\\\\frac{c^2}{4}-1\\\\right)}}{4\\\\sqrt{\\\\pi}}\\\\,\\\\,c\\\\,\\\\Phi(c)\\\\sum\\\\limits_{m=0}^M\\\\,e^{\\\\frac{cx_m}{2}}\\\\,.'}}, {'similarity_score': {'data': 0.4934644401073456}, 'neighbor': {'fmt': 'math', 'data': u'u^cN^cU.'}}, {'similarity_score': {'data': 0.48915398120880127}, 'neighbor': {'fmt': 'math', 'data': u'\\\\begin{aligned}\\\\lambda_{c}=x_{c}^2y_cz_c\\\\end{aligned}'}}, {'similarity_score': {'data': 0.487695574760437}, 'neighbor': {'fmt': 'math', 'data': u'p_{reg}(\\\\mathbf{c}|\\\\mathbf{t}_*)=\\\\mathcal{N}(\\\\mu_c=\\\\tilde{c}(\\\\mathbf{t}_*),\\\\Sigma_c=\\\\mathbf{I})'}}, {'similarity_score': {'data': 0.48674604296684265}, 'neighbor': {'fmt': 'math', 'data': u'u^cd^cD^c,~~~QQD.'}}, {'similarity_score': {'data': 0.48560798168182373}, 'neighbor': {'fmt': 'math', 'data': u'\\\\chi(t_k)c_k=-c_k,\\\\qquadc_k=(c_k^1,\\\\dots,c_k^n)\\\\in{\\\\mathbbC}^n.'}}, {'similarity_score': {'data': 0.47812461853027344}, 'neighbor': {'fmt': 'math', 'data': u'\\\\mathbf{F}_{c}(\\\\xi)=\\\\sum_{c^\\\\prime}^{N_{p}}\\\\,{\\\\kappa_{c\\\\,c^\\\\prime}\\\\,\\\\boldsymbol{abla}n_{c^\\\\prime}}'}}, {'similarity_score': {'data': 0.4735170304775238}, 'neighbor': {'fmt': 'math', 'data': u'\\\\tau_{c}=\\\\frac{R_{c}^{2}}{4D},'}}, {'similarity_score': {'data': 0.4732917547225952}, 'neighbor': {'fmt': 'math', 'data': u'\\\\mathcal{H}((1+c_0)s)\\\\leq\\\\max\\\\left[G^{-1}\\\\Big(\\\\frac{c}{c_0s}\\\\Big),\\\\frac{c}{c+1}G^{-1}\\\\Big(\\\\frac{c(c_0+1)}{c_0s}\\\\Big),...,\\\\right.'}}, {'similarity_score': {'data': 0.47328856587409973}, 'neighbor': {'fmt': 'math', 'data': u'\\\\frac{2c_s^{2}}{G}'}}, {'similarity_score': {'data': 0.46913570165634155}, 'neighbor': {'fmt': 'math', 'data': u'{\\\\mathcalP}(c,t)\\\\simeq\\\\frac{c\\\\,\\\\Phi(c)}{4\\\\sqrt{\\\\pi}}\\\\,\\\\sqrt{t}\\\\,\\\\exp\\\\left[-t\\\\left(\\\\frac{c^2}{4}-1\\\\right)\\\\right],'}}, {'similarity_score': {'data': 0.4683879017829895}, 'neighbor': {'fmt': 'math', 'data': u'H_c=E_c(\\\\hat{N}-N_g)^2\\\\,'}}, {'similarity_score': {'data': 0.46814343333244324}, 'neighbor': {'fmt': 'math', 'data': u'n(x)=\\\\frac{c_{0}}{c_{M}(x)},\\\\qquadx\\\\in\\\\Omega,\\\\,c_{M}>0.'}}, {'similarity_score': {'data': 0.4679221212863922}, 'neighbor': {'fmt': 'math', 'data': u'\\\\omega_c=\\\\frac{3qB_{\\\\rmeff}\\\\gamma^2}{2mc},'}}, {'similarity_score': {'data': 0.46580660343170166}, 'neighbor': {'fmt': 'math', 'data': u'u^ce^cD,~~~d^cN^cD,~~~QLD^c,~~~LS_1\\\\phi_2,~~N^cS_2S_3.'}}, {'similarity_score': {'data': 0.46422693133354187}, 'neighbor': {'fmt': 'math', 'data': u'C=\\\\left\\\\lbrace\\\\left(c_{0},c_{1},\\\\ldots,c_{\\\\alpha-1}\\\\right)\\\\in{\\\\mathbbZ}_2^{\\\\alpha}:c_{j}=0\\\\text{forevery}j<\\\\beta\\\\text{and}c_{\\\\beta}=1\\\\right\\\\rbrace.'}}, {'similarity_score': {'data': 0.46412691473960876}, 'neighbor': {'fmt': 'math', 'data': u'c=\\\\frac{dR_0}{16c_1^3(d^2-1)^2}.'}}, {'similarity_score': {'data': 0.46376731991767883}, 'neighbor': {'fmt': 'math', 'data': u'g_1=c_0+4c_1,~g_2=c_0+c_1,~g_{12}=c_0-2c_1.'}}, {'similarity_score': {'data': 0.46251943707466125}, 'neighbor': {'fmt': 'math', 'data': u'\\\\Upsilon_{\\\\mathrm{c}}=\\\\omega_{\\\\mathrm{c}}-i\\\\gamma_{\\\\mathrm{c}}+\\\\left(K_{\\\\mathrm{c}}-i\\\\gamma_{\\\\mathrm{c}4}\\\\right)E_{\\\\mathrm{c}}\\\\;,'}}, {'similarity_score': {'data': 0.4615417718887329}, 'neighbor': {'fmt': 'math', 'data': u'g\\\\tau_d\\\\frac{\\\\partialf}{\\\\partial\\\\tau}\\\\xi_c^3+2u_{\\\\rmc}^2\\\\xi_{\\\\rmc}^2-\\\\beta\\\\xi_{\\\\rmc}+\\\\beta=0,'}}, {'similarity_score': {'data': 0.45978543162345886}, 'neighbor': {'fmt': 'math', 'data': u'm(\\\\mu)\\\\sim(\\\\mu-\\\\mu_c)^{1/4},\\\\quad\\\\quad\\\\sigma(\\\\mu_c)=\\\\frac{\\\\mu_c}{2}>0,\\\\quad\\\\quadc=\\\\frac{1}{2\\\\sqrt{\\\\mu_c}}.'}}, {'similarity_score': {'data': 0.4588768184185028}, 'neighbor': {'fmt': 'math', 'data': u'\\\\frac{1}{k_c^2}-\\\\frac{k^2}{k_c^2}=1.'}}, {'similarity_score': {'data': 0.4574541449546814}, 'neighbor': {'fmt': 'math', 'data': u'\\\\phi(c)=\\\\frac{8}{c^3}\\\\left[R_0+\\\\frac{4}{c^2}R_1+\\\\dots+\\\\left(\\\\frac{4}{c^2}\\\\right)^nR_n+\\\\dots\\\\right]'}}, {'similarity_score': {'data': 0.45701509714126587}, 'neighbor': {'fmt': 'math', 'data': u'\\\\langle0|J_{\\\\mu}^{Z_{c}}|Z_{c}(q)\\\\rangle=f_{Z_{c}}m_{Z_{c}}\\\\varepsilon_{\\\\mu},'}}, {'similarity_score': {'data': 0.45500844717025757}, 'neighbor': {'fmt': 'math', 'data': u'\\\\begin{aligned}a\\\\unrhdb&=a_n\\\\bar{b}_n+c_na_{n-1}\\\\bar{b}_{n-1}+c_nc_{n-1}a_{n-2}\\\\bar{b}_{n-2}+\\\\cdots\\\\\\\\&+c_n\\\\cdotsc_2a_{1}\\\\bar{b}_{1}+c_nc_{n-1}\\\\cdotsc_1,\\\\end{aligned}'}}, {'similarity_score': {'data': 0.45455479621887207}, 'neighbor': {'fmt': 'math', 'data': u'd^cd^cU^c.'}}, {'similarity_score': {'data': 0.4543794095516205}, 'neighbor': {'fmt': 'math', 'data': u'\\\\partial_tc_T=-abla[v(x)c_T]+\\\\mu(x)c_T-c_T^2+Dabla^2c_T+\\\\deltaDabla^2c_A+\\\\sqrt{\\\\sigma^2_A+\\\\sigma^2_B}\\\\xi.'}}, {'similarity_score': {'data': 0.45346716046333313}, 'neighbor': {'fmt': 'math', 'data': u'\\\\mathcal{Y}=\\\\{(c_1\\\\lambda_1,c_1\\\\mu_1),(c_2\\\\lambda_2,c_2\\\\mu_2),\\\\ldots\\\\}'}}, {'similarity_score': {'data': 0.4527178406715393}, 'neighbor': {'fmt': 'math', 'data': u'\\\\begin{aligned}Z^{(2)}(t,t^\\\\prime)&=\\\\langle\\\\Psi_0|c_b^\\\\dagger(t)c_a(t)c_{{\\\\mathbf{{k}}}_1}^\\\\dagger(0)c_{{\\\\mathbf{{k}}}_2}^\\\\dagger(0){onumber}\\\\\\\\&\\\\quad\\\\quad\\\\quad\\\\timesc_{{\\\\mathbf{{k}}}_2}(0)c_{{\\\\mathbf{{k}}}_1}(0)c_c^\\\\dagger(t^\\\\prime)c_d(t^\\\\prime)|\\\\Psi_0\\\\rangle.\\\\end{aligned}'}}, {'similarity_score': {'data': 0.4525969326496124}, 'neighbor': {'fmt': 'math', 'data': u'P_c=P_0\\\\Theta_c^{N+1},\\\\\\\\epsilon_c=NP_c+\\\\rho_0\\\\Theta_c^N,\\\\{\\\\rmwith}\\\\\\\\Theta_c=\\\\frac{\\\\rho_0}{\\\\sigmaP_0(N+1)}(e^{-u_{0c}}-\\\\sigma),'}}]}\n"
     ]
    },
    {
     "name": "stderr",
     "output_type": "stream",
     "text": [
      "127.0.0.1 - - [30/Nov/2017 09:45:41] \"POST /query HTTP/1.1\" 200 18252\n"
     ]
    },
    {
     "name": "stdout",
     "output_type": "stream",
     "text": [
      "{'neighbors': [{'similarity_score': {'data': 0.2996787428855896}, 'neighbor': {'fmt': 'math', 'data': u'\\\\frac{0.5R_{\\\\rmB}}{v_{\\\\rm\\\\infty}}\\\\sim\\\\frac{10^{11}\\\\,cm}{1100\\\\,km/s}\\\\sim1000\\\\,s'}}, {'similarity_score': {'data': 0.21038341522216797}, 'neighbor': {'fmt': 'math', 'data': u'{\\\\frac{{\\\\eta}}{{s}}}={\\\\frac{{1}}{{4\\\\pi}}}\\\\,.'}}, {'similarity_score': {'data': 0.20868271589279175}, 'neighbor': {'fmt': 'math', 'data': u'{C}=\\\\left\\\\{{\\\\mathbf{{e}}}_{{1}},\\\\ldots,{\\\\mathbf{{e}}}_{{k}},{{{\\\\mathbf{{p}}}_{{0}}}|_{{{S}_{{1,1}}}}},\\\\ldots,{{{\\\\mathbf{{p}}}_{{0}}}|_{{{S}_{{1,{l_{{1}}}}}}}},{{{\\\\mathbf{{p}}}_{{0}}}|_{{{S}_{{2,1}}}}},\\\\ldots,{{{\\\\mathbf{{p}}}_{{0}}}|_{{{S}_{{2,{l_{{2}}}}}}}},\\\\ldots,{{{\\\\mathbf{{p}}}_{{0}}}|_{{{S}_{{m,1}}}}},\\\\ldots,{{{\\\\mathbf{{p}}}_{{0}}}|_{{{S}_{{m,{l_{{m}}}}}}}},{\\\\mathbf{{p}}}_{{1}},\\\\ldots,{\\\\mathbf{{p}}}_{{d-2}}\\\\right\\\\}.'}}, {'similarity_score': {'data': 0.20802809298038483}, 'neighbor': {'fmt': 'math', 'data': u'\\\\delta_{u}\\\\,=\\\\,-\\\\frac{1}{\\\\sqrt{2}\\\\,t_{\\\\beta}}\\\\,\\\\frac{v}{f}\\\\,.'}}, {'similarity_score': {'data': 0.1979583203792572}, 'neighbor': {'fmt': 'math', 'data': u'T={\\\\frac{{a_1}}{{2\\\\pi}}}\\\\,,\\\\quads={\\\\frac{{b_0^pc_0^q}}{{4}}}\\\\,.'}}, {'similarity_score': {'data': 0.1949508935213089}, 'neighbor': {'fmt': 'math', 'data': u'T={\\\\frac{{a_1}}{{2\\\\pi}}}\\\\,,\\\\quads={\\\\frac{{b_0^{n-2}}}{{4}}}\\\\,.'}}, {'similarity_score': {'data': 0.1910143494606018}, 'neighbor': {'fmt': 'math', 'data': u'T={\\\\frac{{a_1}}{{2\\\\pi}}}\\\\,,\\\\quads={\\\\frac{{\\\\kappa_0b_0^{n-2}}}{{4}}}\\\\,,'}}, {'similarity_score': {'data': 0.18218286335468292}, 'neighbor': {'fmt': 'math', 'data': u'\\\\sum_{n=1}^{\\\\infty}\\\\frac{1}{v}\\\\frac{d}{2^{n}}=\\\\frac{d}{v}\\\\,.'}}, {'similarity_score': {'data': 0.1809667944908142}, 'neighbor': {'fmt': 'math', 'data': u'\\\\frac{\\\\sigma_\\\\infty}{\\\\sigma_{\\\\mathrm{{s}}}}=1+\\\\frac{2{\\\\delta_\\\\infty}}{{R_{\\\\mathrm{{s}}}}}+\\\\mathcal{O}\\\\left(\\\\frac{1}{{{R_{\\\\mathrm{{s}}}}}^2}\\\\right)\\\\,,'}}, {'similarity_score': {'data': 0.17491433024406433}, 'neighbor': {'fmt': 'math', 'data': u'\\\\frac{\\\\sigma_\\\\infty}{\\\\sigma_{\\\\mathrm{{s}}}}=1+\\\\frac{2{\\\\delta_\\\\infty}}{{R_{\\\\mathrm{{s}}}}}+\\\\frac{{{\\\\delta_\\\\infty}}^2+\\\\alpha}{{{R_{\\\\mathrm{{s}}}}}^2}+\\\\mathcal{O}\\\\left(\\\\frac{1}{{{R_{\\\\mathrm{{s}}}}}^3}\\\\right)\\\\,.'}}, {'similarity_score': {'data': 0.1693638265132904}, 'neighbor': {'fmt': 'math', 'data': u'p_{{\\\\Upsilon}}\\\\,=\\\\,p_{1}\\\\,=\\\\,\\\\frac{m_{1}}{\\\\sqrt{2}}(1,1,0),'}}, {'similarity_score': {'data': 0.16775670647621155}, 'neighbor': {'fmt': 'math', 'data': u'p_{B_{c}}\\\\,=\\\\,p_{2}\\\\,=\\\\,(p_{2}^{+},p_{2}^{-},0),'}}, {'similarity_score': {'data': 0.16703829169273376}, 'neighbor': {'fmt': 'math', 'data': u'{\\\\frac{{\\\\eta}}{{S}}}={\\\\frac{{1}}{{4\\\\pi}}}\\\\,.'}}, {'similarity_score': {'data': 0.16473673284053802}, 'neighbor': {'fmt': 'math', 'data': u'{\\\\boldsymbol{v}}=(1,0,0)\\\\,,'}}, {'similarity_score': {'data': 0.16469267010688782}, 'neighbor': {'fmt': 'math', 'data': u'\\\\bar{v}_{x}=n_{i}\\\\,\\\\int\\\\frac{d^{2}k}{(2\\\\pi)^{2}}\\\\left\\\\{\\\\hat{T}\\\\,\\\\mathcal{G}_{\\\\mathbf{k}}^{R}\\\\,v_{x}\\\\,\\\\mathcal{G}_{\\\\mathbf{k}}^{A}\\\\,\\\\hat{T}^{\\\\star}\\\\right\\\\}=v\\\\,(a\\\\,\\\\gamma_{1}+b\\\\,\\\\gamma_{13})\\\\,,'}}, {'similarity_score': {'data': 0.1645636409521103}, 'neighbor': {'fmt': 'math', 'data': u'\\\\begin{multline}\\tp({\\\\boldsymbol{{x}}}_i{\\\\,|\\\\,}{\\\\boldsymbol{{\\\\sigma}}}_i,{\\\\boldsymbol{{s}}},{\\\\boldsymbol{{\\\\theta}}})=p(\\\\phi_{2,i}{\\\\,|\\\\,}\\\\phi_{1,i},s_{\\\\phi_2},{\\\\boldsymbol{{\\\\theta}}})\\\\,p({\\\\rmDM}_i{\\\\,|\\\\,}\\\\phi_{1,i},\\\\sigma_{{\\\\rmDM},i},s_{\\\\rmDM},{\\\\boldsymbol{{\\\\theta}}})\\\\\\\\\\t\\\\timesp(\\\\mu_{l,i}{\\\\,|\\\\,}\\\\phi_{1,i},\\\\sigma_{\\\\mu_{l},i},{\\\\boldsymbol{{\\\\theta}}})\\\\,p(\\\\mu_{b,i}{\\\\,|\\\\,}\\\\phi_{1,i},\\\\sigma_{\\\\mu_{b},i},{\\\\boldsymbol{{\\\\theta}}})\\\\,p(v_{r,i}{\\\\,|\\\\,}\\\\phi_{1,i},\\\\sigma_{v_r,i},s_{v_r},{\\\\boldsymbol{{\\\\theta}}}).\\\\end{multline}'}}, {'similarity_score': {'data': 0.16109149158000946}, 'neighbor': {'fmt': 'math', 'data': u'\\\\frac{\\\\sigma}{\\\\gamma}\\\\simk\\\\left(\\\\frac{\\\\tau_0}{t}\\\\right)^{\\\\theta},\\\\,\\\\,\\\\,\\\\,\\\\,\\\\,\\\\,\\\\,\\\\,\\\\,\\\\,\\\\,\\\\tau_0<t<\\\\tau^*\\\\,,'}}, {'similarity_score': {'data': 0.1608933061361313}, 'neighbor': {'fmt': 'math', 'data': u'v{_{_{0}}}(x)=v_k+V{_{_{0}}},'}}, {'similarity_score': {'data': 0.16011393070220947}, 'neighbor': {'fmt': 'math', 'data': u's_{surf}=\\\\left[\\\\frac{6\\\\gamma\\\\left(s_{i}^{3}+s_{j}^{3}\\\\right)^{2}}{\\\\eta\\\\rhov_{rel}^{2}(s_is_j)^3}\\\\right]^{2}s_{lfr}^{-1}\\\\,\\\\,\\\\,\\\\,\\\\,\\\\,\\\\,\\\\rm{for\\\\,\\\\,fragmentation}'}}, {'similarity_score': {'data': 0.15791790187358856}, 'neighbor': {'fmt': 'math', 'data': u'u^{\\\\mu}V_{({\\\\rms})\\\\,\\\\mu}=-\\\\frac{\\\\mu}{mc}\\\\,\\\\,\\\\Rightarrow\\\\,\\\\,V_{({\\\\rms})\\\\,0}=-\\\\frac{\\\\mu}{mc\\\\,u^0}-\\\\frac{u^{j}}{u^0}\\\\,V_{({\\\\rms})\\\\,j}.'}}, {'similarity_score': {'data': 0.15747052431106567}, 'neighbor': {'fmt': 'math', 'data': u'\\tF_{\\\\rmmax}=\\\\frac{s^2}{2}D\\\\sqrt{\\\\frac{\\\\alpha}{2}}\\\\frac{I}{k}\\\\,\\\\,\\\\,,'}}, {'similarity_score': {'data': 0.15720829367637634}, 'neighbor': {'fmt': 'math', 'data': u'\\\\{\\\\,a_{p,\\\\alpha}\\\\,,\\\\,a^{\\\\dag}_{r,\\\\beta}\\\\,\\\\}=\\\\delta_{pr}\\\\,\\\\delta_{\\\\alpha\\\\beta},\\\\quad\\\\quad\\\\{\\\\,a_{p,\\\\alpha}\\\\,,\\\\,a_{r,\\\\beta}\\\\,\\\\}=\\\\{\\\\,a^{\\\\dag}_{p,\\\\alpha}\\\\,,\\\\,a^{\\\\dag}_{r,\\\\beta}\\\\,\\\\}=0.'}}, {'similarity_score': {'data': 0.156777486205101}, 'neighbor': {'fmt': 'math', 'data': u'S_{IIB}^{SUGRA}=-\\\\frac{1}{2\\\\kappa_{10}^2}\\\\,\\\\intd^{10}x\\\\,\\\\sqrt{|\\\\detg|}\\\\,\\\\bigg[{\\\\cal{R}}_{10}-\\\\frac{1}{2}\\\\,(\\\\partial\\\\phi)^2-\\\\frac{1}{2}\\\\,e^{2\\\\phi}\\\\,(\\\\partial{\\\\cal{C}})^2-\\\\frac{1}{4\\\\cdot5!}\\\\,(F_5)^2\\\\bigg]\\\\,,'}}, {'similarity_score': {'data': 0.15517057478427887}, 'neighbor': {'fmt': 'math', 'data': u'\\\\begin{aligned}\\tp(\\\\phi_{2,i}{\\\\,|\\\\,}\\\\phi_{1,i},s_{\\\\phi_2},{\\\\boldsymbol{{\\\\theta}}})&={\\\\mathcal{N}}(\\\\phi_{2,i}{\\\\,|\\\\,}\\\\widetilde{\\\\phi}_{2}(\\\\phi_{1,i}),s^2_{\\\\phi_2})\\\\\\\\\\tp({\\\\rmDM}_i{\\\\,|\\\\,}\\\\phi_{1,i},\\\\sigma_{{\\\\rmDM},i},s_{\\\\rmDM},{\\\\boldsymbol{{\\\\theta}}})&={\\\\mathcal{N}}({\\\\rmDM}_i{\\\\,|\\\\,}\\\\widetilde{{\\\\rmDM}}(\\\\phi_{1,i}),s^2_{{\\\\rmDM}}+\\\\sigma^2_{{\\\\rmDM},i})\\\\\\\\\\tp(\\\\mu_{l,i}{\\\\,|\\\\,}\\\\phi_{1,i},\\\\sigma_{\\\\mu_{l},i},{\\\\boldsymbol{{\\\\theta}}})&={\\\\mathcal{N}}(\\\\mu_{l,i}{\\\\,|\\\\,}\\\\widetilde{\\\\mu_{l}}(\\\\phi_{1,i}),\\\\sigma^2_{\\\\mu_{l,i}})\\\\\\\\\\tp(\\\\mu_{b,i}{\\\\,|\\\\,}\\\\phi_{1,i},\\\\sigma_{\\\\mu_{b},i},{\\\\boldsymbol{{\\\\theta}}})&={\\\\mathcal{N}}(\\\\mu_{b,i}{\\\\,|\\\\,}\\\\widetilde{\\\\mu_{b}}(\\\\phi_{1,i}),\\\\sigma^2_{\\\\mu_{b,i}})\\\\\\\\\\tp(v_{r,i}{\\\\,|\\\\,}\\\\phi_{1,i},\\\\sigma_{v_r,i},s_{v_r},{\\\\boldsymbol{{\\\\theta}}})&={\\\\mathcal{N}}(v_{r,i}{\\\\,|\\\\,}\\\\widetilde{v_r}(\\\\phi_{1,i}),s^2_{v_r}+\\\\sigma^2_{v_r,i}).\\\\end{aligned}'}}, {'similarity_score': {'data': 0.1545761525630951}, 'neighbor': {'fmt': 'math', 'data': u'0<\\\\delta_{T}\\\\leq\\\\text{min}\\\\left\\\\{\\\\frac{c_{0}\\\\\\\\text{min}\\\\{s^{\\\\ast},\\\\gamma_{\\\\ast}\\\\}}{4\\\\,c^{2}_{\\\\text{max}}},\\\\frac{h^{2}_{T}\\\\,\\\\alpha_{\\\\ast}}{2\\\\,\\\\epsilon\\\\,\\\\mu^{2}_{1}},\\\\text{min}\\\\left\\\\{1,\\\\frac{1}{c_{I}}\\\\right\\\\}\\\\frac{c_{0}\\\\,\\\\text{min}\\\\left\\\\{s^{\\\\ast},\\\\gamma_{\\\\ast}\\\\right\\\\}h_{T}^{2}}{4\\\\,\\\\|\\\\vec{b}\\\\|^{2}_{0,\\\\infty}\\\\,\\\\mu^{2}_{2}}\\\\right\\\\}'}}, {'similarity_score': {'data': 0.15328465402126312}, 'neighbor': {'fmt': 'math', 'data': u'\\\\{x_{1_1}^{\\\\prime},x_{1_2}^{\\\\prime},\\\\cdots,x_{1_{N}}^{\\\\prime}\\\\}\\\\,,\\\\:\\\\{x_{2_1}^{\\\\prime},x_{2_2}^{\\\\prime},\\\\cdots,x_{2_{N}}^{\\\\prime}\\\\}\\\\,,\\\\\\\\{x_{1_1},x_{1_2},\\\\cdots,x_{1_{N}}\\\\}\\\\,,\\\\\\\\{x_{2_1},x_{2_2},\\\\cdots,x_{2_{N}}\\\\}\\\\,,'}}, {'similarity_score': {'data': 0.15305973589420319}, 'neighbor': {'fmt': 'math', 'data': u'\\\\begin{aligned}&{\\\\mathcal{R}es\\\\,}\\\\left\\\\{\\\\frac{2(u+1)}{s\\\\,\\\\sqrt{s}}\\\\frac{I_{u+1}(\\\\sqrt{s})}{I_{u}(\\\\sqrt{s})}\\\\,e^{st}\\\\right\\\\}_{s=s_{u,n}}=\\\\lim_{s\\\\tos_{u,n}}(s-s_{u,n})\\\\,\\\\frac{2(u+1)}{s\\\\,\\\\sqrt{s}}\\\\frac{I_{u+1}(\\\\sqrt{s})}{I_{u}(\\\\sqrt{s})}\\\\,e^{st}\\\\\\\\&=\\\\lim_{s\\\\tos_{u,n}}\\\\,\\\\frac{2(u+1)}{s\\\\,\\\\sqrt{s}}\\\\frac{I_{u+1}(\\\\sqrt{s})}{I^\\\\prime_{u}(\\\\sqrt{s})/(2\\\\sqrt{s})}\\\\,e^{st}=4(u+1)\\\\,\\\\frac{\\\\exp\\\\left(s_{u,n}t\\\\right)}{s_{u,n}}\\\\,.\\\\end{aligned}\\\\tag{A4}'}}, {'similarity_score': {'data': 0.15266095101833344}, 'neighbor': {'fmt': 'math', 'data': u'v,\\\\v_1,\\\\\\\\ldots\\\\v_n,\\\\v,'}}, {'similarity_score': {'data': 0.15236857533454895}, 'neighbor': {'fmt': 'math', 'data': u'({{v}_1^{{y}_1}{v}_2^{{y}_2}\\\\cdots{v}_{n}^{{y}_{n}}})({{x}_1{v}_1\\\\oplus{x}_2{v}_2\\\\oplus\\\\cdots\\\\oplus{x}_{n}{v}_{n}})=({\\\\text{wt}}({\\\\textbf{x}})\\\\mod2)\\\\cdot{{v}_1^{{y}_1}{v}_2^{{y}_2}\\\\cdots{v}_{n}^{{y}_{n}}}.'}}, {'similarity_score': {'data': 0.15206369757652283}, 'neighbor': {'fmt': 'math', 'data': u's_{u,n}=-j_{u,\\\\,n}^{2}\\\\,,\\\\quadn=1,2,\\\\ldots'}}, {'similarity_score': {'data': 0.1519649624824524}, 'neighbor': {'fmt': 'math', 'data': u'\\\\begin{aligned}0\\\\oplusH&={\\\\{{0,4,9,12,13}\\\\}},\\\\\\\\1\\\\oplusH&={\\\\{{1,5,6,7,10}\\\\}},\\\\\\\\2\\\\oplusH&={\\\\{{2,3,8,11,14}\\\\}}.\\\\end{aligned}'}}, {'similarity_score': {'data': 0.15149706602096558}, 'neighbor': {'fmt': 'math', 'data': u'{p_{MIT}}=\\\\sum_{q=u}^{d,s}\\\\,{\\\\frac{\\\\gamma_{q}}{6\\\\pi^{2}}}\\\\int_{0}^{k_{F}}dk\\\\,{\\\\frac{{k}^{4}}{\\\\sqrt{m_{q}^{2}+k^{2}}}}\\\\,-\\\\mathcal{B}'}}, {'similarity_score': {'data': 0.1513458788394928}, 'neighbor': {'fmt': 'math', 'data': u'{\\\\text{wt}}(({{{\\\\boldsymbol{v}}}_1^{{y}_1}{{\\\\boldsymbol{v}}}_2^{{y}_2}\\\\cdots{{\\\\boldsymbol{v}}}_{n}^{{y}_{n}}})({{x}_1{{\\\\boldsymbol{v}}}_1\\\\oplus{x}_2{{\\\\boldsymbol{v}}}_2\\\\oplus\\\\cdots\\\\oplus{x}_{n}{{\\\\boldsymbol{v}}}_{n}}))=2^{n-{\\\\text{deg}}({{v}_1^{{y}_1}{v}_2^{{y}_2}\\\\cdots{v}_{n}^{{y}_{n}}})-1}'}}, {'similarity_score': {'data': 0.15130570530891418}, 'neighbor': {'fmt': 'math', 'data': u'\\\\begin{aligned}{P_f}=\\\\left({1-Q\\\\left({{Q^{-1}}\\\\left({{{\\\\barP}_d}}\\\\right)\\\\left({1+\\\\frac{{\\\\sigma_s^2}}{{{\\\\sigma^2}}}}\\\\right)+\\\\sqrt{\\\\frac{{\\\\betaT{P_s}}}{{2{e_s}}}}\\\\frac{{\\\\sigma_s^2}}{{{\\\\sigma^2}}}}\\\\right)}\\\\right).\\\\end{aligned}'}}, {'similarity_score': {'data': 0.15129512548446655}, 'neighbor': {'fmt': 'math', 'data': u'{\\\\text{deg}}(({{v}_1^{{y}_1}{v}_2^{{y}_2}\\\\cdots{v}_{n}^{{y}_{n}}})({{x}_1{v}_1\\\\oplus{x}_2{v}_2\\\\oplus\\\\cdots\\\\oplus{x}_{n}{v}_{n}}))={\\\\text{deg}}({{v}_1^{{y}_1}{v}_2^{{y}_2}\\\\cdots{v}_{n}^{{y}_{n}}})+1,'}}, {'similarity_score': {'data': 0.15128090977668762}, 'neighbor': {'fmt': 'math', 'data': u'{ormalfont{\\\\text{wt}}}(({{{\\\\boldsymbol{v}}}_1^{{y}_1}{{\\\\boldsymbol{v}}}_2^{{y}_2}\\\\cdots{{\\\\boldsymbol{v}}}_{n}^{{y}_{n}}})({{x}_1{{\\\\boldsymbol{v}}}_1\\\\oplus{x}_2{{\\\\boldsymbol{v}}}_2\\\\oplus\\\\cdots\\\\oplus{x}_{n}{{\\\\boldsymbol{v}}}_{n}}))=2^{n-{\\\\text{deg}}(({{v}_1^{{y}_1}{v}_2^{{y}_2}\\\\cdots{v}_{n}^{{y}_{n}}})({{x}_1{v}_1\\\\oplus{x}_2{v}_2\\\\oplus\\\\cdots\\\\oplus{x}_{n}{v}_{n}}))}'}}, {'similarity_score': {'data': 0.1511850506067276}, 'neighbor': {'fmt': 'math', 'data': u'{M^{*}}(\\\\rho_{B})=M-{\\\\frac{{g_{S}}^{2}}{{m_{S}}^{2}}}{\\\\frac{\\\\gamma_{s}}{(2\\\\pi)^{3}}}\\\\int_{0}^{k_{F}}d^3{k}{\\\\frac{M^{*}}{\\\\sqrt{{\\\\vec{k}}^{2}+{M^{*}}^{2}}}}+{\\\\frac{{g_{S}}^{2}}{{m_{S}}^{2}}}\\\\Bigg[{\\\\frac{b}{{g_{S}}^{3}}}(M-M^{*})^{2}+{\\\\frac{c}{{g_{S}}^{4}}}(M-M^{*})^{3}\\\\Bigg]'}}, {'similarity_score': {'data': 0.15073856711387634}, 'neighbor': {'fmt': 'math', 'data': u'F_{u}(t)=1+\\\\sum_{n=1}^\\\\infty{\\\\mathcal{R}es\\\\,}\\\\left\\\\{\\\\widetilde{F}_{u}(s)\\\\,e^{st}\\\\,;\\\\,s=-j_{u,\\\\,n}^{2}\\\\right\\\\}=1-4(u+1)\\\\,\\\\sum_{n=1}^\\\\infty\\\\frac{\\\\exp\\\\left(-j_{u,\\\\,n}^{2}\\\\,t\\\\right)}{j_{u,\\\\,n}^{2}}\\\\,.\\\\tag{A6}'}}, {'similarity_score': {'data': 0.1501636654138565}, 'neighbor': {'fmt': 'math', 'data': u'V_{\\\\mu}^i\\\\,=\\\\,\\\\overline{q}\\\\,\\\\gamma_{\\\\mu}\\\\,\\\\frac{\\\\lambda^i}{2}\\\\,q\\\\,\\\\qquad,\\\\qquadA_{\\\\mu}^i\\\\,=\\\\,\\\\overline{q}\\\\,\\\\gamma_{\\\\mu}\\\\,\\\\gamma_5\\\\,\\\\frac{\\\\lambda^i}{2}\\\\,q\\\\,,'}}, {'similarity_score': {'data': 0.14987213909626007}, 'neighbor': {'fmt': 'math', 'data': u'\\\\begin{aligned}\\\\delta\\\\tilde{v}_{x}&=\\\\deltav_{x}^{1}\\\\,\\\\gamma_{1}+\\\\deltav_{x}^{2}\\\\,\\\\gamma_{13}=n_{i}\\\\,\\\\int\\\\frac{d^{2}k}{(2\\\\pi)^{2}}\\\\left\\\\{\\\\hat{T}\\\\,\\\\mathcal{G}_{\\\\mathbf{k}}^{R}\\\\,(\\\\deltav_{x}^{1}\\\\,\\\\gamma_{1}+\\\\deltav_{x}^{2}\\\\,\\\\gamma_{13})\\\\,\\\\mathcal{G}_{\\\\mathbf{k}}^{A}\\\\,\\\\hat{T}^{\\\\star}\\\\right\\\\}\\\\\\\\&=\\\\deltav_{x}^{1}(a\\\\,\\\\gamma_{1}+b\\\\,\\\\gamma_{13})+\\\\deltav_{x}^{2}(a\\\\,\\\\gamma_{13}-b\\\\,\\\\gamma_{1}).\\\\end{aligned}'}}, {'similarity_score': {'data': 0.14986015856266022}, 'neighbor': {'fmt': 'math', 'data': u'\\\\begin{aligned}v=\\\\frac{\\\\sqrt{2}{s_\\\\mathrm{w}}{M_W}}{e}\\\\rightarrowv\\\\left(1+\\\\frac{\\\\delta{v}}{v}\\\\right)=v\\\\left[1+\\\\frac{1}{2}\\\\left({\\\\ensuremath{\\\\frac{\\\\delta{{M_W}^2}}{{M_W}^2}}}+{\\\\ensuremath{\\\\frac{\\\\delta{{s_\\\\mathrm{w}}^2}}{{s_\\\\mathrm{w}}^2}}}-2\\\\delta{Z_e}\\\\right)\\\\right],\\\\end{aligned}'}}, {'similarity_score': {'data': 0.14983423054218292}, 'neighbor': {'fmt': 'math', 'data': u'\\\\begin{aligned}\\\\delta{Z_e^{\\\\text{dep}}}&=\\\\frac{1}{2}\\\\left[{\\\\ensuremath{\\\\frac{\\\\delta{{s_\\\\mathrm{w}}^2}}{{s_\\\\mathrm{w}}^2}}}+{\\\\ensuremath{\\\\frac{\\\\delta{{M_W}^2}}{{M_W}^2}}}-{\\\\ensuremath{\\\\frac{\\\\delta{v^2}}{v^2}}}\\\\right]\\\\,\\\\end{aligned}'}}, {'similarity_score': {'data': 0.14981336891651154}, 'neighbor': {'fmt': 'math', 'data': u'\\\\frac{{\\\\ensuremath{m^{\\\\mathrm{eff}}_{{s}}}}}{94.1\\\\,\\\\mathrm{eV}}=\\\\frac{h^2}{\\\\rho_c}\\\\frac{m_{s}}{\\\\pi^2}\\\\intdp\\\\,p^2f_{s}(p)\\\\,,'}}, {'similarity_score': {'data': 0.14950785040855408}, 'neighbor': {'fmt': 'math', 'data': u\"g_{1,0}'=v_{0,0}v_{0,1}^2+\\\\omega_{2}v_{0,2}^2v_{1,0},\"}}, {'similarity_score': {'data': 0.14942748844623566}, 'neighbor': {'fmt': 'math', 'data': u'{\\\\ifthenelse{\\\\equal{{k,i}}{}}{{\\\\hat{{\\\\ifthenelse{\\\\equal{{}}{}}{\\\\pmb{\\\\alpha}}{{\\\\pmb{\\\\alpha}}_{{}}}}}}}{{{\\\\hat{\\\\alpha}}}_{{k,i}}}}=4{\\\\mu_{{\\\\ifthenelse{\\\\equal{{}}{}}{\\\\pmb{\\\\alpha}}{{\\\\pmb{\\\\alpha}}_{{}}}}}}({\\\\hat{{\\\\mathbf{{M}}_{{}}}}_{{k}}^{-1}}{\\\\mathbf{s}_{{{\\\\mathbf{r}_{{k}}}}}}-{\\\\hat{\\\\mathbf{s}}_{{{\\\\mathbf{u}_{{k}}}}}})^{\\\\mathrm{T}}{\\\\hat{{\\\\mathbf{{M}}_{{}}}}_{{k}}^{-1}}{\\\\mathcal{K}({{\\\\mathbf{e}_i}})}{\\\\mathbf{s}_{{{\\\\mathbf{r}_{{k}}}}}}'}}, {'similarity_score': {'data': 0.14938288927078247}, 'neighbor': {'fmt': 'math', 'data': u\"g_{0,1}'=v_{0,0}v_{0,1}v_{1,0}+\\\\omega_1v_{0,1}v_{1,1}^2+v_{0,1}v_{2,0}^2,\"}}, {'similarity_score': {'data': 0.1493227183818817}, 'neighbor': {'fmt': 'math', 'data': u'k_{u_{R}}^{2}=\\\\frac{1}{2},'}}, {'similarity_score': {'data': 0.14917564392089844}, 'neighbor': {'fmt': 'math', 'data': u'{\\\\calL}_Y=i\\\\,\\\\lambda_N^k\\\\,\\\\overline{N}_{kR}\\\\Phi_2^{\\\\dagger}\\\\,L_k\\\\,+\\\\,i\\\\,\\\\frac{\\\\lambda_{\\\\ell}^{kl}}{\\\\Lambda}\\\\,\\\\overline{\\\\ell}_{kR}\\\\,\\\\varepsilon_{m\\\\,n\\\\,p}\\\\,\\\\Phi_1^m\\\\,\\\\Phi_2^n\\\\,L_l^p\\\\,+\\\\,h.c.\\\\,,'}}, {'similarity_score': {'data': 0.1488429307937622}, 'neighbor': {'fmt': 'math', 'data': u'{\\\\calA}({\\\\Upsilon}(1S){\\\\to}B_{c}{\\\\rho})\\\\=\\\\{\\\\calA}_{L}({\\\\epsilon}_{1}^{{\\\\parallel}},{\\\\epsilon}_{3}^{{\\\\parallel}})+{\\\\calA}_{N}({\\\\epsilon}_{1}^{{\\\\perp}},{\\\\epsilon}_{3}^{{\\\\perp}})+i\\\\,{\\\\calA}_{T}\\\\,{\\\\varepsilon}_{{\\\\mu}{u}{\\\\alpha}{\\\\beta}}\\\\,{\\\\epsilon}_{1}^{{\\\\mu}}\\\\,{\\\\epsilon}_{3}^{{u}}\\\\,p_{1}^{\\\\alpha}\\\\,p_{3}^{\\\\beta},'}}, {'similarity_score': {'data': 0.1485600620508194}, 'neighbor': {'fmt': 'math', 'data': u's_{\\\\pm}\\\\,=\\\\,M_{\\\\phi}^2\\\\,\\\\,\\\\pm\\\\,\\\\frac{1}{2}\\\\,M_{\\\\phi}\\\\,\\\\Gamma_{\\\\phi}(M_{\\\\phi}^2)\\\\,,'}}, {'similarity_score': {'data': 0.14833319187164307}, 'neighbor': {'fmt': 'math', 'data': u'{\\\\varepsilon_{MIT}}=\\\\sum_{q=u}^{d,s}\\\\,{\\\\frac{\\\\gamma_{q}}{2\\\\pi^{2}}}\\\\int_{0}^{k_{F}}dk\\\\,k^{2}\\\\,\\\\sqrt{m_{q}^{2}+k^{2}}\\\\,+\\\\mathcal{B}'}}, {'similarity_score': {'data': 0.1482793539762497}, 'neighbor': {'fmt': 'math', 'data': u'+\\\\,\\\\mathcal{A}\\\\,\\\\,\\\\,_2F_1\\\\Bigg(1+{\\\\frac{1}{2\\\\alpha}},{\\\\frac{1}{2}};{\\\\frac{3}{2}};{\\\\frac{4\\\\mathcal{C}^{2}\\\\,\\\\alpha^{3}\\\\,{\\\\mathcal{A}}^{2}}{\\\\beta}}\\\\Bigg)\\\\,\\\\Bigg\\\\}'}}, {'similarity_score': {'data': 0.14815129339694977}, 'neighbor': {'fmt': 'math', 'data': u'{\\\\text{deg}}(({{v}_1^{{y}_1}{v}_2^{{y}_2}\\\\cdots{v}_{n}^{{y}_{n}}})({{x}_1{v}_1\\\\oplus{x}_2{v}_2\\\\oplus\\\\cdots\\\\oplus{x}_{n}{v}_{n}}))={\\\\text{deg}}({{v}_1^{{y}_1}{v}_2^{{y}_2}\\\\cdots{v}_{n}^{{y}_{n}}})\\\\text{,or}{\\\\text{deg}}({{v}_1^{{y}_1}{v}_2^{{y}_2}\\\\cdots{v}_{n}^{{y}_{n}}})+1.'}}, {'similarity_score': {'data': 0.14806227385997772}, 'neighbor': {'fmt': 'math', 'data': u'{\\\\text{wt}}({{{\\\\boldsymbol{v}}}_1^{{y}_1}{{\\\\boldsymbol{v}}}_2^{{y}_2}\\\\cdots{{\\\\boldsymbol{v}}}_{n}^{{y}_{n}}})=2^{n-{\\\\text{deg}}({{v}_1^{{y}_1}{v}_2^{{y}_2}\\\\cdots{v}_{n}^{{y}_{n}}})}.'}}, {'similarity_score': {'data': 0.14800229668617249}, 'neighbor': {'fmt': 'math', 'data': u'\\\\eta={\\\\frac{{s}}{{4\\\\pi}}}\\\\,.'}}, {'similarity_score': {'data': 0.14800229668617249}, 'neighbor': {'fmt': 'math', 'data': u'\\\\eta={\\\\frac{{s}}{{4\\\\pi}}}\\\\,.'}}, {'similarity_score': {'data': 0.14800229668617249}, 'neighbor': {'fmt': 'math', 'data': u'\\\\eta={\\\\frac{{s}}{{4\\\\pi}}}\\\\,.'}}, {'similarity_score': {'data': 0.14789164066314697}, 'neighbor': {'fmt': 'math', 'data': u'{r}_{\\\\rm{cr}}~{\\\\equiv}~{\\\\left(\\\\frac{GM}{{{\\\\omega}_{*}}^{2}}\\\\right)}^{\\\\frac{1}{3}}{\\\\approx}~1.5\\\\times{10}^{8}{\\\\left(\\\\frac{M}{{M}_{\\\\odot}}\\\\right)}^{\\\\frac{1}{3}}{P}^{\\\\frac{2}{3}}~{\\\\rm{cm}},'}}, {'similarity_score': {'data': 0.14768186211585999}, 'neighbor': {'fmt': 'math', 'data': u'\\\\begin{array}{c}I=({u}_{4}^{2},{u}_{2}{u}_{4},{x}_{2}{u}_{4},{x}_{1}{u}_{4},{u}_{3}^{2},{u}_{1}{u}_{3},{x}_{4}{u}_{3},{x}_{1}{u}_{3},{u}_{2}^{2},{x}_{4}{u}_{2},{x}_{3}{u}_{2},{x}_{2}{u}_{2}-{x}_{3}{u}_{4},{x}_{1}{u}_{2}-{x}_{4}{u}_{4},\\\\\\\\{u}_{1}^{2},{x}_{4}{u}_{1}-{x}_{3}{u}_{3},{x}_{3}{u}_{1},{x}_{2}{u}_{1},{x}_{1}{u}_{1}-{x}_{2}{u}_{3},{x}_{4}^{2},{x}_{3}{x}_{4},{x}_{2}{x}_{4},{x}_{1}{x}_{4},{x}_{3}^{2},{x}_{2}{x}_{3},{x}_{1}{x}_{3},{x}_{2}^{2},{x}_{1}{x}_{2},{x}_{1}^{2}).\\\\end{array}'}}, {'similarity_score': {'data': 0.14756235480308533}, 'neighbor': {'fmt': 'math', 'data': u'MI({{I}_{1}};{{I}_{2}})=\\\\int_{{{I}_{1}}\\\\oplus{{I}_{2}}}{{{u}_{{{I}_{1}},{{I}_{2}}}}}(x_{1},x_{2})\\\\log\\\\frac{{{u}_{{{I}_{1}},{{I}_{2}}}}(x_{1},x_{2})}{{{u}_{{{I}_{1}}}}(x_{1}){{u}_{{{I}_{2}}}}(x_{2})}\\\\text{d}x_{1}\\\\text{d}x_{2}\\\\,.'}}, {'similarity_score': {'data': 0.147481769323349}, 'neighbor': {'fmt': 'math', 'data': u'\\\\delta({R_{\\\\mathrm{{s}}}})={\\\\delta_\\\\infty}+\\\\frac{\\\\alpha}{{R_{\\\\mathrm{{s}}}}}\\\\,.'}}, {'similarity_score': {'data': 0.14719106256961823}, 'neighbor': {'fmt': 'math', 'data': u'f^{x_0}(y)=f(x_0,y)\\\\,\\\\,\\\\,\\\\,\\\\,\\\\,\\\\,{\\\\mboxand}\\\\,\\\\,\\\\,\\\\,\\\\,\\\\,\\\\,f_{y_0}(x)=f(x,y_0)'}}, {'similarity_score': {'data': 0.14695048332214355}, 'neighbor': {'fmt': 'math', 'data': u'\\\\{{{{\\\\boldsymbol{v}}}_1^{{y}_1}{{\\\\boldsymbol{v}}}_2^{{y}_2}\\\\cdots{{\\\\boldsymbol{v}}}_{n}^{{y}_{n}}}\\\\mid{\\\\textbf{y}}\\\\in{\\\\mathbb{F}_2}^{{n}}\\\\setminus\\\\{{\\\\textbf{1}}\\\\}\\\\}.'}}, {'similarity_score': {'data': 0.1467795968055725}, 'neighbor': {'fmt': 'math', 'data': u'\\\\kappa_0={\\\\frac{{\\\\xi}}{{2}}}\\\\,,'}}, {'similarity_score': {'data': 0.14653129875659943}, 'neighbor': {'fmt': 'math', 'data': u'{{\\\\epsilon}}_{\\\\scriptscriptstyle{\\\\textrm{{H}}}}\\\\equiv-\\\\frac{H^\\\\prime}{H},\\\\,\\\\,\\\\,\\\\,\\\\,\\\\,\\\\,\\\\,\\\\,\\\\,\\\\,\\\\,\\\\,\\\\,{{\\\\bar{\\\\epsilon}}}_{\\\\scriptscriptstyle{\\\\textrm{{H}}}}\\\\equiv-\\\\frac{\\\\mathcal{R}^\\\\prime}{6H^2},'}}, {'similarity_score': {'data': 0.1463424563407898}, 'neighbor': {'fmt': 'math', 'data': u'\\\\frac{dN}{dE}=1.4\\\\times10^{-2}\\\\,E^{-1.8}\\\\,\\\\,\\\\,\\\\,\\\\,\\\\,\\\\,\\\\,\\\\,\\\\rm{electrons\\\\,\\\\,cm}^{-2}\\\\rm{s}^{-1}\\\\rm{sr}^{-1}\\\\rm{MeV}^{-1}'}}, {'similarity_score': {'data': 0.14629590511322021}, 'neighbor': {'fmt': 'math', 'data': u'n_{\\\\rmcc}(\\\\gamma)\\\\simeq\\\\frac{1}{N}\\\\left(\\\\frac{\\\\gamma}{\\\\gamma_{\\\\rmcc}^{(1)}}\\\\right)\\\\,\\\\,\\\\,\\\\,\\\\,\\\\,{\\\\rmas}\\\\,\\\\,\\\\,\\\\,\\\\,\\\\,\\\\gamma\\\\rightarrow0\\\\,.'}}, {'similarity_score': {'data': 0.1461401879787445}, 'neighbor': {'fmt': 'math', 'data': u\"g_{2,0}'=v_{0,1}^2v_{2,0}+\\\\omega_1\\\\omega_2v_{0,2}v_{1,1}v_{2,1}+\\\\omega_2v_{0,2}v_{2,0}v_{3},\"}}, {'similarity_score': {'data': 0.14560596644878387}, 'neighbor': {'fmt': 'math', 'data': u't=\\\\frac{x_1-x_2}{\\\\sqrt{\\\\frac{s_1^2}{n_1}+\\\\frac{s_2^2}{n_2}}}'}}, {'similarity_score': {'data': 0.14531823992729187}, 'neighbor': {'fmt': 'math', 'data': u'\\\\begin{aligned}\\\\bar{v}_{x}&=n\\\\,\\\\int\\\\frac{d^{2}\\\\mathbf{k}}{(2\\\\pi)^{2}}\\\\:\\\\hat{T}\\\\,\\\\mathcal{G}_{\\\\mathbf{k}}^{R}\\\\,v_{x}\\\\,\\\\mathcal{G}_{\\\\mathbf{k}}^{A}\\\\,\\\\hat{T}^{*}=v\\\\,(a\\\\,\\\\gamma_{1}+b\\\\,\\\\gamma_{13})\\\\,,\\\\\\\\a&\\\\simeq\\\\epsilon\\\\,\\\\frac{\\\\eta_{+}\\\\,\\\\eta_{-}+\\\\epsilon_{+}\\\\,\\\\epsilon_{-}}{4v^{2}(\\\\eta_{+}+\\\\eta_{-})}-n\\\\,f_{a}(\\\\eta_{+},\\\\eta_{-},\\\\epsilon_{+},\\\\epsilon_{-}),onumber\\\\\\\\b&\\\\simeq\\\\epsilon\\\\,\\\\frac{\\\\eta_{+}\\\\,\\\\epsilon_{-}-\\\\eta_{-}\\\\,\\\\epsilon_{+}}{4v^{2}(\\\\eta_{+}+\\\\eta_{-})}+n\\\\,f_{b}(\\\\eta_{+},\\\\eta_{-},\\\\epsilon_{+},\\\\epsilon_{-}),onumber\\\\end{aligned}'}}, {'similarity_score': {'data': 0.14523351192474365}, 'neighbor': {'fmt': 'math', 'data': u'\\\\begin{aligned}\\\\Omega(t,s,v,u)=(t+\\\\cos(v),s,\\\\sin(v),k_{1},k_{2},u^{2})\\\\end{aligned}'}}, {'similarity_score': {'data': 0.1451624631881714}, 'neighbor': {'fmt': 'math', 'data': u'\\tF_{\\\\rmd}=\\\\frac{4\\\\pi}{3}\\\\rho_{\\\\rmg}c_{\\\\rms}s^2\\\\Deltav\\\\,\\\\,\\\\,,'}}, {'similarity_score': {'data': 0.1449052095413208}, 'neighbor': {'fmt': 'math', 'data': u'\\\\begin{aligned}{\\\\rmP}(\\\\{c_{i}\\\\}|\\\\{s_{ij}\\\\})&=\\\\frac{1}{Z}\\\\underset{(ij)\\\\in{E}}{\\\\prod}p_{c_{i},c_{j}}(s_{ij})\\\\,,\\\\end{aligned}'}}, {'similarity_score': {'data': 0.14446286857128143}, 'neighbor': {'fmt': 'math', 'data': u'\\\\[u(s_{i_1},x)=x^{s_{i_1}}(1+\\\\varphi_{i_1}(x))\\\\,\\\\,\\\\,\\\\,\\\\,and\\\\,\\\\,\\\\,\\\\,\\\\,u(s_{i_2},x)=x^{s_{i_2}}(1+\\\\varphi_{i_2}(x)),\\\\]'}}, {'similarity_score': {'data': 0.14436063170433044}, 'neighbor': {'fmt': 'math', 'data': u'u_{i,M}:=\\\\frac{1}{M_i}\\\\sum_{m=1}^{M_i}\\\\delta_{({H^{({i,m})}_{{i+1}}},\\\\ldots,{{H^{({i,m})}_{{N}}}},{X^{({i,m})}_{{i}}},\\\\ldots,{X^{({i,m})}_{N}})}.'}}, {'similarity_score': {'data': 0.14429476857185364}, 'neighbor': {'fmt': 'math', 'data': u'E_2^{s,t}={\\\\operatorname{Ext}}_{{\\\\mathcal{A}}^{*}}^{s,t}({\\\\mathbb{F}}_{2},{\\\\mathbb{F}}_{2}).'}}, {'similarity_score': {'data': 0.1442156732082367}, 'neighbor': {'fmt': 'math', 'data': u'\\\\begin{aligned}(2,2,0),(2,2,0^*),(2,1,1),(1,2,1),(2,0,2),(2,0^*,2),(1,1,2),(0,2,2),(0^*,2,2),\\\\end{aligned}'}}, {'similarity_score': {'data': 0.14415772259235382}, 'neighbor': {'fmt': 'math', 'data': u'\\\\frac{e^2}{2\\\\Lambda_{\\\\rmsc}}\\\\,=\\\\,\\\\,\\\\frac{e^2Q^2y}{24\\\\pi^2}\\\\,\\\\,\\\\sum_{\\\\mathbfn}\\\\frac{M_D}{M_{L{\\\\mathbfn}}^2}\\\\,e^{-(M_{L{\\\\mathbfn}}^2/M_{\\\\rmst}^2)}\\\\,\\\\,{\\\\calF}\\\\left(\\\\frac{M_X^2}{4M_{L{\\\\mathbfn}}^2}\\\\right)\\\\,,'}}, {'similarity_score': {'data': 0.14391005039215088}, 'neighbor': {'fmt': 'math', 'data': u'\\\\begin{aligned}&(x_{i}^{a_{1}+\\\\frac{1}{2}},x_{j}^{a_{1}+\\\\frac{1}{2}},x_{u}^{a_{2}},x_{v}^{a_{2}+1},x_{g}^{a_{3}},x_{h}^{a_{4}})\\\\\\\\&(x_{i}^{a_{1}+\\\\frac{1}{2}},x_{j}^{a_{1}+\\\\frac{1}{2}},x_{u}^{a_{2}+1},x_{v}^{a_{2}},x_{g}^{a_{3}},x_{h}^{a_{4}})onumber\\\\end{aligned}'}}, {'similarity_score': {'data': 0.14370152354240417}, 'neighbor': {'fmt': 'math', 'data': u'D_{\\\\mu}=\\\\partial_{\\\\mu}\\\\,-\\\\,i\\\\,g\\\\,A_{\\\\mu}\\\\,+\\\\,i\\\\,g_x\\\\,y_x\\\\,B_{\\\\mu}^x\\\\,,'}}, {'similarity_score': {'data': 0.14356625080108643}, 'neighbor': {'fmt': 'math', 'data': u's_{\\\\pm}\\\\,=\\\\,M_{\\\\rho}^2\\\\,\\\\,\\\\pm\\\\,\\\\frac{1}{2}\\\\,M_{\\\\rho}\\\\,\\\\Gamma_{\\\\rho}(M_{\\\\rho}^2)\\\\,.'}}, {'similarity_score': {'data': 0.14333103597164154}, 'neighbor': {'fmt': 'math', 'data': u'\\\\phi_{{\\\\boldsymbol{{k}}}}=\\\\arg\\\\left(S_{12}^{{\\\\ensuremath{{\\\\hat{{s}}}}}}\\\\right),~~\\\\theta_{{\\\\boldsymbol{{k}}}}=\\\\frac{1}{2}{\\\\ensuremath{\\\\mathrm{atan}}}\\\\,\\\\frac{|S_{12}^{{\\\\ensuremath{{\\\\hat{{s}}}}}}|}{S_{1}^{{\\\\ensuremath{{\\\\hat{{s}}}}}}},'}}, {'similarity_score': {'data': 0.14313167333602905}, 'neighbor': {'fmt': 'math', 'data': u'\\\\[A_4=\\\\{\\\\{\\\\{1,2,3,4\\\\}\\\\},\\\\;\\\\{\\\\{1,2,3\\\\},\\\\{1,3,4\\\\}\\\\},\\\\;\\\\{\\\\{1,2,4\\\\},\\\\{2,3,4\\\\}\\\\}\\\\}\\\\]'}}, {'similarity_score': {'data': 0.14313077926635742}, 'neighbor': {'fmt': 'math', 'data': u'\\\\alpha=\\\\frac{n_{1}\\\\,c_{2}}{(c_{1}-c_{2})^{2}}\\\\,,\\\\quad\\\\beta=-\\\\frac{n_{2}\\\\,c_{2}}{(c_{1}-c_{2})^{2}}\\\\,,\\\\quad\\\\gamma=-\\\\frac{2}{c_{2}}\\\\,,'}}, {'similarity_score': {'data': 0.1425546109676361}, 'neighbor': {'fmt': 'math', 'data': u'{\\\\dotE}^{i}\\\\,+\\\\,2HE^{i}\\\\,=\\\\,S(t)^{i}\\\\,,'}}, {'similarity_score': {'data': 0.1425219029188156}, 'neighbor': {'fmt': 'math', 'data': u\"g_{0,2}'=\\\\omega_2[v_{0,2}v_{1,0}^2+\\\\omega_1^2v_{1,1}^2v_{1,2}+2\\\\omega_1v_{1,1}v_{2,0}v_{2,1}+v_{2,0}^2v_{3}],\"}}, {'similarity_score': {'data': 0.14238370954990387}, 'neighbor': {'fmt': 'math', 'data': u'\\\\begin{array}{l}\\\\langlex|\\\\langley|\\\\psi_f\\\\rangle=\\\\phi^w_0\\\\iint_{-\\\\infty}^\\\\inftye^{-\\\\frac{\\\\Delta^2(p_x^2+p_y^2)}{\\\\hbar^2}}\\\\langlex|p_x\\\\rangle\\\\langley|p_y\\\\rangledp_xdp_y\\\\\\\\\\\\\\\\\\\\,\\\\,\\\\,\\\\,\\\\,\\\\,\\\\,\\\\,\\\\,\\\\,\\\\,\\\\,\\\\,\\\\,\\\\,\\\\,\\\\,\\\\,\\\\,\\\\,\\\\,\\\\,\\\\,\\\\,\\\\,=\\\\vartheta^w_0e^{\\\\frac{-(x^2+y^2)}{4\\\\Delta^2}}\\\\,\\\\end{array}'}}, {'similarity_score': {'data': 0.14217618107795715}, 'neighbor': {'fmt': 'math', 'data': u'\\\\begin{aligned}F_u=\\\\&0.3\\\\left(\\\\frac{E_{\\\\mathrm{kin}}}{10^{49}\\\\\\\\mathrm{erg}}\\\\right)\\\\left(\\\\frac{n_0}{\\\\mathrm{cm}^{-3}}\\\\right)^{\\\\frac{p+1}{4}}\\\\left(\\\\frac{\\\\epsilon_B}{0.1}\\\\right)^{\\\\frac{p+1}{4}}\\\\times\\\\\\\\&\\\\left(\\\\frac{\\\\epsilon_e}{0.1}\\\\right)^{p-1}\\\\left(\\\\frac{\\\\langlev_\\\\infty\\\\rangle}{c}\\\\right)^{\\\\frac{5p-7}{2}}\\\\left(\\\\frac{D}{10^{27}\\\\mathrm{cm}}\\\\right)^{-2}\\\\times\\\\\\\\&\\\\left(\\\\frac{u_{\\\\mathrm{obs}}}{1.4\\\\\\\\mathrm{GHz}}\\\\right)^{-\\\\frac{p-1}{2}}\\\\mathrm{mJy}\\\\,,\\\\end{aligned}'}}, {'similarity_score': {'data': 0.1421118676662445}, 'neighbor': {'fmt': 'math', 'data': u'\\\\dot{P}~{\\\\approx}~-5.8\\\\times{10}^{-5}{P}^{2}{\\\\dot{M}}_{17}{I}_{45}^{-1}{\\\\left(\\\\frac{M}{{M}_{\\\\odot}}\\\\right)}^{\\\\frac{1}{2}}{\\\\left(\\\\frac{{r}_{\\\\rm{to}}}{{10}^{8}~{\\\\rm{cm}}}\\\\right)}^{\\\\frac{1}{2}}~{\\\\rm{s~{yr}^{-1}}}.'}}, {'similarity_score': {'data': 0.14201392233371735}, 'neighbor': {'fmt': 'math', 'data': u'p_{\\\\rho}\\\\,=\\\\,p_{3}\\\\,=\\\\,(p_{3}^{-},p_{3}^{+},0),'}}, {'similarity_score': {'data': 0.14196442067623138}, 'neighbor': {'fmt': 'math', 'data': u\"\\\\frac{\\\\eta}{s}\\\\,=\\\\,\\\\frac{1}{4\\\\,\\\\pi}\\\\left(1+\\\\frac{2}{3}\\\\,c_u\\\\,m^2\\\\,\\\\int_{1}^0\\\\frac{f'}{f}\\\\,\\\\left(1-x^{u+1}\\\\right)\\\\,dx\\\\right)\"}}, {'similarity_score': {'data': 0.14142322540283203}, 'neighbor': {'fmt': 'math', 'data': u'{\\\\eta_l}=\\\\frac{{{P_c}}}{{{P_0}}}=\\\\frac{1}{{{\\\\beta_0}}},'}}, {'similarity_score': {'data': 0.141203373670578}, 'neighbor': {'fmt': 'math', 'data': u'{\\\\hat{\\\\mathbf{s}}_{{{\\\\mathbf{u}_{{k}}}}}}={\\\\operatorname{arg\\\\,min}}_{\\\\mathbf{c}\\\\in\\\\mathscr{C}}orm{{{\\\\hat{{\\\\mathbf{{M}}_{{}}}}_{{k}}^{-1}}{\\\\mathbf{s}_{{{\\\\mathbf{r}_{{k}}}}}}}-{\\\\mathbf{s}_{{\\\\mathbf{c}}}}}^2,'}}, {'similarity_score': {'data': 0.14107190072536469}, 'neighbor': {'fmt': 'math', 'data': u'S\\\\left({{{\\\\mathbf{r}}_0}}\\\\right)\\\\approxV{\\\\left({\\\\frac{{{\\\\omega_s}}}{c}}\\\\right)^4}{\\\\left|{\\\\frac{{{\\\\chi_ss_n}}}{{{{\\\\left({{\\\\omega_0}+i\\\\gamma}\\\\right)}^2}-\\\\omega_s^2}}}\\\\right|^2},'}}, {'similarity_score': {'data': 0.14105455577373505}, 'neighbor': {'fmt': 'math', 'data': u'{{\\\\Phi}_{n}}=\\\\frac{\\\\hbar\\\\pin}{e}=\\\\frac{hn}{2e}\\\\,\\\\,\\\\,\\\\,\\\\;\\\\,\\\\,\\\\,\\\\,\\\\n=1,2,3,...'}}, {'similarity_score': {'data': 0.14087122678756714}, 'neighbor': {'fmt': 'math', 'data': u'{P}_{{\\\\textbf{a}}}({\\\\textbf{x}})={\\\\text{wt}}(({{{\\\\boldsymbol{v}}}_1^{{y}_1}{{\\\\boldsymbol{v}}}_2^{{y}_2}\\\\cdots{{\\\\boldsymbol{v}}}_{n}^{{y}_{n}}})({{x}_1{{\\\\boldsymbol{v}}}_1\\\\oplus{x}_2{{\\\\boldsymbol{v}}}_2\\\\oplus\\\\cdots\\\\oplus{x}_{n}{{\\\\boldsymbol{v}}}_{n}}))'}}, {'similarity_score': {'data': 0.14076700806617737}, 'neighbor': {'fmt': 'math', 'data': u'\\\\left[\\\\frac{\\\\left(\\\\frac{V_{max}^{f}}{K_{M}^{f}}\\\\right)c_{S}}{1+\\\\frac{a_{S}}{K_{M}^{f}}+\\\\frac{a_{P}}{K_{M}^{b}}}\\\\right]^{eq}\\\\left\\\\{\\\\frac{U_{C}-U_{B}}{k_{B}}\\\\left(\\\\frac{1}{T^{(1)}}-\\\\frac{1}{T^{(2)}}\\\\right)\\\\right\\\\},'}}, {'similarity_score': {'data': 0.140703946352005}, 'neighbor': {'fmt': 'math', 'data': u'{P}_{2^i\\\\cdot{{{\\\\boldsymbol{v}}}_1^{{y}_1}{{\\\\boldsymbol{v}}}_2^{{y}_2}\\\\cdots{{\\\\boldsymbol{v}}}_{n}^{{y}_{n}}}}({\\\\textbf{x}})=2^{l}\\\\text{or}2^{l-1},'}}, {'similarity_score': {'data': 0.1406976878643036}, 'neighbor': {'fmt': 'math', 'data': u'm=\\\\frac{1}{2}s^3\\\\left(\\\\frac{1}{s^2}+\\\\frac{1}{l^2}+\\\\eta\\\\frac{q^2}{s^4}\\\\right)\\\\,'}}, {'similarity_score': {'data': 0.1406368613243103}, 'neighbor': {'fmt': 'math', 'data': u'{\\\\phi}_{\\\\rho}^{A}(x)\\\\,=\\\\,f_{\\\\rho}\\\\,\\\\frac{3}{2}\\\\,(-t).'}}]}\n"
     ]
    },
    {
     "name": "stderr",
     "output_type": "stream",
     "text": [
      "127.0.0.1 - - [30/Nov/2017 09:45:52] \"POST /query HTTP/1.1\" 200 27735\n"
     ]
    },
    {
     "name": "stdout",
     "output_type": "stream",
     "text": [
      "{'neighbors': [{'similarity_score': {'data': 0.38589873909950256}, 'neighbor': {'fmt': 'math', 'data': u'\\\\frac{1}{1+\\\\sigma_i}+\\\\beta(\\\\sigma_{i}-\\\\sigma_{i,A})=0\\\\hspace{0.1cm}s.t.\\\\hspace{0.1cm}\\\\sigma_i\\\\ge0.'}}, {'similarity_score': {'data': 0.3413463234901428}, 'neighbor': {'fmt': 'math', 'data': u'W_i=\\\\frac{1}{\\\\sigma_i^2}.'}}, {'similarity_score': {'data': 0.3395869731903076}, 'neighbor': {'fmt': 'math', 'data': u'\\\\xi^{(4)i}=(A^{i}{_{a}},\\\\beta^{i},e^{i}{_{a}},\\\\alpha^{i},\\\\lambda^{i}{_{a}},\\\\Gamma^{i},\\\\varphi,\\\\rho_{i},\\\\omega_{i},\\\\tau_{i},\\\\sigma),'}}, {'similarity_score': {'data': 0.3220563232898712}, 'neighbor': {'fmt': 'math', 'data': u'\\\\sum_{i=1}^{2}I_{A_{i}C_{i}}\\\\leq\\\\sum_{i=1}^{2}H(q_{i}^{t}).'}}, {'similarity_score': {'data': 0.3080526292324066}, 'neighbor': {'fmt': 'math', 'data': u'\\\\[\\\\sum_{i=1}^n\\\\frac{(y_1(t_i)-V(t_i))^2}{\\\\sigma_1^2}+\\\\frac{(y_2(t_i)-R(t_i))^2}{\\\\sigma_2^2}.\\\\]'}}, {'similarity_score': {'data': 0.3079829812049866}, 'neighbor': {'fmt': 'math', 'data': u'{\\\\calH}=\\\\sum_{i=1}^{N}\\\\frac{{\\\\vec{p}_i}^{\\\\hspace{0.1cm}2}}{2m_{i}}.'}}, {'similarity_score': {'data': 0.29074743390083313}, 'neighbor': {'fmt': 'math', 'data': u'\\\\sigma^{2}_{k}=\\\\frac{1}{k}\\\\sum_{i=1}^{k}\\\\frac{1}{\\\\mu_{i}^{2}}-\\\\left(\\\\frac{1}{k}\\\\sum_{i=1}^{k}\\\\frac{1}{\\\\mu_{i}}\\\\right)^{2}.'}}, {'similarity_score': {'data': 0.29046183824539185}, 'neighbor': {'fmt': 'math', 'data': u'u_{i,M}:=\\\\frac{1}{M_i}\\\\sum_{m=1}^{M_i}\\\\delta_{({H^{({i,m})}_{{i+1}}},\\\\ldots,{{H^{({i,m})}_{{N}}}},{X^{({i,m})}_{{i}}},\\\\ldots,{X^{({i,m})}_{N}})}.'}}, {'similarity_score': {'data': 0.28774964809417725}, 'neighbor': {'fmt': 'math', 'data': u'\\\\sigma(\\\\bar{b}_{i})^{2}=(M_{i}^{T}C_{i}^{-1}M_{i})^{-1},'}}, {'similarity_score': {'data': 0.2872861325740814}, 'neighbor': {'fmt': 'math', 'data': u'\\\\sigma=\\\\left(\\\\sum_{i=1}^{N}\\\\frac{1}{\\\\sigma_i^2}\\\\right)^{-1/2},'}}, {'similarity_score': {'data': 0.28567835688591003}, 'neighbor': {'fmt': 'math', 'data': u'\\\\sum_{i=1}^{n}\\\\lambda_{i}X_{i},'}}, {'similarity_score': {'data': 0.2818015515804291}, 'neighbor': {'fmt': 'math', 'data': u'A=\\\\sum_i^r\\\\sigma_iu_i\\\\otimesv_i^T'}}, {'similarity_score': {'data': 0.2809951901435852}, 'neighbor': {'fmt': 'math', 'data': u'\\\\prod_i\\\\frac{1}{2}(1\\\\pma_{ij_i})(\\\\sum_i\\\\sigma_iZ_{ij_i})'}}, {'similarity_score': {'data': 0.28071486949920654}, 'neighbor': {'fmt': 'math', 'data': u'\\\\frac{d\\\\rho}{dt}=\\\\sum_{i=1,2}\\\\gamma_i(N+1)\\\\left(\\\\sigma_i^{-}\\\\rho\\\\sigma_i^{+}-\\\\frac{1}{2}\\\\left(\\\\sigma_i^{+}\\\\sigma_i^{-}\\\\rho+\\\\rho\\\\sigma_i^{+}\\\\sigma_i^{-}\\\\right)\\\\right)+\\\\sum_{i=1,2}\\\\gamma_iN\\\\left(\\\\sigma_i^{+}\\\\rho\\\\sigma_i^{-}-\\\\frac{1}{2}\\\\left(\\\\sigma_i^{-}\\\\sigma_i^{+}\\\\rho+\\\\rho\\\\sigma_i^{-}\\\\sigma_i^{+}\\\\right)\\\\right),'}}, {'similarity_score': {'data': 0.2805884778499603}, 'neighbor': {'fmt': 'math', 'data': u'h_i=1-\\\\frac{1}{1+\\\\lambda_it_i},'}}, {'similarity_score': {'data': 0.2801664471626282}, 'neighbor': {'fmt': 'math', 'data': u'\\\\begin{aligned}\\\\bar{A}_i=\\\\frac{1}{N_i}\\\\sum_{n=1}^{N_i}A(x^i_n)\\\\end{aligned}'}}, {'similarity_score': {'data': 0.2797901928424835}, 'neighbor': {'fmt': 'math', 'data': u'P=\\\\sum_i\\\\sigma_i\\\\DeltaV_i^2=\\\\sum_i\\\\sigma_i\\\\frac{G_{eff}(f)V^2}{\\\\phi(f)N}\\\\,.'}}, {'similarity_score': {'data': 0.2778593897819519}, 'neighbor': {'fmt': 'math', 'data': u'w_i^{(\\\\sigma)}(t)=t^{u_i}\\\\,\\\\sum_{n=0}^\\\\inftyc_{n,i}^{(\\\\sigma)}\\\\,t^n,\\\\qquadc_{0,i}^{(\\\\sigma)}eq0,\\\\qquadi=1,2,'}}, {'similarity_score': {'data': 0.2765892744064331}, 'neighbor': {'fmt': 'math', 'data': u'\\\\frac{\\\\sqrt{x^{i}_{0}}}{\\\\sum_{i=1}^{m}\\\\sqrt{x^{i}_{0}}}\\\\,.'}}, {'similarity_score': {'data': 0.276300311088562}, 'neighbor': {'fmt': 'math', 'data': u'\\\\chi^2_{1,2}=\\\\sum_{i=1}^4\\\\left(\\\\frac{q_i^{{\\\\calS}_{1,2}}-q_i^j}{\\\\sigma_i}\\\\right)^2.'}}, {'similarity_score': {'data': 0.27387070655822754}, 'neighbor': {'fmt': 'math', 'data': u'H=\\\\sum_{i=1}^{N-1}{J_i\\\\sigma_{i}^z\\\\sigma_{i+1}^z}+\\\\sum_{i=1}^{N}{h_i\\\\sigma_{i}^x}'}}, {'similarity_score': {'data': 0.2729107737541199}, 'neighbor': {'fmt': 'math', 'data': u'{\\\\calH}=\\\\sum_{i=1}^{N}\\\\frac{{\\\\vec{p}_i}^{\\\\hspace{0.1cm}2}}{2m}.'}}, {'similarity_score': {'data': 0.2716083526611328}, 'neighbor': {'fmt': 'math', 'data': u'\\\\tau=\\\\frac{\\\\sum_{i}(R_{i}-E_{i})}{\\\\sqrt{\\\\sum_{i}V_{i}}},'}}, {'similarity_score': {'data': 0.27136892080307007}, 'neighbor': {'fmt': 'math', 'data': u'{\\\\epsilon}_{i}^{\\\\parallel}\\\\,=\\\\,\\\\frac{p_{i}}{m_{i}}-\\\\frac{m_{i}}{p_{i}{\\\\cdot}n_{+}}n_{+},'}}, {'similarity_score': {'data': 0.2706149220466614}, 'neighbor': {'fmt': 'math', 'data': u'\\\\omega^{(T)}_{i}(\\\\sigma^{(1)}_{i},\\\\ldots,\\\\sigma^{(T)}_{i})=\\\\sigma^{(T)}_{i}+\\\\displaystyle{\\\\sum^{T-1}_{\\\\tau=0}\\\\alpha^{\\\\tau}\\\\sigma^{(T-\\\\tau)}_{i}}=\\\\sigma^{(T)}_{i}+\\\\alpha\\\\omega^{(T-1)}_{i}'}}, {'similarity_score': {'data': 0.2689809501171112}, 'neighbor': {'fmt': 'math', 'data': u\"I_{A_{i}C_{i}}\\\\leqI_{A_{i}(C_{i}C'_{i})}.\"}}, {'similarity_score': {'data': 0.26773086190223694}, 'neighbor': {'fmt': 'math', 'data': u'\\\\frac{\\\\sum_i{a_i}}{\\\\sum_ib_i}\\\\geq\\\\min_i\\\\left\\\\{\\\\frac{a_i}{b_i}\\\\right\\\\}.'}}, {'similarity_score': {'data': 0.2668457627296448}, 'neighbor': {'fmt': 'math', 'data': u'\\\\mathbf{g}_{i}\\\\triangleq\\\\left[a_{1,i}^\\\\frac{1}{2}{g}_{1,i},a_{2,i}^\\\\frac{1}{2}{g}_{2,i},\\\\cdots,a_{N_R,i}^\\\\frac{1}{2}{g}_{N_R,i}\\\\right]^{\\\\rmT}'}}, {'similarity_score': {'data': 0.2659154534339905}, 'neighbor': {'fmt': 'math', 'data': u'z_i(\\\\sigma)=\\\\left[\\\\frac{\\\\rho_i(0)}{\\\\rho_i(\\\\sigma)}\\\\right]^{q-1}\\\\prod_{j=1}^qz_i^{\\\\langlei,j\\\\rangle}(\\\\sigma).'}}, {'similarity_score': {'data': 0.2651877701282501}, 'neighbor': {'fmt': 'math', 'data': u'\\\\[\\\\Phi_{i}=\\\\{(\\\\tau_{i,1},\\\\xi_{i,1}),\\\\ldots,(\\\\tau_{i,N_T^i},\\\\xi_{i,N_T^i})\\\\}.\\\\]'}}, {'similarity_score': {'data': 0.26513850688934326}, 'neighbor': {'fmt': 'math', 'data': u'\\\\mathcal{A}^{(i)}=\\\\left\\\\{{\\\\bfP}^{(i)}=(P^{(1)}_{i},\\\\dots,P^{(n_i)}_{i})|P^{(l)}_i\\\\in\\\\{p_i^{(1)},\\\\dots,p_i^{(m)}\\\\},\\\\right.\\\\left.\\\\sum_{l=1}^{n_i}\\\\pi_{i}(l)P^{(l)}_i\\\\leq\\\\overline{P}_i\\\\right\\\\},'}}, {'similarity_score': {'data': 0.2635972797870636}, 'neighbor': {'fmt': 'math', 'data': u'\\\\sum_{i=1}^{2}I_{A_{i}C_{i}}+\\\\sum_{i=1}^{2}I_{A_{i}B_{i}}\\\\leq2\\\\log_{2}d.'}}, {'similarity_score': {'data': 0.2619977295398712}, 'neighbor': {'fmt': 'math', 'data': u'\\\\xi^{(3)i}=\\\\left(A^{i}{_{a}},\\\\beta^{i},e^{i}{_{a}},\\\\alpha^{i},\\\\lambda^{i}{_{a}},\\\\Gamma^{i},\\\\varphi,\\\\varphi^{0a}\\\\right).'}}, {'similarity_score': {'data': 0.2619507312774658}, 'neighbor': {'fmt': 'math', 'data': u'L_{i}=\\\\sum_{\\\\sigma}f^{\\\\dagger}_{i,\\\\sigma}f_{i,\\\\sigma}-1.'}}, {'similarity_score': {'data': 0.26153311133384705}, 'neighbor': {'fmt': 'math', 'data': u'\\\\dot{x_{i}}\\\\equiv\\\\partial_{t}x_{i}=w_{i}^{+}-w_{i}^{-}=(s_{i}-x_{i})\\\\mu^{q_{i}}-x_{i}(1-\\\\mu)^{q_{i}}.'}}, {'similarity_score': {'data': 0.26138895750045776}, 'neighbor': {'fmt': 'math', 'data': u'\\\\begin{aligned}&\\\\{\\\\mathcal{M}_i^{(k+1)}\\\\}_{i=1}^N=arg\\\\min_{\\\\{\\\\mathcal{M}_i\\\\}_{i=1}^N}\\\\sum_{i=1}^{N}\\\\lambda_2\\\\alpha_iQ_{P_\\\\lambda}(\\\\sigma(\\\\mathcal{M}_{i(i)})|\\\\sigma(\\\\mathcal{X}^{k}))\\\\\\\\&+\\\\sum^{N}_{i=1}\\\\frac{\\\\rho}{2}\\\\|\\\\mathcal{M}_{i(i)}-\\\\mathcal{X}^k_{(i)}+\\\\frac{\\\\mathcal{Y}_{i(i)}^k}{\\\\rho}\\\\|^2_F,\\\\end{aligned}'}}, {'similarity_score': {'data': 0.25952383875846863}, 'neighbor': {'fmt': 'math', 'data': u'\\\\begin{aligned}\\\\begin{aligned}\\\\dot{x}_{i}&=-\\\\omega_{i}y_{i}-z_{i}+\\\\sum_{j=1}^{N_{i}}\\\\alpha_{ij}(x_j-x_i),\\\\\\\\\\\\dot{y}_{i}&=\\\\omega_{i}x_{i}+ay_{i},\\\\\\\\\\\\dot{z}_{i}&=p+z_{i}(x_{i}-c),\\\\end{aligned}\\\\end{aligned}'}}, {'similarity_score': {'data': 0.2591491937637329}, 'neighbor': {'fmt': 'math', 'data': u'\\\\widetilde{\\\\bar{T}}_{i}^{0}=\\\\frac{\\\\sigma_{i}^{T}}{a^{3}}.'}}, {'similarity_score': {'data': 0.2587070167064667}, 'neighbor': {'fmt': 'math', 'data': u'corr(R_{i},M_{i})=\\\\frac{covariance(R_{i},M_{i})}{\\\\sigma_{R_{i}}\\\\cdot\\\\sigma_{M_{i}}}'}}, {'similarity_score': {'data': 0.25869888067245483}, 'neighbor': {'fmt': 'math', 'data': u'\\\\begin{aligned}&\\\\{\\\\mathcal{M}_i^{(k+1)}\\\\}_{i=1}^N=arg\\\\min_{\\\\{\\\\mathcal{M}_i\\\\}_{i=1}^N}\\\\sum_{i=1}^{N}\\\\lambda_2\\\\mathcal{L}(\\\\mathcal{M}_{i(i)})\\\\\\\\&+\\\\sum^{N}_{i=1}\\\\frac{\\\\rho}{2}\\\\|\\\\mathcal{M}_{i(i)}-\\\\mathcal{X}^k_{(i)}+\\\\frac{\\\\mathcal{Y}_{i(i)}^k}{\\\\rho}\\\\|^2_F\\\\end{aligned}'}}, {'similarity_score': {'data': 0.2581113278865814}, 'neighbor': {'fmt': 'math', 'data': u'\\\\sigma(N,M)=\\\\frac{\\\\sum_{i=1}^N\\\\omega_i(M)\\\\sigma_i(M)}{\\\\sum_{i=1}^N\\\\omega_i(M)},'}}, {'similarity_score': {'data': 0.25648993253707886}, 'neighbor': {'fmt': 'math', 'data': u'w_i^{(\\\\sigma)}(t)\\\\simT_{i,3}^{(\\\\sigma)}\\\\,w_3^{(\\\\sigma)}(t)+T_{i,4}^{(\\\\sigma)}\\\\,w_4^{(\\\\sigma)}(t),\\\\qquadi=1,2.\\\\\\\\'}}, {'similarity_score': {'data': 0.2564466595649719}, 'neighbor': {'fmt': 'math', 'data': u'\\\\chi_0^2=\\\\frac{1}{n-k}\\\\sum_{i=1}^{n}\\\\frac{(x_i-\\\\barx)^2}{\\\\sigma_i^2}'}}, {'similarity_score': {'data': 0.2562657296657562}, 'neighbor': {'fmt': 'math', 'data': u'b_{i}=f(i,t_{0}).'}}, {'similarity_score': {'data': 0.25626102089881897}, 'neighbor': {'fmt': 'math', 'data': u'A_{i}=\\\\gamma_ip,'}}, {'similarity_score': {'data': 0.25610581040382385}, 'neighbor': {'fmt': 'math', 'data': u'\\\\,s^{(T)}_{i}=mode(\\\\sigma^{(1)}_{i},\\\\ldots,\\\\sigma^{(T)}_{i})'}}, {'similarity_score': {'data': 0.2551898658275604}, 'neighbor': {'fmt': 'math', 'data': u'f^{(2)}_{i}=A_{i,j}f^{(1)}_{j}.'}}, {'similarity_score': {'data': 0.25421321392059326}, 'neighbor': {'fmt': 'math', 'data': u'A^{(k)}=\\\\sum^k_{i=1}\\\\sigma_iu_i\\\\otimesv_i^T.'}}, {'similarity_score': {'data': 0.2538610100746155}, 'neighbor': {'fmt': 'math', 'data': u'\\\\sum_{i=1}^{5}\\\\lambda_{i}F_{i}'}}, {'similarity_score': {'data': 0.2534754276275635}, 'neighbor': {'fmt': 'math', 'data': u'\\\\sigma^{(1)}=\\\\sigma_{1}^{(1)}+\\\\sigma_{2}^{(1)}+\\\\bar{\\\\sigma}_{{\\\\rmV}}^{(1)}=3\\\\,C_F\\\\,\\\\frac{{\\\\alpha_{\\\\mathrm{S}}}}{4\\\\pi}\\\\,\\\\sigma^{(0)}~,'}}, {'similarity_score': {'data': 0.2532125413417816}, 'neighbor': {'fmt': 'math', 'data': u'\\\\[\\\\left(\\\\sum_{i=1}^n\\\\overline{p_i}dz_i+\\\\sum_{i=1}^np_id\\\\overline{z_i}\\\\right)\\\\left(\\\\sum_{i=1}^nf_i(p)\\\\frac{\\\\partial}{\\\\partialz_i}\\\\right)=\\\\sum_{i=1}^n\\\\overline{p_i}\\\\cdotf_i(p)=0,\\\\]'}}, {'similarity_score': {'data': 0.2520676851272583}, 'neighbor': {'fmt': 'math', 'data': u'|\\\\psi\\\\rangle=\\\\sum_{i_1}^{N_1}\\\\sum_{i_2}^{N_2}...\\\\sum_{i_n}^{N_n}{a_{{i_{_{1}}}{i_{_{2}}}...{i_{_{n}}}}}|e_{i_{_1}}\\\\otimese_{i_{_1}}\\\\otimes...\\\\otimese_{i_{_n}}\\\\rangle.'}}, {'similarity_score': {'data': 0.25194889307022095}, 'neighbor': {'fmt': 'math', 'data': u'\\\\mathcal{D}(A,B)=\\\\min_{\\\\sigma\\\\in\\\\Pi}\\\\sum_{i,t}d^+(A^+_i(t),B^+_{\\\\sigma_i}(t)).'}}, {'similarity_score': {'data': 0.25182977318763733}, 'neighbor': {'fmt': 'math', 'data': u'E[\\\\prod_{i=1}^nf_i(X_{t_i})g_i(Y_{t_i})h_i(W_{t_i})]=E[\\\\prod_{i=1}^nK_{0,t_i}f_i(x)K_{0,t_i}g_i(y)h_i(W_{t_i})]'}}, {'similarity_score': {'data': 0.25136905908584595}, 'neighbor': {'fmt': 'math', 'data': u'{S_{ij}}=\\\\frac{{{\\\\beta_i}}}{{n{\\\\beta_i}+1}}{\\\\rm{}}(iej),'}}, {'similarity_score': {'data': 0.2511287033557892}, 'neighbor': {'fmt': 'math', 'data': u's^{(T)}_{i}=mode(\\\\sigma^{(T-\\\\tau+1)}_{i},\\\\ldots,\\\\sigma^{(T-2)}_{i},\\\\sigma^{(T-1)}_{i},\\\\sigma^{(T)}_{i})\\\\,.'}}, {'similarity_score': {'data': 0.25105345249176025}, 'neighbor': {'fmt': 'math', 'data': u'\\\\sum_{\\\\sigma=0}^M\\\\rho_i(\\\\sigma)=1'}}, {'similarity_score': {'data': 0.2501312792301178}, 'neighbor': {'fmt': 'math', 'data': u'\\\\sum_{i=1}^{2}I_{A_{i}B_{i}}=2\\\\log_{2}d-\\\\sum_{i=1}^{2}H(q_{i}^{t}).'}}, {'similarity_score': {'data': 0.24964037537574768}, 'neighbor': {'fmt': 'math', 'data': u'i_{A,1}=F_{A}(e_{1})'}}, {'similarity_score': {'data': 0.249275803565979}, 'neighbor': {'fmt': 'math', 'data': u'p(\\\\mathbf{x_i})=\\\\frac{\\\\Gamma(\\\\mathbf{x_i},1)}{\\\\sum_{i=1}^{i=n}\\\\Gamma(\\\\mathbf{x_i},1)}.'}}, {'similarity_score': {'data': 0.24914972484111786}, 'neighbor': {'fmt': 'math', 'data': u'\\\\[\\\\Big\\\\{\\\\sum_{\\\\{x_i\\\\}\\\\inA_1}x_i,\\\\sum_{\\\\{{x_{i_1},x_{i_2}\\\\}}\\\\inA_2}x_{i_1}x_{i_2},\\\\ldots,\\\\sum_{\\\\{{x_{i_1},\\\\ldots,x_{i_d}\\\\}}\\\\inA_d}x_{i_1}\\\\cdotsx_{i_d}\\\\Big\\\\}\\\\]'}}, {'similarity_score': {'data': 0.24810706079006195}, 'neighbor': {'fmt': 'math', 'data': u'\\\\varrho_i(S,a):=\\\\frac{1}{a_i}\\\\int_{t_i+b_i}^{t_i+b_i+a_i}[X(t,s)\\\\Delta(s,S,a)-X(T,t_i)(f(t_i,\\\\overline{x}_{t_i},v_i)-f(t_i,\\\\overline{x}_{t_i},\\\\overline{u}(t_i)))]ds'}}, {'similarity_score': {'data': 0.24697963893413544}, 'neighbor': {'fmt': 'math', 'data': u'C_1(\\\\tau_i,p_i)=\\\\frac{1-\\\\tau_i}{2}\\\\log\\\\left(1+\\\\frac{p_ia_i\\\\tau_i}{1-\\\\tau_i}\\\\right),'}}, {'similarity_score': {'data': 0.2468338906764984}, 'neighbor': {'fmt': 'math', 'data': u'\\\\max_{\\\\sigma\\\\in\\\\mathfrak{S}_k}\\\\frac{\\\\frac{1}{n}\\\\sum_{i}{\\\\mathbf{1}}(\\\\sigma(\\\\hat{c}_{i})=c_{i})-\\\\frac{1}{k}}{1-\\\\frac{1}{k}}\\\\,,'}}, {'similarity_score': {'data': 0.2466796636581421}, 'neighbor': {'fmt': 'math', 'data': u'\\\\bar{u}_{\\\\lambda_i}^{(n)}(A)=u_{\\\\lambda_i}|_{K_{n}^{(i)}(\\\\lambda_i)}(e^A),'}}, {'similarity_score': {'data': 0.2465660572052002}, 'neighbor': {'fmt': 'math', 'data': u'F(\\\\omega)=\\\\sum_{i=1,2}\\\\frac{E_{i}}{4\\\\pi}\\\\frac{|\\\\gamma_{i}|}{\\\\sqrt{\\\\gamma_{i}^{2}+(\\\\omega-\\\\omega_{i})^{2}}}.'}}, {'similarity_score': {'data': 0.24627581238746643}, 'neighbor': {'fmt': 'math', 'data': u'A_{i_1,j_1}<A_{i_2,j_1}\\\\RightarrowA_{i_1,j_2}\\\\leA_{i_2,j_2}.'}}, {'similarity_score': {'data': 0.24556468427181244}, 'neighbor': {'fmt': 'math', 'data': u's^{(T)}_{i}=mode(\\\\sigma^{(T-2)}_{i},\\\\sigma^{(T-1)}_{i},\\\\sigma^{(T)}_{i})\\\\,.'}}, {'similarity_score': {'data': 0.24555107951164246}, 'neighbor': {'fmt': 'math', 'data': u'(Y_{i},Z_i):=\\\\bigl(y_i(X_{i}),z_i(X_{i})\\\\bigr).'}}, {'similarity_score': {'data': 0.24517907202243805}, 'neighbor': {'fmt': 'math', 'data': u'\\\\[\\\\Big\\\\{\\\\sum_{\\\\{x_i\\\\}\\\\inA_1}x_i,\\\\sum_{\\\\{{x_{i_1},x_{i_2}\\\\}}\\\\inA_2}x_{i_1}x_{i_2},\\\\dots,\\\\sum_{\\\\{x_{i_1},\\\\dots,x_{i_d}\\\\}\\\\inA_d}x_{i_1}\\\\cdotsx_{i_d}\\\\Big\\\\}\\\\]'}}, {'similarity_score': {'data': 0.24512755870819092}, 'neighbor': {'fmt': 'math', 'data': u'\\\\phi(x_i)=p_{i_1}(p_{i_2}\\\\cdots(p_{i_{\\\\logn}}(t))),'}}, {'similarity_score': {'data': 0.24509303271770477}, 'neighbor': {'fmt': 'math', 'data': u'\\\\begin{aligned}{\\\\mathbbS}_1=\\\\frac{\\\\sum_{i=1}^ma_i{\\\\mathbbX}_i}{\\\\sqrt{\\\\sum_{i=1}^ma_i^2}}\\\\textrm{and}{\\\\mathbbS}_2=\\\\frac{\\\\sum_{i=m+1}^na_i{\\\\mathbbX}_i}{{\\\\sqrt{\\\\sum_{i=m+1}^na_i^2}}}\\\\end{aligned}'}}, {'similarity_score': {'data': 0.2448076754808426}, 'neighbor': {'fmt': 'math', 'data': u'E_{i}-p_{i}=\\\\sqrt{p_{i}^{2}+m_{i}^{2}}-p_{i}\\\\approxm_{i}^{2}/(2p_{i})\\\\approxm_{i}^{2}/(2E_{i})\\\\,'}}, {'similarity_score': {'data': 0.24414505064487457}, 'neighbor': {'fmt': 'math', 'data': u'H=-t\\\\sum_{<i,j>,\\\\sigma}f^{\\\\dagger}_{i,\\\\sigma}f_{j,\\\\sigma}e^{i(\\\\theta_{i}-\\\\theta_{j})}+\\\\frac{U}{2}\\\\sum_{i}L^{2}_{i}.'}}, {'similarity_score': {'data': 0.24402132630348206}, 'neighbor': {'fmt': 'math', 'data': u'\\\\[\\\\rho=\\\\sum_{i=1}^np_i{\\\\ket{{i}}\\\\bra{{i}}}_C\\\\otimes\\\\sigma_E^{(i)},\\\\]'}}, {'similarity_score': {'data': 0.24391567707061768}, 'neighbor': {'fmt': 'math', 'data': u'{\\\\mathbbE}\\\\prod_{i=1}^mf_i(X_i)\\\\leq\\\\prod_{i=1}^m\\\\Big({\\\\mathbbE}f_i(X_i)^{p_i}\\\\Big)^{\\\\frac{1}{p_i}}.'}}, {'similarity_score': {'data': 0.24360260367393494}, 'neighbor': {'fmt': 'math', 'data': u'\\\\begin{aligned}\\tp(\\\\phi_{2,i}{\\\\,|\\\\,}\\\\phi_{1,i},s_{\\\\phi_2},{\\\\boldsymbol{{\\\\theta}}})&={\\\\mathcal{N}}(\\\\phi_{2,i}{\\\\,|\\\\,}\\\\widetilde{\\\\phi}_{2}(\\\\phi_{1,i}),s^2_{\\\\phi_2})\\\\\\\\\\tp({\\\\rmDM}_i{\\\\,|\\\\,}\\\\phi_{1,i},\\\\sigma_{{\\\\rmDM},i},s_{\\\\rmDM},{\\\\boldsymbol{{\\\\theta}}})&={\\\\mathcal{N}}({\\\\rmDM}_i{\\\\,|\\\\,}\\\\widetilde{{\\\\rmDM}}(\\\\phi_{1,i}),s^2_{{\\\\rmDM}}+\\\\sigma^2_{{\\\\rmDM},i})\\\\\\\\\\tp(\\\\mu_{l,i}{\\\\,|\\\\,}\\\\phi_{1,i},\\\\sigma_{\\\\mu_{l},i},{\\\\boldsymbol{{\\\\theta}}})&={\\\\mathcal{N}}(\\\\mu_{l,i}{\\\\,|\\\\,}\\\\widetilde{\\\\mu_{l}}(\\\\phi_{1,i}),\\\\sigma^2_{\\\\mu_{l,i}})\\\\\\\\\\tp(\\\\mu_{b,i}{\\\\,|\\\\,}\\\\phi_{1,i},\\\\sigma_{\\\\mu_{b},i},{\\\\boldsymbol{{\\\\theta}}})&={\\\\mathcal{N}}(\\\\mu_{b,i}{\\\\,|\\\\,}\\\\widetilde{\\\\mu_{b}}(\\\\phi_{1,i}),\\\\sigma^2_{\\\\mu_{b,i}})\\\\\\\\\\tp(v_{r,i}{\\\\,|\\\\,}\\\\phi_{1,i},\\\\sigma_{v_r,i},s_{v_r},{\\\\boldsymbol{{\\\\theta}}})&={\\\\mathcal{N}}(v_{r,i}{\\\\,|\\\\,}\\\\widetilde{v_r}(\\\\phi_{1,i}),s^2_{v_r}+\\\\sigma^2_{v_r,i}).\\\\end{aligned}'}}, {'similarity_score': {'data': 0.24350741505622864}, 'neighbor': {'fmt': 'math', 'data': u'{\\\\calH}=\\\\sum_{i=1}^{N}\\\\left[\\\\frac{{\\\\vec{p}_i}^{\\\\hspace{0.1cm}2}}{2m}+\\\\frac{m\\\\omega^2}{2}(\\\\vec{r}_{i}-\\\\vec{a}_i)^2\\\\right].'}}, {'similarity_score': {'data': 0.2432045191526413}, 'neighbor': {'fmt': 'math', 'data': u'P_i(\\\\lambda_i)=\\\\frac{(a_id_i)^{n_i-1}\\\\lambda_i^{-n_i}}{2K_i}\\\\exp\\\\left(-\\\\frac{\\\\lambda_i}{a_i}-d_i^2\\\\frac{a_i}{\\\\lambda_i}\\\\right)~,'}}, {'similarity_score': {'data': 0.24291758239269257}, 'neighbor': {'fmt': 'math', 'data': u'z(T,S,a)=\\\\sum_{i=1}^N\\\\int_{t_i+b_i}^{t_i+b_i+a_i}X(T,\\\\xi)[f(t_i,\\\\overline{x}_{t_i},v_i)-f(t_i,\\\\overline{x}_{t_i},\\\\overline{u}(t_i))]d\\\\xi.'}}, {'similarity_score': {'data': 0.24274562299251556}, 'neighbor': {'fmt': 'math', 'data': u'{\\\\mathbbE}\\\\prod_{i=1}^mf_i(X_i)\\\\geq\\\\prod_{i=1}^m\\\\Big({\\\\mathbbE}f_i(X_i)^{p_i}\\\\Big)^{\\\\frac{1}{p_i}}.'}}, {'similarity_score': {'data': 0.2422415018081665}, 'neighbor': {'fmt': 'math', 'data': u'p=\\\\{p^{(i)}\\\\}^n_{i=1}={\\\\{(x,y,z,r,g,b)^{(i)}\\\\}}^n_{i=1}'}}, {'similarity_score': {'data': 0.24209147691726685}, 'neighbor': {'fmt': 'math', 'data': u'\\\\bar{b}_{i}=M_{i}^{T}C_{i}^{-1}D_{i}[M_{i}^{T}C_{i}^{-1}M_{i}]^{-1},'}}, {'similarity_score': {'data': 0.24201296269893646}, 'neighbor': {'fmt': 'math', 'data': u'{\\\\Gamma_i}=-\\\\frac{{(n-1){\\\\beta_i}+1}}{{n{\\\\beta_i}+1}}.'}}, {'similarity_score': {'data': 0.24199005961418152}, 'neighbor': {'fmt': 'math', 'data': u'C_2(\\\\tau_i,p_i)=\\\\frac{1-\\\\tau_i}{2}\\\\log\\\\left(1+p_iy_i\\\\right),\\\\qquad'}}, {'similarity_score': {'data': 0.24184420704841614}, 'neighbor': {'fmt': 'math', 'data': u'\\\\begin{aligned}\\\\bar{A}_i=\\\\alpha_0+\\\\alpha_1\\\\,\\\\delta\\\\varepsilon_i+\\\\frac{\\\\sigma_i}{\\\\sqrt{N}}\\\\xi_i\\\\,,\\\\end{aligned}'}}, {'similarity_score': {'data': 0.24179385602474213}, 'neighbor': {'fmt': 'math', 'data': u'c_{i,\\\\sigma}=e^{-i\\\\theta}f_{i,\\\\sigma}.'}}, {'similarity_score': {'data': 0.24167555570602417}, 'neighbor': {'fmt': 'math', 'data': u'\\\\prod_{i=1}^L\\\\tau_i=\\\\prod_{i=1}^L\\\\sigma_i^2=1'}}, {'similarity_score': {'data': 0.2415464222431183}, 'neighbor': {'fmt': 'math', 'data': u'\\\\bar{a}=\\\\frac{\\\\sum_{i}W_{i}\\\\cdota_i}{\\\\sum_{i}W_i},'}}, {'similarity_score': {'data': 0.24131886661052704}, 'neighbor': {'fmt': 'math', 'data': u'\\\\sigma_{j_i,j_i}(A,B)=<M_{i}(A),M_{{i}}(B)>,\\\\sigma_{j_i,k_l}(A,C)=<M_{i}(A),M_{l}(C)>,\\\\sigma_{j_ij_i}^d=Var(X^d_{(j-1)q+i}),'}}, {'similarity_score': {'data': 0.2410033941268921}, 'neighbor': {'fmt': 'math', 'data': u'\\\\sum_{i=1}^nc(x_i,y_i)\\\\leq\\\\sum_{i=1}^nc(x_i,y_{i+1}).'}}, {'similarity_score': {'data': 0.24092388153076172}, 'neighbor': {'fmt': 'math', 'data': u'{\\\\boldsymbol{\\\\mathbf{{u}}}}\\\\text{suchthat}u_i=\\\\frac{\\\\\\\\sum_{j=1}^{s_i}x_i(p_j^{i})f(p_j^{i})}{\\\\surd\\\\sum_{i=1}^n(\\\\sum_{j=1}^{s_i}x_i(p_j^{i})f(p_j^{i}))^2}.'}}, {'similarity_score': {'data': 0.2405957132577896}, 'neighbor': {'fmt': 'math', 'data': u'\\\\begin{aligned}R_{i}=((r_{0}+\\\\frac{r_{1}}{A_{i}^{2/3}}+\\\\frac{r_{2}}{A_{i}^{4/3}})+a_{z}\\\\frac{Z_{i}-Z_{stable}}{A_{i}})A_{i}^{1/3};\\\\end{aligned}'}}, {'similarity_score': {'data': 0.24020454287528992}, 'neighbor': {'fmt': 'math', 'data': u'\\\\begin{aligned}\\\\mu_{0}^{t+1}&=\\\\frac{\\\\sum_{i}\\\\pi_{i}^{t}m_{i}^{t}}{\\\\sum_{i}\\\\pi_{i}^{t}},\\\\\\\\\\\\tau_{0}^{t+1}&=\\\\frac{1}{\\\\sum_{i}\\\\pi_{i}^{t}}\\\\underset{i}{\\\\sum}\\\\pi_{i}^{t}\\\\bigl[\\\\bigl(\\\\mu_{0}^{t}-m_{i}^{t}\\\\bigr)^{2}+V_{i}\\\\bigr].\\\\end{aligned}'}}, {'similarity_score': {'data': 0.2399909645318985}, 'neighbor': {'fmt': 'math', 'data': u'\\\\begin{multline}\\tp({\\\\boldsymbol{{x}}}_i{\\\\,|\\\\,}{\\\\boldsymbol{{\\\\sigma}}}_i,{\\\\boldsymbol{{s}}},{\\\\boldsymbol{{\\\\theta}}})=p(\\\\phi_{2,i}{\\\\,|\\\\,}\\\\phi_{1,i},s_{\\\\phi_2},{\\\\boldsymbol{{\\\\theta}}})\\\\,p({\\\\rmDM}_i{\\\\,|\\\\,}\\\\phi_{1,i},\\\\sigma_{{\\\\rmDM},i},s_{\\\\rmDM},{\\\\boldsymbol{{\\\\theta}}})\\\\\\\\\\t\\\\timesp(\\\\mu_{l,i}{\\\\,|\\\\,}\\\\phi_{1,i},\\\\sigma_{\\\\mu_{l},i},{\\\\boldsymbol{{\\\\theta}}})\\\\,p(\\\\mu_{b,i}{\\\\,|\\\\,}\\\\phi_{1,i},\\\\sigma_{\\\\mu_{b},i},{\\\\boldsymbol{{\\\\theta}}})\\\\,p(v_{r,i}{\\\\,|\\\\,}\\\\phi_{1,i},\\\\sigma_{v_r,i},s_{v_r},{\\\\boldsymbol{{\\\\theta}}}).\\\\end{multline}'}}, {'similarity_score': {'data': 0.23994848132133484}, 'neighbor': {'fmt': 'math', 'data': u\"\\\\sum_{i=1}^{n}a_i=\\\\sum_{i=1}^{n}a'_i,\"}}, {'similarity_score': {'data': 0.23935693502426147}, 'neighbor': {'fmt': 'math', 'data': u'\\\\begin{aligned}\\\\rho_i\\\\omega_i^2\\\\cos(\\\\theta_i)&=\\\\kappa_i(1-\\\\rho_i^2\\\\omega_i^2)\\\\rho_i\\\\omega_i\\\\sin(\\\\theta_i)\\\\\\\\&\\\\qquad+\\\\frac{\\\\kappa_ia}{N}\\\\sum_{j\\\\in{\\\\mathcal{{{N}}}}_i}\\\\left(\\\\rho_i\\\\cos(\\\\theta_i)-\\\\rho_i^\\\\tau\\\\cos(\\\\theta_i)^\\\\tau\\\\right)\\\\\\\\\\\\rho_i\\\\omega_i^2\\\\sin(\\\\theta_i)&=\\\\kappa_i(1-\\\\rho_i^2\\\\omega_i^2)\\\\rho_i\\\\omega_i\\\\cos(\\\\theta_i)\\\\\\\\&\\\\qquad+\\\\frac{\\\\kappa_ia}{N}\\\\sum_{j\\\\in{\\\\mathcal{{{N}}}}_i}\\\\left(\\\\rho_i\\\\sin(\\\\theta_i)-\\\\rho_i^\\\\tau\\\\sin(\\\\theta_i)^\\\\tau\\\\right).\\\\end{aligned}'}}, {'similarity_score': {'data': 0.23912158608436584}, 'neighbor': {'fmt': 'math', 'data': u'\\\\hat{\\\\mathcal{H}}_{\\\\text{NMR}}=\\\\sum_{i=1}^{N}\\\\frac{\\\\omega_{i}}{2}\\\\hat{\\\\sigma}^{z}_{i}+\\\\sum_{i<j,=1}^{N}\\\\frac{\\\\piJ_{ij}}{2}\\\\hat{\\\\sigma}^{z}_{i}\\\\hat{\\\\sigma}^{z}_{j},'}}, {'similarity_score': {'data': 0.239088237285614}, 'neighbor': {'fmt': 'math', 'data': u'B_i=G_i(T)\\\\cdotA_i(E),'}}, {'similarity_score': {'data': 0.23866994678974152}, 'neighbor': {'fmt': 'math', 'data': u'H=-J_x\\\\sum_i\\\\sigma_i^x\\\\sigma_{i+1}^x-h\\\\sum_i\\\\sigma_i^z,'}}]}\n"
     ]
    },
    {
     "name": "stderr",
     "output_type": "stream",
     "text": [
      "127.0.0.1 - - [30/Nov/2017 09:45:55] \"POST /query HTTP/1.1\" 200 21301\n"
     ]
    }
   ],
   "source": [
    "from mathviz_hopper.src.table import Table\n",
    "t = Table(q)\n",
    "t.print_ipython()\n",
    "\n",
    "# TODO: lambda function to convert each column\n",
    "# Schema:\n",
    "# also, enable non-autocomplete selections (the models should be able to handle this)\n",
    "# also, add a warning if the settings are still loading, and other notifications.\n",
    "# Data: [{Column A: {name: A, index: [], filter_func: lambda x : f(x)}} , {Column B: {name: B, index: [], filter_func: lambda x : f(x)}} "
   ]
  },
  {
   "cell_type": "code",
   "execution_count": 10,
   "metadata": {},
   "outputs": [
    {
     "name": "stdout",
     "output_type": "stream",
     "text": [
      "{'neighbors': [{'similarity_score': {'data': 0.2762615382671356}, 'neighbor': {'fmt': 'math', 'data': u'\\\\begin{aligned}\\\\min_{L,S}\\\\sum_{m=1}^{M}\\\\sum_{i=1}^{N_{m}}&\\\\frac{1}{2}[max(0,1-Y_{m}^{i}(Ls^{m})^{T}X_{m}^{i})]^{2}\\\\\\\\&+\\\\gamma\\\\|L\\\\|_{1}+\\\\lambda\\\\|L\\\\|^{2}_{F}\\\\\\\\\\\\end{aligned}'}}, {'similarity_score': {'data': 0.2758598029613495}, 'neighbor': {'fmt': 'math', 'data': u'\\\\begin{aligned}\\\\min_{L,S}\\\\sum_{m=1}^{M}\\\\sum_{i=1}^{N_{m}}&\\\\frac{1}{2}[max(0,1-Y_{m}^{i}(Ls^{m})^{T}X_{m}^{i})]^{2}\\\\\\\\&+\\\\mu\\\\sum_{k=1}^{K}\\\\sum_{g=1}^{G}\\\\|s_{k}^{g}\\\\|_{2}\\\\\\\\\\\\end{aligned}'}}, {'similarity_score': {'data': 0.2687106728553772}, 'neighbor': {'fmt': 'math', 'data': u'\\\\begin{aligned}\\\\min_{L,S}\\\\sum_{m=1}^{M}\\\\sum_{i=1}^{N_{m}}&\\\\frac{1}{2}[max(0,1-Y_{m}^{i}(Ls^{m})^{T}X_{m}^{i})]^{2}\\\\\\\\&+\\\\mu\\\\sum_{k=1}^{K}\\\\sum_{g=1}^{G}\\\\|s_{k}^{g}\\\\|_{2}+\\\\gamma\\\\|L\\\\|_{1}+\\\\lambda\\\\|L\\\\|^{2}_{F}\\\\\\\\\\\\end{aligned}'}}]}\n"
     ]
    },
    {
     "name": "stderr",
     "output_type": "stream",
     "text": [
      "127.0.0.1 - - [28/Nov/2017 14:12:21] \"POST /query HTTP/1.1\" 200 914\n"
     ]
    }
   ],
   "source": [
    "import requests\n",
    "r = requests.post('http://localhost:8081/query', json={\"query\": \"\\\\begin{equation}\\n\\\\Phi_{z}(L) = \\\\sum_{i=1}^{N} \\\\frac{1}{C_{i} \\\\times V_{\\\\rm max, i}} ,\\n\\\\label{EQ1}\\n\\\\end{equation}\\n\"})"
   ]
  },
  {
   "cell_type": "code",
   "execution_count": 11,
   "metadata": {},
   "outputs": [
    {
     "data": {
      "text/plain": [
       "{u'neighbors': [{u'neighbor': {u'data': u'\\\\begin{aligned}\\\\min_{L,S}\\\\sum_{m=1}^{M}\\\\sum_{i=1}^{N_{m}}&\\\\frac{1}{2}[max(0,1-Y_{m}^{i}(Ls^{m})^{T}X_{m}^{i})]^{2}\\\\\\\\&+\\\\gamma\\\\|L\\\\|_{1}+\\\\lambda\\\\|L\\\\|^{2}_{F}\\\\\\\\\\\\end{aligned}',\n",
       "    u'fmt': u'math'},\n",
       "   u'similarity_score': {u'data': 0.2762615382671356}},\n",
       "  {u'neighbor': {u'data': u'\\\\begin{aligned}\\\\min_{L,S}\\\\sum_{m=1}^{M}\\\\sum_{i=1}^{N_{m}}&\\\\frac{1}{2}[max(0,1-Y_{m}^{i}(Ls^{m})^{T}X_{m}^{i})]^{2}\\\\\\\\&+\\\\mu\\\\sum_{k=1}^{K}\\\\sum_{g=1}^{G}\\\\|s_{k}^{g}\\\\|_{2}\\\\\\\\\\\\end{aligned}',\n",
       "    u'fmt': u'math'},\n",
       "   u'similarity_score': {u'data': 0.2758598029613495}},\n",
       "  {u'neighbor': {u'data': u'\\\\begin{aligned}\\\\min_{L,S}\\\\sum_{m=1}^{M}\\\\sum_{i=1}^{N_{m}}&\\\\frac{1}{2}[max(0,1-Y_{m}^{i}(Ls^{m})^{T}X_{m}^{i})]^{2}\\\\\\\\&+\\\\mu\\\\sum_{k=1}^{K}\\\\sum_{g=1}^{G}\\\\|s_{k}^{g}\\\\|_{2}+\\\\gamma\\\\|L\\\\|_{1}+\\\\lambda\\\\|L\\\\|^{2}_{F}\\\\\\\\\\\\end{aligned}',\n",
       "    u'fmt': u'math'},\n",
       "   u'similarity_score': {u'data': 0.2687106728553772}}]}"
      ]
     },
     "execution_count": 11,
     "metadata": {},
     "output_type": "execute_result"
    }
   ],
   "source": [
    "r.json()"
   ]
  },
  {
   "cell_type": "code",
   "execution_count": 12,
   "metadata": {},
   "outputs": [
    {
     "name": "stderr",
     "output_type": "stream",
     "text": [
      "127.0.0.1 - - [28/Nov/2017 14:12:21] \"GET /settings HTTP/1.1\" 200 1007\n"
     ]
    }
   ],
   "source": [
    "import requests\n",
    "r = requests.get('http://localhost:8081/settings')"
   ]
  },
  {
   "cell_type": "code",
   "execution_count": 13,
   "metadata": {},
   "outputs": [
    {
     "data": {
      "text/plain": [
       "{u'columns': [{u'Header': u'neighbor', u'accessor': u'neighbor'},\n",
       "  {u'Header': u'similarity_score', u'accessor': u'similarity_score'}],\n",
       " u'docs': {u'\\\\': {u'b': {u'e': {u'g': {u'i': {u'n': {u'{': {u'a': {u'l': {u'i': {u'g': {u'n': {u'e': {u'd': {u'}': {u'\\\\': {u'm': {u'i': {u'n': {u'_': {u'{': {},\n",
       "                      u'{L,S}\\\\sum_{m=1}^{M}\\\\sum_{i=1}^{N_{m}}&\\\\frac{1}{2}[max(0,1-Y_{m}^{i}(Ls^{m})^{T}X_{m}^{i})]^{2}\\\\\\\\&+\\\\gamma\\\\|L\\\\|_{1}+\\\\lambda\\\\|L\\\\|^{2}_{F}\\\\\\\\\\\\end{aligned}': {u'full_word': 1},\n",
       "                      u'{L,S}\\\\sum_{m=1}^{M}\\\\sum_{i=1}^{N_{m}}&\\\\frac{1}{2}[max(0,1-Y_{m}^{i}(Ls^{m})^{T}X_{m}^{i})]^{2}\\\\\\\\&+\\\\mu\\\\sum_{k=1}^{K}\\\\sum_{g=1}^{G}\\\\|s_{k}^{g}\\\\|_{2}+\\\\gamma\\\\|L\\\\|_{1}+\\\\lambda\\\\|L\\\\|^{2}_{F}\\\\\\\\\\\\end{aligned}': {u'full_word': 1},\n",
       "                      u'{L,S}\\\\sum_{m=1}^{M}\\\\sum_{i=1}^{N_{m}}&\\\\frac{1}{2}[max(0,1-Y_{m}^{i}(Ls^{m})^{T}X_{m}^{i})]^{2}\\\\\\\\&+\\\\mu\\\\sum_{k=1}^{K}\\\\sum_{g=1}^{G}\\\\|s_{k}^{g}\\\\|_{2}\\\\\\\\\\\\end{aligned}': {u'full_word': 1}}}}}},\n",
       "                 u'w': {u'^': {u'{': {u'm': {u'}': {u'=': {},\n",
       "                      u'=Ls^{m}\\\\end{aligned}': {u'full_word': 1}}}}}}}}}}}}}}}}}}}}}},\n",
       " u'port': 8081}"
      ]
     },
     "execution_count": 13,
     "metadata": {},
     "output_type": "execute_result"
    }
   ],
   "source": [
    "r.json()"
   ]
  },
  {
   "cell_type": "code",
   "execution_count": 14,
   "metadata": {
    "collapsed": true
   },
   "outputs": [],
   "source": [
    "\n",
    "def insert(st, trie):\n",
    "    i = 0\n",
    "    for s in st:\n",
    "        if s not in trie.keys(): \n",
    "            trie[s] = {}\n",
    "        if i == 20:\n",
    "            break\n",
    "        trie = trie[s]\n",
    "        i+=1\n",
    "        \n",
    "    if i == 20: \n",
    "        trie[st[i:]] = {}\n",
    "        trie = trie[st[i:]]\n",
    "    trie[\"full_word\"] = 1\n",
    "        \n",
    "    \n",
    "def construct_trie(list_of_str):\n",
    "    trie = {}\n",
    "    for st in list_of_str:\n",
    "        insert(st, trie)\n",
    "    return trie\n",
    "    "
   ]
  },
  {
   "cell_type": "code",
   "execution_count": 15,
   "metadata": {},
   "outputs": [],
   "source": [
    "docs_trie = construct_trie(clean_docs)\n"
   ]
  },
  {
   "cell_type": "code",
   "execution_count": 16,
   "metadata": {
    "collapsed": true
   },
   "outputs": [],
   "source": [
    "\n",
    "opts = {\n",
    "    \"columns\": [\n",
    "            {\n",
    "                \"Header\": \"Word\",\n",
    "                \"accessor\": \"word\"\n",
    "            },\n",
    "            {\n",
    "                \"Header\": \"Similarity\",\n",
    "                \"accessor\": \"sim\"\n",
    "            }\n",
    "   ],\n",
    "    \"port\": \"8081\",\n",
    "    \"docs\": docs_trie\n",
    "}"
   ]
  },
  {
   "cell_type": "code",
   "execution_count": 17,
   "metadata": {},
   "outputs": [
    {
     "name": "stderr",
     "output_type": "stream",
     "text": [
      "127.0.0.1 - - [28/Nov/2017 14:12:21] \"GET /settings HTTP/1.1\" 200 1007\n"
     ]
    },
    {
     "ename": "IOError",
     "evalue": "[Errno 2] No such file or directory: 'mathviz_hopper/webpage/mathviz-js-components/public/settings.json'",
     "output_type": "error",
     "traceback": [
      "\u001b[0;31m---------------------------------------------------------------------------\u001b[0m",
      "\u001b[0;31mIOError\u001b[0m                                   Traceback (most recent call last)",
      "\u001b[0;32m<ipython-input-17-ec57b2304264>\u001b[0m in \u001b[0;36m<module>\u001b[0;34m()\u001b[0m\n\u001b[1;32m      1\u001b[0m \u001b[0;32mimport\u001b[0m \u001b[0mjson\u001b[0m\u001b[0;34m\u001b[0m\u001b[0m\n\u001b[0;32m----> 2\u001b[0;31m \u001b[0;32mwith\u001b[0m \u001b[0mopen\u001b[0m\u001b[0;34m(\u001b[0m\u001b[0;34m\"mathviz_hopper/webpage/mathviz-js-components/public/settings.json\"\u001b[0m\u001b[0;34m,\u001b[0m \u001b[0;34m\"w+\"\u001b[0m\u001b[0;34m)\u001b[0m \u001b[0;32mas\u001b[0m \u001b[0mf\u001b[0m\u001b[0;34m:\u001b[0m\u001b[0;34m\u001b[0m\u001b[0m\n\u001b[0m\u001b[1;32m      3\u001b[0m     \u001b[0mjson\u001b[0m\u001b[0;34m.\u001b[0m\u001b[0mdump\u001b[0m\u001b[0;34m(\u001b[0m\u001b[0mopts\u001b[0m\u001b[0;34m,\u001b[0m \u001b[0mf\u001b[0m\u001b[0;34m)\u001b[0m\u001b[0;34m\u001b[0m\u001b[0m\n",
      "\u001b[0;31mIOError\u001b[0m: [Errno 2] No such file or directory: 'mathviz_hopper/webpage/mathviz-js-components/public/settings.json'"
     ]
    },
    {
     "name": "stdout",
     "output_type": "stream",
     "text": [
      "{'neighbors': [{'similarity_score': {'data': 0.32032012939453125}, 'neighbor': {'fmt': 'math', 'data': u'\\\\begin{aligned}\\\\min_{L,S}\\\\sum_{m=1}^{M}\\\\sum_{i=1}^{N_{m}}&\\\\frac{1}{2}[max(0,1-Y_{m}^{i}(Ls^{m})^{T}X_{m}^{i})]^{2}\\\\\\\\&+\\\\mu\\\\sum_{k=1}^{K}\\\\sum_{g=1}^{G}\\\\|s_{k}^{g}\\\\|_{2}\\\\\\\\\\\\end{aligned}'}}, {'similarity_score': {'data': 0.31747668981552124}, 'neighbor': {'fmt': 'math', 'data': u'\\\\begin{aligned}\\\\min_{L,S}\\\\sum_{m=1}^{M}\\\\sum_{i=1}^{N_{m}}&\\\\frac{1}{2}[max(0,1-Y_{m}^{i}(Ls^{m})^{T}X_{m}^{i})]^{2}\\\\\\\\&+\\\\mu\\\\sum_{k=1}^{K}\\\\sum_{g=1}^{G}\\\\|s_{k}^{g}\\\\|_{2}+\\\\gamma\\\\|L\\\\|_{1}+\\\\lambda\\\\|L\\\\|^{2}_{F}\\\\\\\\\\\\end{aligned}'}}, {'similarity_score': {'data': 0.2810024917125702}, 'neighbor': {'fmt': 'math', 'data': u'\\\\begin{aligned}\\\\min_{L,S}\\\\sum_{m=1}^{M}\\\\sum_{i=1}^{N_{m}}&\\\\frac{1}{2}[max(0,1-Y_{m}^{i}(Ls^{m})^{T}X_{m}^{i})]^{2}\\\\\\\\&+\\\\gamma\\\\|L\\\\|_{1}+\\\\lambda\\\\|L\\\\|^{2}_{F}\\\\\\\\\\\\end{aligned}'}}]}\n"
     ]
    },
    {
     "name": "stderr",
     "output_type": "stream",
     "text": [
      "127.0.0.1 - - [28/Nov/2017 14:12:44] \"POST /query HTTP/1.1\" 200 916\n"
     ]
    }
   ],
   "source": [
    "import json\n",
    "with open(\"mathviz_hopper/webpage/mathviz-js-components/public/settings.json\", \"w+\") as f:\n",
    "    json.dump(opts, f)"
   ]
  },
  {
   "cell_type": "code",
   "execution_count": null,
   "metadata": {
    "collapsed": true
   },
   "outputs": [],
   "source": [
    "def word_exists(trie, word):\n",
    "    \n",
    "    for i, s in enumerate(word):        \n",
    "        if s in trie.keys(): \n",
    "            trie = trie[s]\n",
    "        else: return False\n",
    "            \n",
    "        if i == 19: \n",
    "            break\n",
    "            \n",
    "    if i == 19:\n",
    "        s = word[i+1:]\n",
    "        if s not in trie.keys(): return False\n",
    "        trie = trie[s]\n",
    "\n",
    "    return True if 'full_word' in trie.keys() else False\n",
    "        \n",
    "        "
   ]
  },
  {
   "cell_type": "code",
   "execution_count": null,
   "metadata": {
    "collapsed": true
   },
   "outputs": [],
   "source": [
    "word_exists(trie, \"fdakfkajshdfjkahsdfkjhadfdfdfdffdfdsdjkfhaskj\")"
   ]
  },
  {
   "cell_type": "code",
   "execution_count": null,
   "metadata": {
    "collapsed": true
   },
   "outputs": [],
   "source": [
    "docs = [\"\".join(eq) for eq in df[\"processed\"].tolist()]\n",
    "docs_trie = construct_trie(docs)"
   ]
  },
  {
   "cell_type": "code",
   "execution_count": null,
   "metadata": {
    "collapsed": true
   },
   "outputs": [],
   "source": []
  }
 ],
 "metadata": {
  "kernelspec": {
   "display_name": "Python 2",
   "language": "python",
   "name": "python2"
  },
  "language_info": {
   "codemirror_mode": {
    "name": "ipython",
    "version": 2
   },
   "file_extension": ".py",
   "mimetype": "text/x-python",
   "name": "python",
   "nbconvert_exporter": "python",
   "pygments_lexer": "ipython2",
   "version": "2.7.10"
  }
 },
 "nbformat": 4,
 "nbformat_minor": 2
}
