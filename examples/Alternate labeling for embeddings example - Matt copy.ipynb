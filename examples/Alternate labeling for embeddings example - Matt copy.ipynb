{
 "cells": [
  {
   "cell_type": "code",
   "execution_count": 1,
   "metadata": {},
   "outputs": [],
   "source": [
    "import pandas as pd\n",
    "import numpy as np\n",
    "from utils import read_file, tokenize_latex\n",
    "from MulticoreTSNE import MulticoreTSNE as TSNE\n"
   ]
  },
  {
   "cell_type": "code",
   "execution_count": 2,
   "metadata": {},
   "outputs": [],
   "source": [
    "import cPickle as pickle\n",
    "eq_idx = pickle.load(open('data/numbered_embeddings/eq-idx.pkl', 'rb'))\n",
    "eq_svd_embed = pickle.load(open('data/numbered_embeddings/eq-svd-embed.pkl', 'rb'))"
   ]
  },
  {
   "cell_type": "code",
   "execution_count": 7,
   "metadata": {},
   "outputs": [],
   "source": [
    "tsne = TSNE(n_jobs=4)\n",
    "Y = tsne.fit_transform(eq_svd_embed)"
   ]
  },
  {
   "cell_type": "code",
   "execution_count": 10,
   "metadata": {},
   "outputs": [
    {
     "data": {
      "text/plain": [
       "numpy.ndarray"
      ]
     },
     "execution_count": 10,
     "metadata": {},
     "output_type": "execute_result"
    }
   ],
   "source": [
    "type(Y)"
   ]
  },
  {
   "cell_type": "code",
   "execution_count": 36,
   "metadata": {},
   "outputs": [],
   "source": [
    "df_embeddings = pd.DataFrame(Y)\n",
    "df_embeddings = df_embeddings.reset_index()\n",
    "df_embeddings.columns = [\"matrix_index\", \"x\", \"y\"]"
   ]
  },
  {
   "cell_type": "code",
   "execution_count": 13,
   "metadata": {},
   "outputs": [],
   "source": [
    "import fnmatch\n",
    "import os\n",
    "def read_file_names_recursive(folder):\n",
    "    matches = []\n",
    "    for root, dirnames, filenames in os.walk(folder):\n",
    "        for filename in fnmatch.filter(filenames, '*.tex'):\n",
    "            matches.append(os.path.join(root, filename))\n",
    "    return matches"
   ]
  },
  {
   "cell_type": "code",
   "execution_count": 14,
   "metadata": {},
   "outputs": [],
   "source": [
    "fnames = read_file_names_recursive('data/numbered_embeddings/raw/')"
   ]
  },
  {
   "cell_type": "code",
   "execution_count": 15,
   "metadata": {},
   "outputs": [],
   "source": [
    "def read_files(fnames):\n",
    "    tex = {}\n",
    "    for fname in fnames:\n",
    "        f = open(fname).read()\n",
    "        name = fname.split(\"/\")[-1]\n",
    "        name = name.strip(\".tex\")\n",
    "        tex[name] = f\n",
    "    return tex"
   ]
  },
  {
   "cell_type": "code",
   "execution_count": 16,
   "metadata": {},
   "outputs": [],
   "source": [
    "tex = read_files(fnames)"
   ]
  },
  {
   "cell_type": "code",
   "execution_count": 18,
   "metadata": {},
   "outputs": [],
   "source": [
    "tex_df = pd.DataFrame.from_dict(tex, orient=\"index\")\n",
    "tex_df = tex_df.reset_index()\n",
    "tex_df.columns = [\"eq_id\", \"tex\"]\n",
    "\n",
    "eq_idx_df = pd.DataFrame(eq_idx).reset_index()\n",
    "eq_idx_df.columns = [\"matrix_index\", \"eq_id\"]\n",
    "\n",
    "all_data = pd.merge(tex_df, eq_idx_df, on = \"eq_id\")"
   ]
  },
  {
   "cell_type": "code",
   "execution_count": 45,
   "metadata": {},
   "outputs": [],
   "source": [
    "all_data_tsne = pd.merge(all_data, df_embeddings, on = \"matrix_index\")"
   ]
  },
  {
   "cell_type": "code",
   "execution_count": 49,
   "metadata": {},
   "outputs": [],
   "source": [
    "all_data_tsne.set_index(\"matrix_index\").to_json(\"tnse_embeddings_dev.json\", orient = \"index\")"
   ]
  },
  {
   "cell_type": "code",
   "execution_count": 23,
   "metadata": {},
   "outputs": [],
   "source": [
    "class Query:\n",
    "    def __init__(self, term_matrix, docs, docs_dict, dictionary, cols, k):\n",
    "        self.term_matrix = term_matrix\n",
    "        self.docs = docs\n",
    "        self.docs_dict = docs_dict\n",
    "        self.dictionary = dictionary\n",
    "        self.columns = cols\n",
    "        self.k = k\n",
    "        \n",
    "    def _get_terms(self, vals):\n",
    "        terms = []\n",
    "        for i, v in vals:\n",
    "            print i\n",
    "            print v\n",
    "            try:\n",
    "                term = self.docs_dict[i]\n",
    "                term[\"sim\"] = v\n",
    "                terms.append(term)\n",
    "            except:\n",
    "                print \"couldn't find\"\n",
    "        return terms\n",
    "    def query(self, query):\n",
    "        idx = self.dictionary[query][\"matrix_index\"]\n",
    "        vec = self.term_matrix[idx]\n",
    "        \n",
    "        idc, vals = self._vectorized_query(self.term_matrix, vec, self.k)\n",
    "        \n",
    "        zipped_vals= zip(idc, vals)\n",
    "        vals = sorted(zipped_vals, key = lambda x: x[1])\n",
    "        terms = self._get_terms(vals[:self.k])\n",
    "        \n",
    "        neighbors = {\"neighbors\":[{\"Equation Number\": {\"data\": t[\"eq_id\"]}, \n",
    "                                   \"Equation\": {\"data\": t[\"tex\"], \"fmt\": \"math\"}, \n",
    "                                   \"Similarity\": {\"data\": t[\"sim\"]}} for t in terms]} if terms else {\"neighbors\": []}\n",
    "        return neighbors\n",
    "    \n",
    "    def _vectorized_query(self, term_matrix, word_vector, k):\n",
    "        dots = np.dot(term_matrix, word_vector)\n",
    "        l2norms = np.sqrt(((term_matrix**2).sum(1)[:,None])*((word_vector**2).sum(0)))\n",
    "        cosine_dists = 1 - (dots[:,None]/l2norms)\n",
    "        cosine_dists = cosine_dists.reshape(dots.shape)\n",
    "        idx = np.argpartition(cosine_dists, k)\n",
    "        vals = cosine_dists[idx[:k]]\n",
    "        return list(idx[:k].flatten()), list(vals.flatten())"
   ]
  },
  {
   "cell_type": "code",
   "execution_count": 9,
   "metadata": {},
   "outputs": [],
   "source": [
    "dictionary = all_data.set_index(\"eq_id\").to_dict(orient=\"index\")\n",
    "docs_dict = all_data.set_index(\"matrix_index\").to_dict(orient=\"index\")\n",
    "docs = all_data[\"eq_id\"].values\n",
    "q = Query(eq_svd_embed, docs, docs_dict, dictionary, [\"Equation Number\", \"Equation\", \"Similarity\"], 20)"
   ]
  },
  {
   "cell_type": "code",
   "execution_count": 10,
   "metadata": {},
   "outputs": [],
   "source": [
    "# example to test the query class\n",
    "# q.query(\"34.4.E1\")"
   ]
  },
  {
   "cell_type": "code",
   "execution_count": 11,
   "metadata": {
    "scrolled": false
   },
   "outputs": [
    {
     "name": "stderr",
     "output_type": "stream",
     "text": [
      "Bottle v0.13-dev server starting up (using MyWSGIRefServer())...\n",
      "Listening on http://localhost:8082/\n",
      "Hit Ctrl-C to quit.\n",
      "\n"
     ]
    },
    {
     "data": {
      "text/html": [
       "<!DOCTYPE html><html lang=\"en\"><head><meta charset=\"utf-8\"><meta name=\"viewport\" content=\"width=device-width,initial-scale=1,shrink-to-fit=no\"><meta name=\"theme-color\" content=\"#000000\"><link rel=\"manifest\" href=\"./viz/manifest.json\"><link rel=\"stylesheet\" href=\"./viz/katex.css\"><script>window.SERVER_ADDRESS=\"http://localhost:8082\"</script><title>React App</title><link href=\"./viz/static/css/main.2d3f6c1d.css\" rel=\"stylesheet\"></head><body><noscript>You need to enable JavaScript to run this app.</noscript><div id=\"root\"></div><script type=\"text/javascript\" src=\"./viz/static/js/main.b0e89250.js\"></script></body></html>"
      ],
      "text/plain": [
       "<IPython.core.display.HTML object>"
      ]
     },
     "metadata": {},
     "output_type": "display_data"
    },
    {
     "name": "stderr",
     "output_type": "stream",
     "text": [
      "127.0.0.1 - - [30/Nov/2017 14:35:37] \"GET /settings HTTP/1.1\" 200 66552\n"
     ]
    },
    {
     "name": "stdout",
     "output_type": "stream",
     "text": [
      "1940\n",
      "2.22044604925e-16\n",
      "9757\n",
      "0.242520940229\n",
      "couldn't find\n",
      "6014\n",
      "0.293176570681\n",
      "9607\n",
      "0.323091544838\n",
      "couldn't find\n",
      "9751\n",
      "0.326740846326\n",
      "couldn't find\n",
      "9628\n",
      "0.328974937774\n",
      "couldn't find\n",
      "6044\n",
      "0.358224020396\n",
      "160\n",
      "0.372227817294\n",
      "couldn't find\n",
      "2933\n",
      "0.375386893327\n",
      "couldn't find\n",
      "3050\n",
      "0.386785411577\n",
      "couldn't find\n",
      "2957\n",
      "0.390718633748\n",
      "couldn't find\n",
      "9638\n",
      "0.391783308004\n",
      "couldn't find\n",
      "9619\n",
      "0.414696348145\n",
      "couldn't find\n",
      "9643\n",
      "0.417240847909\n",
      "couldn't find\n",
      "9630\n",
      "0.422801293442\n",
      "couldn't find\n",
      "1953\n",
      "0.439818573342\n",
      "1376\n",
      "0.441832376911\n",
      "couldn't find\n",
      "2367\n",
      "0.44388785208\n",
      "9608\n",
      "0.44582946706\n",
      "couldn't find\n",
      "6109\n",
      "0.453595860428\n"
     ]
    },
    {
     "name": "stderr",
     "output_type": "stream",
     "text": [
      "127.0.0.1 - - [30/Nov/2017 14:36:53] \"POST /query HTTP/1.1\" 200 1344\n"
     ]
    },
    {
     "name": "stdout",
     "output_type": "stream",
     "text": [
      "1935\n",
      "-2.22044604925e-16\n",
      "1909\n",
      "0.238906299084\n",
      "1939\n",
      "0.249774933412\n",
      "1921\n",
      "0.407510533003\n",
      "1916\n",
      "0.480905458775\n",
      "1938\n",
      "0.499298593425\n",
      "1925\n",
      "0.506173849835\n",
      "1922\n",
      "0.506494255391\n",
      "1907\n",
      "0.559306015947\n",
      "1905\n",
      "0.616536069529\n",
      "9286\n",
      "0.621120431949\n",
      "couldn't find\n",
      "1926\n",
      "0.635947554754\n",
      "1915\n",
      "0.640381115758\n",
      "8477\n",
      "0.643421881434\n",
      "couldn't find\n",
      "1547\n",
      "0.650526518799\n",
      "couldn't find\n",
      "8145\n",
      "0.657087954521\n",
      "couldn't find\n",
      "7414\n",
      "0.666379917974\n",
      "couldn't find\n",
      "1910\n",
      "0.670100640646\n",
      "1952\n",
      "0.671222635974\n",
      "1533\n",
      "0.671498512588\n",
      "couldn't find\n"
     ]
    },
    {
     "name": "stderr",
     "output_type": "stream",
     "text": [
      "127.0.0.1 - - [30/Nov/2017 14:37:23] \"POST /query HTTP/1.1\" 200 6796\n"
     ]
    }
   ],
   "source": [
    "from mathviz_hopper.src.table import Table\n",
    "t = Table(q, 8082)\n",
    "t.print_ipython()"
   ]
  },
  {
   "cell_type": "code",
   "execution_count": null,
   "metadata": {},
   "outputs": [],
   "source": []
  }
 ],
 "metadata": {
  "kernelspec": {
   "display_name": "Python 2",
   "language": "python",
   "name": "python2"
  },
  "language_info": {
   "codemirror_mode": {
    "name": "ipython",
    "version": 2
   },
   "file_extension": ".py",
   "mimetype": "text/x-python",
   "name": "python",
   "nbconvert_exporter": "python",
   "pygments_lexer": "ipython2",
   "version": "2.7.10"
  }
 },
 "nbformat": 4,
 "nbformat_minor": 2
}
