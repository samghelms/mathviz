{
 "cells": [
  {
   "cell_type": "code",
   "execution_count": 1,
   "metadata": {},
   "outputs": [
    {
     "name": "stderr",
     "output_type": "stream",
     "text": [
      "2017-11-04 15:51:46,465 : INFO : adding document #0 to Dictionary(0 unique tokens: [])\n",
      "2017-11-04 15:51:46,466 : INFO : built Dictionary(7 unique tokens: [u'vini', u'brown', u'vici', u'fox', u'small']...) from 2 documents (total 7 corpus positions)\n",
      "2017-11-04 15:51:46,468 : WARNING : scanning corpus to determine the number of features (consider setting `num_features` explicitly)\n",
      "2017-11-04 15:51:46,471 : INFO : creating matrix with 2 documents and 7 features\n"
     ]
    },
    {
     "name": "stdout",
     "output_type": "stream",
     "text": [
      "[[(0, 1), (1, 1), (2, 1), (3, 1)], [(4, 1), (5, 1), (6, 1)]]\n"
     ]
    }
   ],
   "source": [
    "from gensim import corpora, similarities\n",
    "import logging\n",
    "logging.basicConfig(format='%(asctime)s : %(levelname)s : %(message)s', level=logging.INFO)\n",
    "\n",
    "docs = [\"the small brown fox\", \"veni vini vici\"]\n",
    "docs = [d.split(\" \") for d in docs]\n",
    "dictionary = corpora.Dictionary(docs)\n",
    "\n",
    "corpus = [dictionary.doc2bow(doc) for doc in docs]\n",
    "# our vector space model\n",
    "print(corpus)\n",
    "\n",
    "index = similarities.MatrixSimilarity(corpus)"
   ]
  },
  {
   "cell_type": "code",
   "execution_count": 2,
   "metadata": {},
   "outputs": [
    {
     "data": {
      "text/plain": [
       "[(0, 0.70710677), (1, 0.0)]"
      ]
     },
     "execution_count": 2,
     "metadata": {},
     "output_type": "execute_result"
    }
   ],
   "source": [
    "sims = index[dictionary.doc2bow([\"brown\", \"small\"])]\n",
    "sims = sorted(enumerate(sims), key=lambda item: -item[1])\n",
    "sims"
   ]
  },
  {
   "cell_type": "code",
   "execution_count": 3,
   "metadata": {},
   "outputs": [
    {
     "data": {
      "text/plain": [
       "[(0, 1), (1, 1)]"
      ]
     },
     "execution_count": 3,
     "metadata": {},
     "output_type": "execute_result"
    }
   ],
   "source": [
    "dictionary.doc2bow([\"brown\", \"small\"])"
   ]
  },
  {
   "cell_type": "code",
   "execution_count": 4,
   "metadata": {},
   "outputs": [],
   "source": [
    "from mathviz_hopper.src.table import Table \n",
    "t = Table(index)\n"
   ]
  },
  {
   "cell_type": "code",
   "execution_count": 5,
   "metadata": {},
   "outputs": [
    {
     "name": "stdout",
     "output_type": "stream",
     "text": [
      "listening\n"
     ]
    }
   ],
   "source": [
    "t.print_html()"
   ]
  },
  {
   "cell_type": "code",
   "execution_count": 6,
   "metadata": {},
   "outputs": [
    {
     "name": "stdout",
     "output_type": "stream",
     "text": [
      "{u'query_vec': [[0, 1], [1, 1]]}\n",
      "[ 0.70710677  0.        ]\n"
     ]
    },
    {
     "name": "stderr",
     "output_type": "stream",
     "text": [
      "127.0.0.1 - - [04/Nov/2017 15:51:46] \"POST / HTTP/1.1\" 200 -\n"
     ]
    },
    {
     "name": "stdout",
     "output_type": "stream",
     "text": [
      "{'neighbors': [{'row_index': 0, 'similarity_score': 0.7071067690849304}, {'row_index': 1, 'similarity_score': 0.0}]}\n"
     ]
    }
   ],
   "source": [
    "import requests\n",
    "r = requests.post('http://localhost:8082', json={\"query_vec\": [(0, 1), (1, 1)]})"
   ]
  },
  {
   "cell_type": "code",
   "execution_count": 7,
   "metadata": {},
   "outputs": [
    {
     "data": {
      "text/plain": [
       "'{\"neighbors\": [{\"row_index\": 0, \"similarity_score\": 0.7071067690849304}, {\"row_index\": 1, \"similarity_score\": 0.0}]}'"
      ]
     },
     "execution_count": 7,
     "metadata": {},
     "output_type": "execute_result"
    }
   ],
   "source": [
    "import json\n",
    "json.dumps(r.json())"
   ]
  },
  {
   "cell_type": "code",
   "execution_count": null,
   "metadata": {},
   "outputs": [],
   "source": []
  }
 ],
 "metadata": {
  "kernelspec": {
   "display_name": "Python 2",
   "language": "python",
   "name": "python2"
  },
  "language_info": {
   "codemirror_mode": {
    "name": "ipython",
    "version": 2
   },
   "file_extension": ".py",
   "mimetype": "text/x-python",
   "name": "python",
   "nbconvert_exporter": "python",
   "pygments_lexer": "ipython2",
   "version": "2.7.10"
  }
 },
 "nbformat": 4,
 "nbformat_minor": 2
}
