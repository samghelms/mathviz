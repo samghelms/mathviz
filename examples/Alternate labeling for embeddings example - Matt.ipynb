{
 "cells": [
  {
   "cell_type": "code",
   "execution_count": 1,
   "metadata": {},
   "outputs": [],
   "source": [
    "import pandas as pd\n",
    "import numpy as np\n",
    "from utils import read_file, tokenize_latex"
   ]
  },
  {
   "cell_type": "code",
   "execution_count": 2,
   "metadata": {},
   "outputs": [],
   "source": [
    "import cPickle as pickle\n",
    "eq_idx = pickle.load(open('data/numbered_embeddings/eq-idx.pkl', 'rb'))\n",
    "eq_svd_embed = pickle.load(open('data/numbered_embeddings/eq-svd-embed.pkl', 'rb'))"
   ]
  },
  {
   "cell_type": "code",
   "execution_count": 3,
   "metadata": {},
   "outputs": [],
   "source": [
    "import fnmatch\n",
    "import os\n",
    "def read_file_names_recursive(folder):\n",
    "    matches = []\n",
    "    for root, dirnames, filenames in os.walk(folder):\n",
    "        for filename in fnmatch.filter(filenames, '*.tex'):\n",
    "            matches.append(os.path.join(root, filename))\n",
    "    return matches"
   ]
  },
  {
   "cell_type": "code",
   "execution_count": 4,
   "metadata": {},
   "outputs": [],
   "source": [
    "fnames = read_file_names_recursive('data/numbered_embeddings/raw/')"
   ]
  },
  {
   "cell_type": "code",
   "execution_count": 5,
   "metadata": {},
   "outputs": [],
   "source": [
    "def read_files(fnames):\n",
    "    tex = {}\n",
    "    for fname in fnames:\n",
    "        f = open(fname).read()\n",
    "        name = fname.split(\"/\")[-1]\n",
    "        name = name.strip(\".tex\")\n",
    "        tex[name] = f\n",
    "    return tex"
   ]
  },
  {
   "cell_type": "code",
   "execution_count": 6,
   "metadata": {},
   "outputs": [],
   "source": [
    "tex = read_files(fnames)"
   ]
  },
  {
   "cell_type": "code",
   "execution_count": 8,
   "metadata": {},
   "outputs": [],
   "source": [
    "tex_df = pd.DataFrame.from_dict(tex, orient=\"index\")\n",
    "tex_df = tex_df.reset_index()\n",
    "tex_df.columns = [\"eq_id\", \"tex\"]\n",
    "\n",
    "eq_idx_df = pd.DataFrame(eq_idx).reset_index()\n",
    "eq_idx_df.columns = [\"matrix_index\", \"eq_id\"]\n",
    "\n",
    "all_data = pd.merge(tex_df, eq_idx_df, on = \"eq_id\")"
   ]
  },
  {
   "cell_type": "code",
   "execution_count": 9,
   "metadata": {},
   "outputs": [],
   "source": [
    "class Query:\n",
    "    def __init__(self, term_matrix, docs, docs_dict, dictionary, cols, k):\n",
    "        self.term_matrix = term_matrix\n",
    "        self.docs = docs\n",
    "        self.docs_dict = docs_dict\n",
    "        self.dictionary = dictionary\n",
    "        self.columns = cols\n",
    "        self.k = k\n",
    "        \n",
    "    def _get_terms(self, vals):\n",
    "        terms = []\n",
    "        for i, v in vals:\n",
    "            print i\n",
    "            print v\n",
    "            try:\n",
    "                term = self.docs_dict[i]\n",
    "                term[\"sim\"] = v\n",
    "                terms.append(term)\n",
    "            except:\n",
    "                print \"couldn't find\"\n",
    "        return terms\n",
    "    def query(self, query):\n",
    "        idx = self.dictionary[query][\"matrix_index\"]\n",
    "        vec = self.term_matrix[idx]\n",
    "        \n",
    "        idc, vals = self._vectorized_query(self.term_matrix, vec, self.k)\n",
    "        \n",
    "        zipped_vals= zip(idc, vals)\n",
    "        vals = sorted(zipped_vals, key = lambda x: x[1])\n",
    "        terms = self._get_terms(vals[:self.k])\n",
    "        \n",
    "        neighbors = {\"neighbors\":[{\"Equation Number\": {\"data\": t[\"eq_id\"]}, \n",
    "                                   \"Equation\": {\"data\": t[\"tex\"], \"fmt\": \"math\"}, \n",
    "                                   \"Similarity\": {\"data\": t[\"sim\"]}} for t in terms]} if terms else {\"neighbors\": []}\n",
    "        return neighbors\n",
    "    \n",
    "    def _vectorized_query(self, term_matrix, word_vector, k):\n",
    "        dots = np.dot(term_matrix, word_vector)\n",
    "        l2norms = np.sqrt(((term_matrix**2).sum(1)[:,None])*((word_vector**2).sum(0)))\n",
    "        cosine_dists = 1 - (dots[:,None]/l2norms)\n",
    "        cosine_dists = cosine_dists.reshape(dots.shape)\n",
    "        idx = np.argpartition(cosine_dists, k)\n",
    "        vals = cosine_dists[idx[:k]]\n",
    "        return list(idx[:k].flatten()), list(vals.flatten())"
   ]
  },
  {
   "cell_type": "code",
   "execution_count": 11,
   "metadata": {},
   "outputs": [],
   "source": [
    "dictionary = all_data.set_index(\"eq_id\").to_dict(orient=\"index\")\n",
    "docs_dict = all_data.set_index(\"matrix_index\").to_dict(orient=\"index\")\n",
    "docs = all_data[\"eq_id\"].values\n",
    "q = Query(eq_svd_embed, docs, docs_dict, dictionary, [\"Equation Number\", \"Equation\", \"Similarity\"], 20)"
   ]
  },
  {
   "cell_type": "code",
   "execution_count": 13,
   "metadata": {},
   "outputs": [
    {
     "name": "stdout",
     "output_type": "stream",
     "text": [
      "1903\n",
      "-2.22044604925e-16\n",
      "1964\n",
      "0.0210971188021\n",
      "1948\n",
      "0.268002445877\n",
      "1963\n",
      "0.420839909388\n",
      "1951\n",
      "0.433733005577\n",
      "1960\n",
      "0.448092056264\n",
      "1906\n",
      "0.493639021766\n",
      "1914\n",
      "0.509739864248\n",
      "1962\n",
      "0.523163178191\n",
      "1956\n",
      "0.531895432868\n",
      "1911\n",
      "0.562738061451\n",
      "1908\n",
      "0.563731774396\n",
      "1927\n",
      "0.599017938176\n",
      "1905\n",
      "0.619401755963\n",
      "1912\n",
      "0.620847878529\n",
      "1942\n",
      "0.642720042712\n",
      "9387\n",
      "0.653925401092\n",
      "couldn't find\n",
      "1945\n",
      "0.660732612001\n",
      "1957\n",
      "0.661001793891\n",
      "9385\n",
      "0.663568084146\n",
      "couldn't find\n"
     ]
    },
    {
     "data": {
      "text/plain": [
       "{'neighbors': [{'Equation': {'data': '\\\\[\\\\begin{Bmatrix}j_{1}&j_{2}&j_{3}\\\\\\\\\\nl_{1}&l_{2}&l_{3}\\\\end{Bmatrix}=\\\\sum_{m_{r}m^{\\\\prime}_{s}}(-1)^{l_{1}+m^{\\\\prime%\\n}_{1}+l_{2}+m^{\\\\prime}_{2}+l_{3}+m^{\\\\prime}_{3}}\\\\*\\\\begin{pmatrix}j_{1}&j_{2}&j%\\n_{3}\\\\\\\\\\nm_{1}&m_{2}&m_{3}\\\\end{pmatrix}\\\\begin{pmatrix}j_{1}&l_{2}&l_{3}\\\\\\\\\\nm_{1}&m^{\\\\prime}_{2}&-m^{\\\\prime}_{3}\\\\end{pmatrix}\\\\begin{pmatrix}l_{1}&j_{2}&l_%\\n{3}\\\\\\\\\\n-m^{\\\\prime}_{1}&m_{2}&m^{\\\\prime}_{3}\\\\end{pmatrix}\\\\begin{pmatrix}l_{1}&l_{2}&j_%\\n{3}\\\\\\\\\\nm^{\\\\prime}_{1}&-m^{\\\\prime}_{2}&m_{3}\\\\end{pmatrix},\\\\]',\n",
       "    'fmt': 'math'},\n",
       "   'Equation Number': {'data': '34.4.E1'},\n",
       "   'Similarity': {'data': -2.2204460492503131e-16}},\n",
       "  {'Equation': {'data': '\\\\[\\\\begin{pmatrix}j_{1}&j_{2}&j_{3}\\\\\\\\\\nm_{1}&m_{2}&m_{3}\\\\end{pmatrix}\\\\begin{Bmatrix}j_{1}&j_{2}&j_{3}\\\\\\\\\\nl_{1}&l_{2}&l_{3}\\\\end{Bmatrix}=\\\\sum_{m^{\\\\prime}_{1}m^{\\\\prime}_{2}m^{\\\\prime}_{3%\\n}}(-1)^{l_{1}+l_{2}+l_{3}+m^{\\\\prime}_{1}+m^{\\\\prime}_{2}+m^{\\\\prime}_{3}}\\\\begin{%\\npmatrix}j_{1}&l_{2}&l_{3}\\\\\\\\\\nm_{1}&m^{\\\\prime}_{2}&-m^{\\\\prime}_{3}\\\\end{pmatrix}\\\\begin{pmatrix}l_{1}&j_{2}&l_%\\n{3}\\\\\\\\\\n-m^{\\\\prime}_{1}&m_{2}&m^{\\\\prime}_{3}\\\\end{pmatrix}\\\\begin{pmatrix}l_{1}&l_{2}&j_%\\n{3}\\\\\\\\\\nm^{\\\\prime}_{1}&-m^{\\\\prime}_{2}&m_{3}\\\\end{pmatrix}.\\\\]',\n",
       "    'fmt': 'math'},\n",
       "   'Equation Number': {'data': '34.5.E23'},\n",
       "   'Similarity': {'data': 0.021097118802117953}},\n",
       "  {'Equation': {'data': '\\\\[\\\\sum_{j_{3}}(2j_{3}+1)(2l_{3}+1)\\\\begin{Bmatrix}j_{1}&j_{2}&j_{3}\\\\\\\\\\nl_{1}&l_{2}&l_{3}\\\\end{Bmatrix}\\\\begin{Bmatrix}j_{1}&j_{2}&j_{3}\\\\\\\\\\nl_{1}&l_{2}&l^{\\\\prime}_{3}\\\\end{Bmatrix}=\\\\delta_{l_{3},l^{\\\\prime}_{3}}.\\\\]',\n",
       "    'fmt': 'math'},\n",
       "   'Equation Number': {'data': '34.5.E14'},\n",
       "   'Similarity': {'data': 0.26800244587659605}},\n",
       "  {'Equation': {'data': '\\\\[(-1)^{j_{1}+j_{2}+j_{3}+j_{1}^{\\\\prime}+j_{2}^{\\\\prime}+l_{1}+l_{2}}\\\\begin{%\\nBmatrix}j_{1}&j_{2}&j_{3}\\\\\\\\\\nl_{1}&l_{2}&l_{3}\\\\end{Bmatrix}\\\\begin{Bmatrix}j_{1}^{\\\\prime}&j_{2}^{\\\\prime}&j_{%\\n3}\\\\\\\\\\nl_{1}&l_{2}&l_{3}^{\\\\prime}\\\\end{Bmatrix}=\\\\sum_{j}(-1)^{l_{3}+l_{3}^{\\\\prime}+j}(%\\n2j+1)\\\\begin{Bmatrix}j_{1}&j_{1}^{\\\\prime}&j\\\\\\\\\\nj_{2}^{\\\\prime}&j_{2}&j_{3}\\\\end{Bmatrix}\\\\begin{Bmatrix}l_{3}&l_{3}^{\\\\prime}&j\\\\\\\\\\nj_{1}^{\\\\prime}&j_{1}&l_{2}\\\\end{Bmatrix}\\\\begin{Bmatrix}l_{3}&l_{3}^{\\\\prime}&j\\\\\\\\\\nj_{2}^{\\\\prime}&j_{2}&l_{1}\\\\end{Bmatrix}.\\\\]',\n",
       "    'fmt': 'math'},\n",
       "   'Equation Number': {'data': '34.5.E16'},\n",
       "   'Similarity': {'data': 0.42083990938811777}},\n",
       "  {'Equation': {'data': '\\\\[\\\\begin{Bmatrix}j_{1}&j_{2}&j_{3}\\\\\\\\\\nl_{1}&l_{2}&l_{3}\\\\end{Bmatrix}=\\\\begin{Bmatrix}j_{1}&\\\\frac{1}{2}(j_{2}+l_{2}+j_%\\n{3}-l_{3})&\\\\frac{1}{2}(j_{2}-l_{2}+j_{3}+l_{3})\\\\\\\\\\nl_{1}&\\\\frac{1}{2}(j_{2}+l_{2}-j_{3}+l_{3})&\\\\frac{1}{2}(-j_{2}+l_{2}+j_{3}+l_{3%\\n})\\\\end{Bmatrix},\\\\]',\n",
       "    'fmt': 'math'},\n",
       "   'Equation Number': {'data': '34.5.E9'},\n",
       "   'Similarity': {'data': 0.43373300557738348}},\n",
       "  {'Equation': {'data': '\\\\[\\\\begin{Bmatrix}j_{1}&j_{2}&j_{3}\\\\\\\\\\nl_{1}&l_{2}&l_{3}\\\\end{Bmatrix}=\\\\begin{Bmatrix}j_{2}&j_{1}&j_{3}\\\\\\\\\\nl_{2}&l_{1}&l_{3}\\\\end{Bmatrix}=\\\\begin{Bmatrix}j_{1}&l_{2}&l_{3}\\\\\\\\\\nl_{1}&j_{2}&j_{3}\\\\end{Bmatrix}.\\\\]',\n",
       "    'fmt': 'math'},\n",
       "   'Equation Number': {'data': '34.5.E8'},\n",
       "   'Similarity': {'data': 0.44809205626351833}},\n",
       "  {'Equation': {'data': '\\\\[\\\\sum_{m_{1}m_{2}}(2j_{3}+1)\\\\begin{pmatrix}j_{1}&j_{2}&j_{3}\\\\\\\\\\nm_{1}&m_{2}&m_{3}\\\\end{pmatrix}\\\\begin{pmatrix}j_{1}&j_{2}&j^{\\\\prime}_{3}\\\\\\\\\\nm_{1}&m_{2}&m^{\\\\prime}_{3}\\\\end{pmatrix}=\\\\delta_{j_{3},j^{\\\\prime}_{3}}\\\\delta_{m%\\n_{3},m^{\\\\prime}_{3}},\\\\]',\n",
       "    'fmt': 'math'},\n",
       "   'Equation Number': {'data': '34.3.E16'},\n",
       "   'Similarity': {'data': 0.49363902176559438}},\n",
       "  {'Equation': {'data': '\\\\[\\\\sum_{j_{3}m_{3}}(2j_{3}+1)\\\\begin{pmatrix}j_{1}&j_{2}&j_{3}\\\\\\\\\\nm_{1}&m_{2}&m_{3}\\\\end{pmatrix}\\\\begin{pmatrix}j_{1}&j_{2}&j_{3}\\\\\\\\\\nm^{\\\\prime}_{1}&m^{\\\\prime}_{2}&m_{3}\\\\end{pmatrix}=\\\\delta_{m_{1},m^{\\\\prime}_{1}}%\\n\\\\delta_{m_{2},m^{\\\\prime}_{2}},\\\\]',\n",
       "    'fmt': 'math'},\n",
       "   'Equation Number': {'data': '34.3.E17'},\n",
       "   'Similarity': {'data': 0.50973986424765116}},\n",
       "  {'Equation': {'data': '\\\\[{(2j_{1}+1)\\\\left((J_{3}+J_{2}-J_{1})(L_{3}+L_{2}-J_{1})-2(J_{3}L_{3}+J_{2}L_{2%\\n}-J_{1}L_{1})\\\\right)\\\\begin{Bmatrix}j_{1}&j_{2}&j_{3}\\\\\\\\\\nl_{1}&l_{2}&l_{3}\\\\end{Bmatrix}}\\\\\\\\\\n=j_{1}E(j_{1}+1)\\\\begin{Bmatrix}j_{1}+1&j_{2}&j_{3}\\\\\\\\\\nl_{1}&l_{2}&l_{3}\\\\end{Bmatrix}+(j_{1}+1)E(j_{1})\\\\begin{Bmatrix}j_{1}-1&j_{2}&j%\\n_{3}\\\\\\\\\\nl_{1}&l_{2}&l_{3}\\\\end{Bmatrix},\\\\]',\n",
       "    'fmt': 'math'},\n",
       "   'Equation Number': {'data': '34.5.E11'},\n",
       "   'Similarity': {'data': 0.52316317819077174}},\n",
       "  {'Equation': {'data': '\\\\[\\\\begin{Bmatrix}j_{1}&j_{2}&j_{3}\\\\\\\\\\nl_{1}&l_{2}&l_{3}\\\\end{Bmatrix}=\\\\begin{Bmatrix}\\\\frac{1}{2}(j_{2}+l_{2}+j_{3}-l_%\\n{3})&\\\\frac{1}{2}(j_{1}-l_{1}+j_{3}+l_{3})&\\\\frac{1}{2}(j_{1}+l_{1}+j_{2}-l_{2})%\\n\\\\\\\\\\n\\\\frac{1}{2}(j_{2}+l_{2}-j_{3}+l_{3})&\\\\frac{1}{2}(-j_{1}+l_{1}+j_{3}+l_{3})&%\\n\\\\frac{1}{2}(j_{1}+l_{1}-j_{2}+l_{2})\\\\end{Bmatrix}.\\\\]',\n",
       "    'fmt': 'math'},\n",
       "   'Equation Number': {'data': '34.5.E10'},\n",
       "   'Similarity': {'data': 0.53189543286750529}},\n",
       "  {'Equation': {'data': '\\\\[\\\\int_{0}^{2\\\\pi}\\\\!\\\\int_{0}^{\\\\pi}\\\\mathop{Y_{{l_{1}},{m_{1}}}\\\\/}\\\\nolimits\\\\!\\\\left(%\\n\\\\theta,\\\\phi\\\\right)\\\\mathop{Y_{{l_{2}},{m_{2}}}\\\\/}\\\\nolimits\\\\!\\\\left(\\\\theta,\\\\phi%\\n\\\\right)\\\\mathop{Y_{{l_{3}},{m_{3}}}\\\\/}\\\\nolimits\\\\!\\\\left(\\\\theta,\\\\phi\\\\right)%\\n\\\\mathop{\\\\sin\\\\/}\\\\nolimits\\\\theta d\\\\theta d\\\\phi=\\\\left(\\\\frac{(2l_{1}+1)(2l_{2}+1)(%\\n2l_{3}+1)}{4\\\\pi}\\\\right)^{\\\\frac{1}{2}}\\\\begin{pmatrix}l_{1}&l_{2}&l_{3}\\\\\\\\\\n0&0&0\\\\end{pmatrix}\\\\begin{pmatrix}l_{1}&l_{2}&l_{3}\\\\\\\\\\nm_{1}&m_{2}&m_{3}\\\\end{pmatrix}.\\\\]',\n",
       "    'fmt': 'math'},\n",
       "   'Equation Number': {'data': '34.3.E22'},\n",
       "   'Similarity': {'data': 0.56273806145065963}},\n",
       "  {'Equation': {'data': '\\\\[\\\\sum_{m_{1}m_{2}m_{3}}\\\\begin{pmatrix}j_{1}&j_{2}&j_{3}\\\\\\\\\\nm_{1}&m_{2}&m_{3}\\\\end{pmatrix}\\\\begin{pmatrix}j_{1}&j_{2}&j_{3}\\\\\\\\\\nm_{1}&m_{2}&m_{3}\\\\end{pmatrix}=1.\\\\]',\n",
       "    'fmt': 'math'},\n",
       "   'Equation Number': {'data': '34.3.E18'},\n",
       "   'Similarity': {'data': 0.56373177439603817}},\n",
       "  {'Equation': {'data': '\\\\[\\\\mathop{Y_{{l_{1}},{m_{1}}}\\\\/}\\\\nolimits\\\\!\\\\left(\\\\theta,\\\\phi\\\\right)\\\\mathop{Y_{{l%\\n_{2}},{m_{2}}}\\\\/}\\\\nolimits\\\\!\\\\left(\\\\theta,\\\\phi\\\\right)=\\\\sum_{l,m}\\\\left(\\\\frac{(2l%\\n_{1}+1)(2l_{2}+1)(2l+1)}{4\\\\pi}\\\\right)^{\\\\frac{1}{2}}\\\\begin{pmatrix}l_{1}&l_{2}&%\\nl\\\\\\\\\\nm_{1}&m_{2}&m\\\\end{pmatrix}{\\\\mathop{Y_{{l},{m}}\\\\/}\\\\nolimits^{*}}\\\\!\\\\left(\\\\theta,%\\n\\\\phi\\\\right)\\\\begin{pmatrix}l_{1}&l_{2}&l\\\\\\\\\\n0&0&0\\\\end{pmatrix},\\\\]',\n",
       "    'fmt': 'math'},\n",
       "   'Equation Number': {'data': '34.3.E20'},\n",
       "   'Similarity': {'data': 0.59901793817614157}},\n",
       "  {'Equation': {'data': '\\\\[\\\\begin{Bmatrix}j_{1}&j_{2}&j_{3}\\\\\\\\\\nl_{1}&l_{2}&l_{3}\\\\end{Bmatrix}=\\\\Delta(j_{1}j_{2}j_{3})\\\\Delta(j_{1}l_{2}l_{3})%\\n\\\\Delta(l_{1}j_{2}l_{3})\\\\Delta(l_{1}l_{2}j_{3})\\\\*\\\\sum_{s}\\\\frac{(-1)^{s}(s+1)!}{%\\n(s-j_{1}-j_{2}-j_{3})!(s-j_{1}-l_{2}-l_{3})!(s-l_{1}-j_{2}-l_{3})!(s-l_{1}-l_{%\\n2}-j_{3})!}\\\\*\\\\frac{1}{(j_{1}+j_{2}+l_{1}+l_{2}-s)!(j_{2}+j_{3}+l_{2}+l_{3}-s)!%\\n(j_{3}+j_{1}+l_{3}+l_{1}-s)!},\\\\]',\n",
       "    'fmt': 'math'},\n",
       "   'Equation Number': {'data': '34.4.E2'},\n",
       "   'Similarity': {'data': 0.61940175596252534}},\n",
       "  {'Equation': {'data': '\\\\[\\\\mathop{P_{l_{1}}\\\\/}\\\\nolimits\\\\!\\\\left(\\\\mathop{\\\\cos\\\\/}\\\\nolimits\\\\theta\\\\right)%\\n\\\\mathop{P_{l_{2}}\\\\/}\\\\nolimits\\\\!\\\\left(\\\\mathop{\\\\cos\\\\/}\\\\nolimits\\\\theta\\\\right)=%\\n\\\\sum_{l}(2l+1)\\\\begin{pmatrix}l_{1}&l_{2}&l\\\\\\\\\\n0&0&0\\\\end{pmatrix}^{2}\\\\mathop{P_{l}\\\\/}\\\\nolimits\\\\!\\\\left(\\\\mathop{\\\\cos\\\\/}%\\n\\\\nolimits\\\\theta\\\\right),\\\\]',\n",
       "    'fmt': 'math'},\n",
       "   'Equation Number': {'data': '34.3.E19'},\n",
       "   'Similarity': {'data': 0.62084787852909518}},\n",
       "  {'Equation': {'data': '\\\\[\\\\sum_{l}(-1)^{l+j}\\\\begin{Bmatrix}j_{1}&j_{2}&l\\\\\\\\\\nj_{1}&j_{2}&j\\\\end{Bmatrix}=\\\\frac{(-1)^{2\\\\mu}}{2j+1},\\\\]',\n",
       "    'fmt': 'math'},\n",
       "   'Equation Number': {'data': '34.5.E20'},\n",
       "   'Similarity': {'data': 0.64272004271235605}},\n",
       "  {'Equation': {'data': '$L_{r}=l_{r}(l_{r}+1),$', 'fmt': 'math'},\n",
       "   'Equation Number': {'data': '34.5.E12b'},\n",
       "   'Similarity': {'data': 0.66073261200113675}},\n",
       "  {'Equation': {'data': '\\\\[\\\\sum_{l}\\\\begin{Bmatrix}j_{1}&j_{2}&l\\\\\\\\\\nj_{2}&j_{1}&j\\\\end{Bmatrix}=0,\\\\]',\n",
       "    'fmt': 'math'},\n",
       "   'Equation Number': {'data': '34.5.E19'},\n",
       "   'Similarity': {'data': 0.6610017938906696}}]}"
      ]
     },
     "execution_count": 13,
     "metadata": {},
     "output_type": "execute_result"
    }
   ],
   "source": [
    "# example to test the query class\n",
    "# q.query(\"34.4.E1\")"
   ]
  },
  {
   "cell_type": "code",
   "execution_count": 14,
   "metadata": {
    "scrolled": false
   },
   "outputs": [
    {
     "name": "stderr",
     "output_type": "stream",
     "text": [
      "Bottle v0.13-dev server starting up (using MyWSGIRefServer())...\n",
      "Listening on http://localhost:8082/\n",
      "Hit Ctrl-C to quit.\n",
      "\n"
     ]
    },
    {
     "data": {
      "text/html": [
       "<!DOCTYPE html><html lang=\"en\"><head><meta charset=\"utf-8\"><meta name=\"viewport\" content=\"width=device-width,initial-scale=1,shrink-to-fit=no\"><meta name=\"theme-color\" content=\"#000000\"><link rel=\"manifest\" href=\"./viz/manifest.json\"><link rel=\"stylesheet\" href=\"./viz/katex.css\"><script>window.SERVER_ADDRESS=\"http://localhost:8082\"</script><title>React App</title><link href=\"./viz/static/css/main.2d3f6c1d.css\" rel=\"stylesheet\"></head><body><noscript>You need to enable JavaScript to run this app.</noscript><div id=\"root\"></div><script type=\"text/javascript\" src=\"./viz/static/js/main.b0e89250.js\"></script></body></html>"
      ],
      "text/plain": [
       "<IPython.core.display.HTML object>"
      ]
     },
     "metadata": {},
     "output_type": "display_data"
    }
   ],
   "source": [
    "from mathviz_hopper.src.table import Table\n",
    "t = Table(q, 8082)\n",
    "t.print_ipython()"
   ]
  },
  {
   "cell_type": "code",
   "execution_count": null,
   "metadata": {},
   "outputs": [],
   "source": []
  }
 ],
 "metadata": {
  "kernelspec": {
   "display_name": "Python 2",
   "language": "python",
   "name": "python2"
  },
  "language_info": {
   "codemirror_mode": {
    "name": "ipython",
    "version": 2
   },
   "file_extension": ".py",
   "mimetype": "text/x-python",
   "name": "python",
   "nbconvert_exporter": "python",
   "pygments_lexer": "ipython2",
   "version": "2.7.10"
  }
 },
 "nbformat": 4,
 "nbformat_minor": 2
}
